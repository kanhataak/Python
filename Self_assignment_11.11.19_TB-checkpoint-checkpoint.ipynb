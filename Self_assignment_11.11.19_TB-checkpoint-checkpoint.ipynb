{
 "cells": [
  {
   "cell_type": "code",
   "execution_count": 1,
   "metadata": {},
   "outputs": [
    {
     "name": "stdout",
     "output_type": "stream",
     "text": [
      "Enter the length : 4\n",
      "Enter the breadth : 5\n",
      "This is rectangle\n"
     ]
    }
   ],
   "source": [
    "# 1.Take values of length and breadth of a rectangle from user and check if it is square or not.\n",
    "\n",
    "a=int(input(\"Enter the length : \"))\n",
    "b=int(input(\"Enter the breadth : \"))\n",
    "if a==b:\n",
    "    print(\"This is square\")\n",
    "else:\n",
    "    print(\"This is rectangle\")"
   ]
  },
  {
   "cell_type": "code",
   "execution_count": 2,
   "metadata": {},
   "outputs": [
    {
     "name": "stdout",
     "output_type": "stream",
     "text": [
      "Enter the first num : 4\n",
      "Enter the second num : 78\n",
      "B is greatest A\n"
     ]
    }
   ],
   "source": [
    "# 2.Take two int values from user and print greatest among them.\n",
    "\n",
    "a=int(input(\"Enter the first num : \"))\n",
    "b=int(input(\"Enter the second num : \"))\n",
    "if a>b:\n",
    "    print(\" A is greatest B\")\n",
    "else:\n",
    "    print(\"B is greatest A\")"
   ]
  },
  {
   "cell_type": "code",
   "execution_count": 1,
   "metadata": {},
   "outputs": [
    {
     "name": "stdout",
     "output_type": "stream",
     "text": [
      "Offer...!\n",
      "If you buy above ₹1000. You will get 10% discount.\n",
      "Please enter quantity of products : 45\n",
      "Your total discount is ₹450.0.\n",
      " You will have to pay is ₹4050.0\n",
      "Thank you for shopping with us\n"
     ]
    }
   ],
   "source": [
    "# 3.A shop will give discount of 10% if the cost of purchased quantity is more than 1000.\n",
    "# Ask user for quantity\n",
    "# Suppose, one unit will cost 100.\n",
    "# Judge and print total cost for user.\n",
    "\n",
    "print('Offer...!\\nIf you buy above ₹1000. You will get 10% discount.')\n",
    "\n",
    "qnt=int(input(\"Please enter quantity of products : \"))\n",
    "\n",
    "if qnt<=0:\n",
    "    print(\"Please enter positive only...\")\n",
    "#     pa=qnt*100\n",
    "    \n",
    "elif qnt<10:\n",
    "    pa=qnt*100\n",
    "    print(\"Does not qualify you for a discount.\")\n",
    "    print(f\"You have purchased {qnt} items.\\nTotal cost is ₹{pa}\")\n",
    "else:\n",
    "# elif qnt>=10:\n",
    "    pa=qnt*100\n",
    "    dis=pa*10/100\n",
    "    total=pa-dis\n",
    "    print(f\"Your total discount is ₹{dis}.\\n You will have to pay is ₹{total}\\nThank you for shopping with us\")\n",
    "# else:\n",
    "#     print(\"Please enter right noumber of item\")"
   ]
  },
  {
   "cell_type": "code",
   "execution_count": 2,
   "metadata": {},
   "outputs": [
    {
     "name": "stdout",
     "output_type": "stream",
     "text": [
      "Enter employee work experience of years : 5\n",
      "Enter salary : 45000\n",
      "Your total salary with 5% bonus include 47250.0\n",
      "you have more than five years experience.\n"
     ]
    }
   ],
   "source": [
    "# 4.A company decided to give bonus of 5% to employee if his/her year of service is more than 5 years.\n",
    "# Ask user for their salary and year of service and print the net bonus amount.\n",
    "\n",
    "yer=int(input(\"Enter employee work experience of years : \"))\n",
    "sal=int(input(\"Enter salary : \"))\n",
    "\n",
    "if yer <5:\n",
    "    print(\"You are not eligible for bonus.\")\n",
    "if yer >=5:\n",
    "    bo=sal*5/100\n",
    "    salary= sal+bo\n",
    "    print(f\"Your total salary with 5% bonus include {salary}\\nyou have more than five years experience.\")\n",
    "\n",
    "else:\n",
    "    print(\"Please Enter requred information.\")\n",
    "\n"
   ]
  },
  {
   "cell_type": "code",
   "execution_count": 3,
   "metadata": {},
   "outputs": [
    {
     "name": "stdout",
     "output_type": "stream",
     "text": [
      "Enter the Marks : 89\n",
      "Congrats ! A\n"
     ]
    }
   ],
   "source": [
    "# 5.A school has following rules for grading system:\n",
    "# a. Below 25 - F\n",
    "# b. 25 to 45 - E\n",
    "# c. 45 to 50 - D\n",
    "# d. 50 to 60 - C\n",
    "# e. 60 to 80 - B\n",
    "# f. Above 80 - A\n",
    "# Ask user to enter marks and print the corresponding grade.\n",
    "\n",
    "a=int(input(\"Enter the Marks : \"))\n",
    "\n",
    "if a > 80 and a <= 100:\n",
    "    print(\"Congrats ! A\")\n",
    "elif a > 60 and a <= 80:\n",
    "    print(\" B\")\n",
    "elif a > 50 and a <= 60:\n",
    "    print(\"C\")\n",
    "elif a > 45 and a <= 50:\n",
    "    print('D') \n",
    "elif a > 25 and a <= 45:\n",
    "    print('E')\n",
    "else:\n",
    "    print('Sorry you are fail ?')"
   ]
  },
  {
   "cell_type": "code",
   "execution_count": 4,
   "metadata": {},
   "outputs": [
    {
     "name": "stdout",
     "output_type": "stream",
     "text": [
      "Enter first persion age : 45\n",
      "Enter second persion age : 12\n",
      "Enter thred persion age : 78\n",
      "Youngest  12\n",
      "Oldest  78\n"
     ]
    }
   ],
   "source": [
    "# 6.Take input of age of 3 people by user and determine oldest and youngest among them.\n",
    "\n",
    "a = int(input(\"Enter first persion age : \"))  \n",
    "b = int(input(\"Enter second persion age : \"))  \n",
    "c = int(input(\"Enter thred persion age : \"))\n",
    "\n",
    "print(\"Youngest \",min(a,b,c))\n",
    "\n",
    "print(\"Oldest \",max(a,b,c))\n",
    "\n",
    "\n",
    "# if a<b and a<c:\n",
    "#     print('A is Youngest B & C')\n",
    "# if b<a and b<c:\n",
    "#     print(\"B is Youngest A & C\")\n",
    "# if c<a and c<b:\n",
    "#     print(\"C is Youngest A & B\")\n",
    "    "
   ]
  },
  {
   "cell_type": "code",
   "execution_count": 5,
   "metadata": {},
   "outputs": [
    {
     "name": "stdout",
     "output_type": "stream",
     "text": [
      "Input : 1 Output:  1 <class 'int'>\n",
      "Input : -1 Output:  1 <class 'int'>\n"
     ]
    }
   ],
   "source": [
    "# 7.Write a program to print absolute vlaue of a number entered by user. E.g.-\n",
    "# INPUT: 1        OUTPUT: 1\n",
    "# INPUT: -1        OUTPUT: 1\n",
    "\n",
    "a=1\n",
    "b=-1\n",
    "print(\"Input : 1 Output: \",abs(a),type(a))\n",
    "print(\"Input : -1 Output: \",abs(b),type(b))"
   ]
  },
  {
   "cell_type": "code",
   "execution_count": 6,
   "metadata": {},
   "outputs": [
    {
     "name": "stdout",
     "output_type": "stream",
     "text": [
      "Enter the year : 4500\n",
      "4500 is a leap year\n"
     ]
    }
   ],
   "source": [
    "\"\"\"\n",
    "10.Write a program to check if a year is leap year or not.\n",
    "If a year is divisible by 4 then it is leap year but if the \n",
    "year is century year like 2000, 1900, 2100 then it must be divisible by 400.\"\"\"\n",
    "\n",
    "year=int(input('Enter the year : '))\n",
    "\n",
    "if year % 4==0:\n",
    "    print(f\"{year} is a leap year\")\n",
    "elif year % 100==0:\n",
    "    print(f\"{year} is not a leap year\")\n",
    "elif year % 400==0:\n",
    "    print(f\"{year} is a leap year\")\n",
    "else:\n",
    "    print(f\"{year} is not a leap year\")"
   ]
  },
  {
   "cell_type": "code",
   "execution_count": 7,
   "metadata": {},
   "outputs": [
    {
     "name": "stdout",
     "output_type": "stream",
     "text": [
      "Enter four number : 45678\n",
      "45678\n",
      "87654\n"
     ]
    }
   ],
   "source": [
    " \"\"\"11.A 4 digit number is entered through keyboard. Write a program to print a new number with \n",
    "    digits reversed as of orignal one. E.g.-\n",
    "INPUT : 1234        OUTPUT : 4321\n",
    "INPUT : 5982        OUTPUT : 2895\"\"\"\n",
    "    \n",
    "n=int(input(\"Enter four number : \"))\n",
    "print(n)\n",
    "n=int(str(n)[::-1])\n",
    "print(n)"
   ]
  },
  {
   "cell_type": "code",
   "execution_count": 8,
   "metadata": {},
   "outputs": [
    {
     "name": "stdout",
     "output_type": "stream",
     "text": [
      "Enter your age : 23\n",
      "Enter your gender m or f : \n",
      "please enter your gender...\n",
      "Enter are you married y or n : n\n",
      "You can work anywhere.\n"
     ]
    }
   ],
   "source": [
    "\n",
    "# 10.Ask user to enter age, sex ( M or F ), marital status ( Y or N ) and then using following rules print their place of service.\n",
    "# if employee is female, then she will work only in urban areas.\n",
    "# if employee is a male and age is in between 20 to 40 then he may work in anywhere\n",
    "# if employee is male and age is in between 40 t0 60 then he will work in urban areas only.\n",
    "# And any other input of age should print \"ERROR\".\n",
    "\n",
    "age=int(input(\"Enter your age : \"))\n",
    "gender=input(\"Enter your gender m or f : \")\n",
    "if gender==\"\":\n",
    "    print(\"please enter your gender...\")\n",
    "mar=input(\"Enter are you married y or n : \")\n",
    "if gender==\"f\":\n",
    "    print(\"She will work only in urban areas.\")\n",
    "    \n",
    "elif age>20 and age<40: \n",
    "    print(\"You can work anywhere.\")\n",
    "elif age>40 and age<60:\n",
    "    print(\"You will work urban areas only.\")\n",
    "else:\n",
    "    print(\"ERROR\")"
   ]
  },
  {
   "cell_type": "code",
   "execution_count": null,
   "metadata": {},
   "outputs": [],
   "source": [
    "# 8.A student will not be allowed to sit in exam if his/her attendence is less than 75%.\n",
    "# Take following input from user\n",
    "# Number of classes held\n",
    "# Number of classes attended.\n",
    "# And print\n",
    "# percentage of class attended\n",
    "# Is student is allowed to sit in exam or not.\n"
   ]
  },
  {
   "cell_type": "code",
   "execution_count": null,
   "metadata": {},
   "outputs": [],
   "source": [
    "# a=\n",
    "# print(a,type(a))\n",
    "# a=int(a)\n",
    "# print(a,type(a))"
   ]
  },
  {
   "cell_type": "code",
   "execution_count": 1,
   "metadata": {},
   "outputs": [
    {
     "name": "stdout",
     "output_type": "stream",
     "text": [
      "Enter the no0\n",
      "finally Result\n"
     ]
    },
    {
     "ename": "ZeroDivisionError",
     "evalue": "division by zero",
     "output_type": "error",
     "traceback": [
      "\u001b[1;31m---------------------------------------------------------------------------\u001b[0m",
      "\u001b[1;31mZeroDivisionError\u001b[0m                         Traceback (most recent call last)",
      "\u001b[1;32m<ipython-input-1-60a4e8627554>\u001b[0m in \u001b[0;36m<module>\u001b[1;34m\u001b[0m\n\u001b[0;32m      1\u001b[0m \u001b[1;32mtry\u001b[0m\u001b[1;33m:\u001b[0m\u001b[1;33m\u001b[0m\u001b[1;33m\u001b[0m\u001b[0m\n\u001b[0;32m      2\u001b[0m     \u001b[0ma\u001b[0m \u001b[1;33m=\u001b[0m\u001b[0mint\u001b[0m\u001b[1;33m(\u001b[0m\u001b[0minput\u001b[0m\u001b[1;33m(\u001b[0m\u001b[1;34m\"Enter the no\"\u001b[0m\u001b[1;33m)\u001b[0m\u001b[1;33m)\u001b[0m\u001b[1;33m\u001b[0m\u001b[1;33m\u001b[0m\u001b[0m\n\u001b[1;32m----> 3\u001b[1;33m     \u001b[0mi\u001b[0m\u001b[1;33m=\u001b[0m\u001b[1;36m5\u001b[0m\u001b[1;33m/\u001b[0m\u001b[0ma\u001b[0m\u001b[1;33m\u001b[0m\u001b[1;33m\u001b[0m\u001b[0m\n\u001b[0m\u001b[0;32m      4\u001b[0m     \u001b[0mprint\u001b[0m\u001b[1;33m(\u001b[0m\u001b[0mi\u001b[0m\u001b[1;33m)\u001b[0m\u001b[1;33m\u001b[0m\u001b[1;33m\u001b[0m\u001b[0m\n\u001b[0;32m      5\u001b[0m \u001b[1;32mfinally\u001b[0m\u001b[1;33m:\u001b[0m\u001b[1;33m\u001b[0m\u001b[1;33m\u001b[0m\u001b[0m\n",
      "\u001b[1;31mZeroDivisionError\u001b[0m: division by zero"
     ]
    }
   ],
   "source": [
    "try:\n",
    "    a =int(input(\"Enter the no\"))\n",
    "    i=5/a\n",
    "    print(i)\n",
    "\n",
    "finally:\n",
    "    print('finally Result')\n",
    "    "
   ]
  },
  {
   "cell_type": "code",
   "execution_count": null,
   "metadata": {},
   "outputs": [],
   "source": []
  }
 ],
 "metadata": {
  "kernelspec": {
   "display_name": "Python 3",
   "language": "python",
   "name": "python3"
  },
  "language_info": {
   "codemirror_mode": {
    "name": "ipython",
    "version": 3
   },
   "file_extension": ".py",
   "mimetype": "text/x-python",
   "name": "python",
   "nbconvert_exporter": "python",
   "pygments_lexer": "ipython3",
   "version": "3.7.4"
  }
 },
 "nbformat": 4,
 "nbformat_minor": 2
}
