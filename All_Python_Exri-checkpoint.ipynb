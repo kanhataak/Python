{
 "cells": [
  {
   "cell_type": "code",
   "execution_count": 1,
   "metadata": {},
   "outputs": [
    {
     "name": "stdout",
     "output_type": "stream",
     "text": [
      "[1, 2, 3, 4, 5, 7, 8, 9] <class 'list'>\n",
      "{1, 2, 3, 4, 5, 7, 8, 9} <class 'set'>\n",
      "[1, 2, 3, 4, 5, 7, 8, 9] <class 'list'>\n"
     ]
    }
   ],
   "source": [
    "# set is unordered collocation of data item/type.\n",
    "# and remove the duplice its store olny unique value\n",
    "# set is mutable\n",
    "s=({1,2,3,4,5,5,7,8,7,9})\n",
    "li=list(s)\n",
    "print(li,type(li))\n",
    "print(s,type(s))\n",
    "l=list(s)\n",
    "print(l,type(l))\n"
   ]
  },
  {
   "cell_type": "code",
   "execution_count": 2,
   "metadata": {},
   "outputs": [
    {
     "name": "stdout",
     "output_type": "stream",
     "text": [
      "{1, 2, 3, 4, 5, 7, 8, 9, 10}\n",
      "None\n",
      "{8, 9, 2, 5} length of set  4\n"
     ]
    }
   ],
   "source": [
    "s=({1,2,3,4,5,5,7,8,7,9})\n",
    "s.add(10)\n",
    "print(s)\n",
    "print(s.clear()) #we also have clear() method. Which will removes all the elements from the sets.\n",
    "s.add(2)\n",
    "s.add(5)\n",
    "s.add(8)\n",
    "s.add(9)\n",
    "print(s,\"length of set \",len(s))"
   ]
  },
  {
   "cell_type": "code",
   "execution_count": 3,
   "metadata": {},
   "outputs": [
    {
     "name": "stdout",
     "output_type": "stream",
     "text": [
      "{'c', 'Java', 'Ruby', 'C++'} 92478680\n",
      "{'c', 'Python', 'C#', 'Java', 'Java script', 'Ruby', 'C++'} 92478680\n"
     ]
    }
   ],
   "source": [
    "# How to update an elements....\n",
    "# set is mutable collection type so it will perform the updation inplace.\n",
    "# To update the set with new values we have a method called update().\n",
    "sa=({'c','C++','Java','Ruby'})\n",
    "print(sa,id(sa))\n",
    "sa.update({'Python','Java script','C#'})\n",
    "print(sa,id(sa))"
   ]
  },
  {
   "cell_type": "code",
   "execution_count": 4,
   "metadata": {},
   "outputs": [
    {
     "name": "stdout",
     "output_type": "stream",
     "text": [
      "92478800\n",
      "92478920\n"
     ]
    }
   ],
   "source": [
    "# How to copy set...\n",
    "# similar to list and tuple we can use copy()method with set as well. By default copy method do shallow copy.\n",
    "\n",
    "s={1,2,3,4,5,6}\n",
    "s1=s.copy()\n",
    "print(id(s))\n",
    "print(id(s1))"
   ]
  },
  {
   "cell_type": "code",
   "execution_count": 5,
   "metadata": {},
   "outputs": [
    {
     "name": "stdout",
     "output_type": "stream",
     "text": [
      "[1, 2, 3, 4, 6, 4]\n",
      "{1, 2, 3, 5, 6}\n"
     ]
    }
   ],
   "source": [
    "# Removing elements...\n",
    "#List have ordering so we can remove elements by position. for example--- list_item[0]\n",
    "# Can be removed specific items using remove() method.\n",
    "list_item=[1,2,3,4,5,6,4]\n",
    "list_item.remove(5)\n",
    "print(list_item)\n",
    "# If item which we trying to remove is not present will get keyError.\n",
    "# To avoid KeyError Exception we can uses.\n",
    "s={1,2,3,10,5,6}\n",
    "s.discard(10)\n",
    "print(s)\n"
   ]
  },
  {
   "cell_type": "code",
   "execution_count": 6,
   "metadata": {},
   "outputs": [
    {
     "name": "stdout",
     "output_type": "stream",
     "text": [
      "{1, 2, 3, 5, 6, 10}\n"
     ]
    }
   ],
   "source": [
    "# it will not throw an exception if item not found.\n",
    "s={1,2,3,10,5,6}\n",
    "s.discard(9)\n",
    "print(s)"
   ]
  },
  {
   "cell_type": "code",
   "execution_count": 7,
   "metadata": {},
   "outputs": [
    {
     "name": "stdout",
     "output_type": "stream",
     "text": [
      "{2, 3, 5, 6}\n",
      "{3, 5, 6}\n"
     ]
    }
   ],
   "source": [
    "# Removing Elements cont.....\n",
    "# we also hsve pop() method.\n",
    "#   s.pop()\n",
    "s={1, 2, 3, 5, 6}\n",
    "s.pop()\n",
    "print(s)\n",
    "s.pop()\n",
    "print(s)"
   ]
  },
  {
   "cell_type": "code",
   "execution_count": 8,
   "metadata": {},
   "outputs": [],
   "source": [
    "# s=set()\n",
    "# print(type(s))\n",
    "# s.discard(10)\n",
    "# print(s)\n",
    "# s=set()\n",
    "# s.pop()\n",
    "# print(s)"
   ]
  },
  {
   "cell_type": "code",
   "execution_count": 9,
   "metadata": {},
   "outputs": [
    {
     "name": "stdout",
     "output_type": "stream",
     "text": [
      "{'google', 'TCS'}\n",
      "{'Java', 'Python', 'C++'}\n"
     ]
    }
   ],
   "source": [
    "s={'google','Apple','TCS'}\n",
    "s1={'Python',\"Java\",'C++','Apple'}\n",
    "s2=s.difference(s1)\n",
    "print(s2)\n",
    "s3=s1.difference(s)\n",
    "print(s3)"
   ]
  },
  {
   "cell_type": "code",
   "execution_count": 10,
   "metadata": {},
   "outputs": [
    {
     "name": "stdout",
     "output_type": "stream",
     "text": [
      "{'google', 'TCS'}\n",
      "{'Java', 'Python', 'Apple', 'C++'}\n"
     ]
    }
   ],
   "source": [
    "s={'google','Apple','TCS'}\n",
    "s1={'Python',\"Java\",'C++','Apple'}\n",
    "s.difference_update(s1)\n",
    "print(s)\n",
    "s1.difference_update(s)\n",
    "print(s1)"
   ]
  },
  {
   "cell_type": "code",
   "execution_count": 11,
   "metadata": {},
   "outputs": [
    {
     "name": "stdout",
     "output_type": "stream",
     "text": [
      "{'Apple'}\n"
     ]
    }
   ],
   "source": [
    "s={'google','Apple','TCS'}\n",
    "s1={'Python',\"Java\",'C++','Apple'}\n",
    "x=s.intersection(s1)\n",
    "print(x)"
   ]
  },
  {
   "cell_type": "code",
   "execution_count": 12,
   "metadata": {},
   "outputs": [
    {
     "name": "stdout",
     "output_type": "stream",
     "text": [
      "{'Apple'}\n"
     ]
    }
   ],
   "source": [
    "s={'google','Apple','TCS'}\n",
    "s1={'Python',\"Java\",'C++','Apple'}\n",
    "s.intersection_update(s1)\n",
    "print(s)"
   ]
  },
  {
   "cell_type": "code",
   "execution_count": 13,
   "metadata": {},
   "outputs": [
    {
     "name": "stdout",
     "output_type": "stream",
     "text": [
      "1931765056\n",
      "1931765056\n"
     ]
    }
   ],
   "source": [
    "a=10\n",
    "A=10\n",
    "print(id(a))\n",
    "print(id(A))"
   ]
  },
  {
   "cell_type": "code",
   "execution_count": 14,
   "metadata": {},
   "outputs": [
    {
     "name": "stdout",
     "output_type": "stream",
     "text": [
      "1\n"
     ]
    }
   ],
   "source": [
    "print(9%4)"
   ]
  },
  {
   "cell_type": "code",
   "execution_count": 15,
   "metadata": {},
   "outputs": [
    {
     "name": "stdout",
     "output_type": "stream",
     "text": [
      "0\n",
      "0.4444444444444444\n"
     ]
    }
   ],
   "source": [
    "print(4//9)\n",
    "print(4/9)"
   ]
  },
  {
   "cell_type": "code",
   "execution_count": 16,
   "metadata": {},
   "outputs": [
    {
     "name": "stdout",
     "output_type": "stream",
     "text": [
      "16\n",
      "256\n"
     ]
    }
   ],
   "source": [
    "print(2**4)\n",
    "print(4**4)"
   ]
  },
  {
   "cell_type": "code",
   "execution_count": 17,
   "metadata": {},
   "outputs": [
    {
     "name": "stdout",
     "output_type": "stream",
     "text": [
      "10\n"
     ]
    }
   ],
   "source": [
    "# =, +=, -=, * =, /=, %=, //=, **=\n",
    "a=5\n",
    "a-=-5\n",
    "print(a)"
   ]
  },
  {
   "cell_type": "code",
   "execution_count": 18,
   "metadata": {},
   "outputs": [
    {
     "name": "stdout",
     "output_type": "stream",
     "text": [
      "False\n",
      "True\n",
      "True\n",
      "False\n"
     ]
    }
   ],
   "source": [
    "# ==, !=, >, >=, <, <=\n",
    "print(5!=5)\n",
    "print(5>=5)\n",
    "print(5<=5)\n",
    "print(5<4)"
   ]
  },
  {
   "cell_type": "code",
   "execution_count": 19,
   "metadata": {},
   "outputs": [
    {
     "name": "stdout",
     "output_type": "stream",
     "text": [
      "[10, 20, 30] 95270112 1931765056\n",
      "[5, 20, 30] 95270112 1931764976\n"
     ]
    }
   ],
   "source": [
    "a = [10,20,30]\n",
    "print(a,id(a),id(a[0]))\n",
    "a[0] = 5\n",
    "print(a,id(a),id(a[0]))\n"
   ]
  },
  {
   "cell_type": "code",
   "execution_count": 20,
   "metadata": {},
   "outputs": [
    {
     "name": "stdout",
     "output_type": "stream",
     "text": [
      "[1, 2, 3] [1, 2, 3]\n",
      "92870616 92870816\n",
      "True\n",
      "False\n"
     ]
    }
   ],
   "source": [
    "# List is Mutable\n",
    "a = [1,2,3]\n",
    "b = [1,2,3]\n",
    "\n",
    "print(a,b)\n",
    "print(id(a),id(b))\n",
    "\n",
    "print(a==b)\n",
    "print(a is b)"
   ]
  },
  {
   "cell_type": "code",
   "execution_count": 21,
   "metadata": {},
   "outputs": [
    {
     "name": "stdout",
     "output_type": "stream",
     "text": [
      "5 5\n",
      "1931764976 1931764976 1931764976\n",
      "True\n",
      "True\n"
     ]
    }
   ],
   "source": [
    "# Numbers are immutable\n",
    "a = 5\n",
    "b = 5\n",
    "\n",
    "print(a,b)\n",
    "print(id(a),id(b),id(5))\n",
    "\n",
    "print(a == b)\n",
    "print(a is b)"
   ]
  },
  {
   "cell_type": "code",
   "execution_count": 22,
   "metadata": {},
   "outputs": [
    {
     "name": "stdout",
     "output_type": "stream",
     "text": [
      "{1, 2, 3} {1, 2, 3}\n",
      "95416488 95417088\n",
      "True\n",
      "False\n"
     ]
    }
   ],
   "source": [
    "# List is Mutable\n",
    "a = {1,2,3}\n",
    "b = {1,2,3}\n",
    "\n",
    "print(a,b)\n",
    "print(id(a),id(b))\n",
    "\n",
    "print(a==b)\n",
    "print(a is b)"
   ]
  },
  {
   "cell_type": "code",
   "execution_count": 23,
   "metadata": {},
   "outputs": [
    {
     "name": "stdout",
     "output_type": "stream",
     "text": [
      "{1: 'p', 2: 'c', 3: 'e'} {1: 'p', 2: 'c', 3: 'e'}\n",
      "95433232 95435104\n",
      "True\n",
      "False\n"
     ]
    }
   ],
   "source": [
    "# List is Mutable\n",
    "a = {1:'p',2:'c',3:'e'}\n",
    "b = {1:'p',2:'c',3:'e'}\n",
    "\n",
    "print(a,b)\n",
    "print(id(a),id(b))\n",
    "\n",
    "print(a==b)\n",
    "print(a is b)"
   ]
  },
  {
   "cell_type": "code",
   "execution_count": 24,
   "metadata": {},
   "outputs": [
    {
     "name": "stdout",
     "output_type": "stream",
     "text": [
      "python python\n",
      "54812096 54812096\n",
      "True\n",
      "True\n"
     ]
    }
   ],
   "source": [
    "a=\"python\"\n",
    "b=\"python\"\n",
    "\n",
    "print(a,b)\n",
    "print(id(a),id(b))\n",
    "\n",
    "print(a==b)\n",
    "print(a is b)"
   ]
  },
  {
   "cell_type": "markdown",
   "metadata": {},
   "source": [
    "#  for loop"
   ]
  },
  {
   "cell_type": "code",
   "execution_count": 25,
   "metadata": {},
   "outputs": [
    {
     "name": "stdout",
     "output_type": "stream",
     "text": [
      "13500\n"
     ]
    }
   ],
   "source": [
    "exp= [1200,4500,7800]\n",
    "total =0\n",
    "for i in exp:\n",
    "    total = total + i\n",
    "print(total)"
   ]
  },
  {
   "cell_type": "code",
   "execution_count": 26,
   "metadata": {},
   "outputs": [
    {
     "name": "stdout",
     "output_type": "stream",
     "text": [
      "Month 1, expense: 1200\n",
      "Month 2, expense: 4500\n",
      "Month 3, expense: 7800\n",
      "Total exp:  13500\n"
     ]
    }
   ],
   "source": [
    "exps= [1200,4500,7800]\n",
    "total =0\n",
    "for i in range(len(exps)):\n",
    "    ex=exps[i]\n",
    "    print(f'Month {i+1}, expense: {ex}')\n",
    "    total -=-ex\n",
    "print('Total exp: ',total)"
   ]
  },
  {
   "cell_type": "code",
   "execution_count": 27,
   "metadata": {},
   "outputs": [
    {
     "name": "stdout",
     "output_type": "stream",
     "text": [
      "Not Found\n",
      "Not Found\n",
      "find\n"
     ]
    }
   ],
   "source": [
    "language=['C','C++','Python','C#','Java']\n",
    "findlang='Python'\n",
    "for i in language:\n",
    "    if i == findlang:\n",
    "        print(\"find\")\n",
    "        break\n",
    "    else:\n",
    "        print('Not Found')"
   ]
  },
  {
   "cell_type": "code",
   "execution_count": 28,
   "metadata": {},
   "outputs": [
    {
     "name": "stdout",
     "output_type": "stream",
     "text": [
      "0 2 4 6 8 10 Even \n",
      "1 3 5 7 9 Odd\n",
      "1 3 5 7 9 Odd \n",
      "0 2 4 6 8 10 Even\n"
     ]
    }
   ],
   "source": [
    "# even num\n",
    "for i in range(11):\n",
    "    if i%2==0:\n",
    "        print(i,end=\" \")\n",
    "print(\"Even \")\n",
    "\n",
    "# Odd num\n",
    "for i in range(11):\n",
    "    if i% 2==1:\n",
    "        print(i,end=\" \")\n",
    "print(\"Odd\") \n",
    "\n",
    "# Odd num\n",
    "for i in range(11):\n",
    "    if i%2==0:\n",
    "        continue\n",
    "    print(i,end=\" \")\n",
    "print(\"Odd \")\n",
    "\n",
    "# Odd num\n",
    "for i in range(11):\n",
    "    if i% 2==1:\n",
    "        continue\n",
    "    print(i,end=\" \")\n",
    "print(\"Even\")"
   ]
  },
  {
   "cell_type": "code",
   "execution_count": 29,
   "metadata": {},
   "outputs": [
    {
     "name": "stdout",
     "output_type": "stream",
     "text": [
      "four is find\n",
      "four is find\n",
      "four is find\n"
     ]
    }
   ],
   "source": [
    "lils=[1,2,3,4,5,6,7]\n",
    "fin=4\n",
    "for i in lils:\n",
    "    if i ==fin:\n",
    "        break\n",
    "    print(\"four is find\")\n",
    "else:\n",
    "    print(\"four is not find\")"
   ]
  },
  {
   "cell_type": "code",
   "execution_count": 30,
   "metadata": {},
   "outputs": [
    {
     "name": "stdout",
     "output_type": "stream",
     "text": [
      "[9, 8, 7, 6, 5, 4, 3, 2, 1]\n"
     ]
    }
   ],
   "source": [
    "l=[1,2,3,4,5,6,7,8,9]\n",
    "\n",
    "print(l[::-1])"
   ]
  },
  {
   "cell_type": "code",
   "execution_count": 31,
   "metadata": {},
   "outputs": [
    {
     "name": "stdout",
     "output_type": "stream",
     "text": [
      "[3, 5]\n"
     ]
    }
   ],
   "source": [
    "l=[1,2,3,4,5,6,7,8,9]\n",
    "print(l[2:6:2])"
   ]
  },
  {
   "cell_type": "code",
   "execution_count": 32,
   "metadata": {},
   "outputs": [
    {
     "name": "stdout",
     "output_type": "stream",
     "text": [
      "[9]\n",
      "[9, 8, 7, 6, 5, 4, 3, 2, 1]\n",
      "[1, 2, 3, 4, 5, 6, 7, 8, 9]\n"
     ]
    }
   ],
   "source": [
    "l=[1,2,3,4,5,6,7,8,9]\n",
    "print(l[-1::])\n",
    "print(l[::-1])\n",
    "print(l[::])\n"
   ]
  },
  {
   "cell_type": "code",
   "execution_count": 33,
   "metadata": {},
   "outputs": [
    {
     "name": "stdout",
     "output_type": "stream",
     "text": [
      "Enter the num 5\n",
      "enter multiple of 7: 14\n",
      "14 is a multiple of 7\n"
     ]
    }
   ],
   "source": [
    "n=int(input(\"Enter the num \"))\n",
    "while n%7 !=0:\n",
    "    n=int(input(\"enter multiple of 7: \"))\n",
    "else:\n",
    "    print(\"%d is a multiple of 7\"%n)"
   ]
  },
  {
   "cell_type": "code",
   "execution_count": 34,
   "metadata": {},
   "outputs": [
    {
     "name": "stdout",
     "output_type": "stream",
     "text": [
      "total is  191\n"
     ]
    }
   ],
   "source": [
    "l=[23,45,78,45]\n",
    "total=0\n",
    "for item in l:\n",
    "    total-=-item\n",
    "print(\"total is \",total)"
   ]
  },
  {
   "cell_type": "code",
   "execution_count": 35,
   "metadata": {},
   "outputs": [
    {
     "name": "stdout",
     "output_type": "stream",
     "text": [
      "\n",
      "*\n",
      "**\n",
      "***\n",
      "****\n"
     ]
    }
   ],
   "source": [
    "def star(n):\n",
    "    for i in range(n):\n",
    "        print(\"*\"*i)\n",
    "        \n",
    "o=star(5)"
   ]
  },
  {
   "cell_type": "code",
   "execution_count": 36,
   "metadata": {},
   "outputs": [],
   "source": [
    "#Write a function called calculate_area that takes base and height as an input and \n",
    "#returns and area of a triangle. Equation of an area of a triangle is\n",
    "# area = (1/2)*base*height\n",
    "def triangle(base,height):\n",
    "    area=(1/2)*base*height\n",
    "    return area\n",
    "\n",
    "o=triangle(10,12)"
   ]
  },
  {
   "cell_type": "code",
   "execution_count": 61,
   "metadata": {},
   "outputs": [
    {
     "name": "stdout",
     "output_type": "stream",
     "text": [
      "Radius  4\n",
      "Height  1\n",
      "50.24\n"
     ]
    }
   ],
   "source": [
    "# we can set defult value in function argument becuse \n",
    "# if user is not enter enter the radius and height it will be get defult value.\n",
    "def cylinder(radius,height=1):\n",
    "    print(\"Radius \",radius)\n",
    "    print(\"Height \",height)\n",
    "    volume=3.14*(radius**2)*height\n",
    "    return volume\n",
    "r=4\n",
    "# h=10\n",
    "print(cylinder(radius=r))"
   ]
  },
  {
   "cell_type": "code",
   "execution_count": 68,
   "metadata": {},
   "outputs": [],
   "source": [
    "# import math\n",
    "# dir(math)"
   ]
  },
  {
   "cell_type": "code",
   "execution_count": 63,
   "metadata": {},
   "outputs": [
    {
     "data": {
      "text/plain": [
       "6.708203932499369"
      ]
     },
     "execution_count": 63,
     "metadata": {},
     "output_type": "execute_result"
    }
   ],
   "source": [
    "math.sqrt(45)"
   ]
  },
  {
   "cell_type": "code",
   "execution_count": 78,
   "metadata": {},
   "outputs": [
    {
     "name": "stdout",
     "output_type": "stream",
     "text": [
      "    January 2020\n",
      "\n",
      "Mo Tu We Th Fr Sa Su\n",
      "\n",
      "       1  2  3  4  5\n",
      "\n",
      " 6  7  8  9 10 11 12\n",
      "\n",
      "13 14 15 16 17 18 19\n",
      "\n",
      "20 21 22 23 24 25 26\n",
      "\n",
      "27 28 29 30 31\n",
      "\n",
      "\n"
     ]
    }
   ],
   "source": [
    "import calendar\n",
    "# dir(calendar)\n",
    "jan=calendar.month(2020,1, w=2, l=2)\n",
    "print(jan)"
   ]
  },
  {
   "cell_type": "code",
   "execution_count": 70,
   "metadata": {},
   "outputs": [
    {
     "data": {
      "text/plain": [
       "False"
      ]
     },
     "execution_count": 70,
     "metadata": {},
     "output_type": "execute_result"
    }
   ],
   "source": [
    "calendar.isleap(2014)"
   ]
  },
  {
   "cell_type": "code",
   "execution_count": 79,
   "metadata": {},
   "outputs": [
    {
     "name": "stdout",
     "output_type": "stream",
     "text": [
      "{'china': 143, 'India': 136, 'USA': 32, 'Pakistan': 21}\n"
     ]
    }
   ],
   "source": [
    "d={'china':143,'India':136,'USA':32,'Pakistan':21}\n",
    "print(d)"
   ]
  },
  {
   "cell_type": "code",
   "execution_count": 81,
   "metadata": {},
   "outputs": [
    {
     "data": {
      "text/plain": [
       "{'china': 143, 'India': 136, 'USA': 32, 'Pakistan': 21, 'shri Lanka': 19}"
      ]
     },
     "execution_count": 81,
     "metadata": {},
     "output_type": "execute_result"
    }
   ],
   "source": [
    "d[\"shri Lanka\"]=19\n",
    "d"
   ]
  },
  {
   "cell_type": "code",
   "execution_count": 85,
   "metadata": {},
   "outputs": [
    {
     "data": {
      "text/plain": [
       "dict_keys(['china', 'India', 'USA', 'Pakistan', 'shri Lanka'])"
      ]
     },
     "execution_count": 85,
     "metadata": {},
     "output_type": "execute_result"
    }
   ],
   "source": [
    "d.keys()"
   ]
  },
  {
   "cell_type": "code",
   "execution_count": 84,
   "metadata": {},
   "outputs": [
    {
     "data": {
      "text/plain": [
       "dict_values([143, 136, 32, 21, 19])"
      ]
     },
     "execution_count": 84,
     "metadata": {},
     "output_type": "execute_result"
    }
   ],
   "source": [
    "d.values()"
   ]
  },
  {
   "cell_type": "code",
   "execution_count": null,
   "metadata": {},
   "outputs": [],
   "source": [
    "# file Handling\n",
    "# opens file for reading only. Throws error if file does not exist.\n",
    "f=open('filename.txt','r')\n",
    "# open file for writing only. If file doesnt exist then it will create new one.\n",
    "# if ir exist then it will overwrite it.\n",
    "f=open('filename.txt','w')\n",
    "# ooens file for reading and writing\n",
    "f=open('filename.txt','r+')\n",
    "# opens file for reading and writing. If file doesnt exit then\n",
    "# it will create new one. If ir exist then it will overwrite it.\n",
    "f=open('filename.txt','w+')\n",
    "# opens a file in append mode. Whatever you write to file will get appended and\n",
    "# originai content will not be overwritten"
   ]
  }
 ],
 "metadata": {
  "kernelspec": {
   "display_name": "Python 3",
   "language": "python",
   "name": "python3"
  },
  "language_info": {
   "codemirror_mode": {
    "name": "ipython",
    "version": 3
   },
   "file_extension": ".py",
   "mimetype": "text/x-python",
   "name": "python",
   "nbconvert_exporter": "python",
   "pygments_lexer": "ipython3",
   "version": "3.7.4"
  }
 },
 "nbformat": 4,
 "nbformat_minor": 2
}
