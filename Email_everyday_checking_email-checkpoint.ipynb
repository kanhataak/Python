{
 "cells": [
  {
   "cell_type": "code",
   "execution_count": 1,
   "metadata": {},
   "outputs": [],
   "source": [
    "# import pandas as pd\n",
    "# import matplotlib.pyplot as plt\n",
    "# df = pd.read_csv(r\"C:\\Users\\MR.INDIA\\Desktop\\Machine Learning\\DataSets\\iris.csv\")\n",
    "# df"
   ]
  },
  {
   "cell_type": "code",
   "execution_count": 2,
   "metadata": {},
   "outputs": [],
   "source": [
    "# import seaborn as sn"
   ]
  },
  {
   "cell_type": "code",
   "execution_count": 3,
   "metadata": {},
   "outputs": [],
   "source": [
    "# sn.pairplot(df,hue = 'variety')"
   ]
  },
  {
   "cell_type": "code",
   "execution_count": 4,
   "metadata": {},
   "outputs": [],
   "source": [
    "# what does this list comprehension create?\n",
    "# num=[i*2 for i in range(10)]\n",
    "# print(num)"
   ]
  },
  {
   "cell_type": "code",
   "execution_count": 5,
   "metadata": {},
   "outputs": [],
   "source": [
    "# memory consume compared\n",
    "# stri=\"1,2,3,4,5,6,7,8,9\"\n",
    "# lst=[1,2,3,4,5,6,7,8,9]\n",
    "# tple=1,2,3,4,5,6,7,8,9\n",
    "# print(stri.__sizeof__())\n",
    "# print(lst.__sizeof__())\n",
    "# print(tple.__sizeof__())"
   ]
  },
  {
   "cell_type": "code",
   "execution_count": 6,
   "metadata": {},
   "outputs": [],
   "source": [
    "# while (1):\n",
    "#     print(\"I Love You\")"
   ]
  },
  {
   "cell_type": "code",
   "execution_count": 7,
   "metadata": {},
   "outputs": [],
   "source": [
    "# lst=[\"jack\",'robin','dick','hood']\n",
    "# for name in lst:\n",
    "#     if \"bin\" in name:\n",
    "#         continue\n",
    "#     print(name)"
   ]
  },
  {
   "cell_type": "code",
   "execution_count": 8,
   "metadata": {},
   "outputs": [],
   "source": [
    "# lst=['1','2','3','4','5','6','7','8',\"9\"]\n",
    "# for num in lst:\n",
    "#     if '2' in num:\n",
    "#         continue\n",
    "#     print(num)"
   ]
  },
  {
   "cell_type": "code",
   "execution_count": 9,
   "metadata": {},
   "outputs": [],
   "source": [
    "# me: i'm an expert in machine learning\n",
    "# interviewer: whats 9+10\n",
    "# me: its 3\n",
    "# interviewer:Not even close. its 19\n",
    "# me: its 16\n",
    "# interviewer: wrong. its 19\n",
    "# me: its 18\n",
    "# interviewer: NO. its 19\n",
    "# me: its 19\n",
    "# interviewer: you'ar hired."
   ]
  },
  {
   "cell_type": "code",
   "execution_count": 10,
   "metadata": {},
   "outputs": [],
   "source": [
    "# import re\n",
    "# strig='abc@d.in'"
   ]
  },
  {
   "cell_type": "code",
   "execution_count": 11,
   "metadata": {},
   "outputs": [],
   "source": [
    "# p=re.search(\"\\w+\\.*\\w+@\\w+\\.\\w+\",strig)\n",
    "# if p:\n",
    "#     print(\"Email found\",p.group())\n",
    "# else:\n",
    "#     print(\"Email not found\")"
   ]
  },
  {
   "cell_type": "code",
   "execution_count": 12,
   "metadata": {},
   "outputs": [],
   "source": [
    "# import smtplib\n",
    "# conn = smtplib.SMTP('smtp.gmail.com',587)\n",
    "# conn.ehlo()\n",
    "# conn.starttls()\n",
    "# conn.login(\"kanhataak97@gmail.com\",'rajasthan#97')\n",
    "# conn.sendmail('kanhataak97@gmail.com','dunnytestjan@gmail.com','Subject: Email demo \\n\\n This mail is only for sending demo')\n",
    "# conn.quit()"
   ]
  },
  {
   "cell_type": "code",
   "execution_count": 13,
   "metadata": {},
   "outputs": [],
   "source": [
    "# if u dont share problems with anyone yr mentally strong"
   ]
  },
  {
   "cell_type": "code",
   "execution_count": 14,
   "metadata": {},
   "outputs": [],
   "source": [
    "# import imaplib,getpass\n",
    "\n",
    "# imap_host = 'imap.gmail.com'\n",
    "# imap_user = 'kanhataak@gmail.com'\n",
    "# imap_pass = 'rajasthan##97'\n",
    "\n",
    "# # connect to host using SSL\n",
    "# imap = imaplib.IMAP4_SSL(imap_host)\n",
    "\n",
    "## login to server"
   ]
  },
  {
   "cell_type": "code",
   "execution_count": 23,
   "metadata": {},
   "outputs": [],
   "source": [
    "import smtplib\n",
    "import time\n",
    "import imaplib\n",
    "import email\n",
    "auto_email= '@gmail.com'\n",
    "from_email= 'kanhataak'+ auto_email\n",
    "from_pass= 'rajasthan##000'\n",
    "SMTP_SERVER = \"imap.gmail.com\"\n",
    "smtp_port= '993'\n",
    "def readmail():\n",
    "    try:\n",
    "        mail = imaplib.IMAP4_SSL(SMTP_SERVER)\n",
    "        mail.login(from_email,from_pass)\n",
    "    \n",
    "        mail.select('inbox')\n",
    "    \n",
    "        type, data = mail.search(None, 'ALL')\n",
    "        mail_ids = data[0]\n",
    "        id_list = mail_ids.split()\n",
    "    \n",
    "        first_email_id = int(id_list[0])\n",
    "        latest_email_id = int(id_list[-1])\n",
    "\n",
    "#     typ, data = mail.fetch(i, '(RFC822)' ) # i is the email id\n",
    "        for i in range(latest_email_id,first_email_id, -1):\n",
    "            typ, data = mail.fetch(i, '(RFC822)' )\n",
    "\n",
    "            for response_part in data:\n",
    "                if isinstance(response_part, tuple):\n",
    "                    msg = email.message_from_string(response_part[1])\n",
    "                    email_subject = msg['subject']\n",
    "                    email_from = msg['from']\n",
    "                    print('From : ' + email_from + '\\n')\n",
    "                    print('Subject : ' + email_subject + '\\n')\n",
    "    except Exception as e:\n",
    "        print(str(e))\n"
   ]
  },
  {
   "cell_type": "code",
   "execution_count": 24,
   "metadata": {},
   "outputs": [],
   "source": [
    "\n",
    "\n",
    "import smtplib\n",
    "import time\n",
    "import imaplib\n",
    "import email\n",
    "\n",
    "\n",
    "ORG_EMAIL   = \"@gmail.com\"\n",
    "FROM_EMAIL  = \"kanhataak\" + ORG_EMAIL\n",
    "FROM_PWD    = \"rajasthan##000\"\n",
    "SMTP_SERVER = \"imap.gmail.com\"\n",
    "SMTP_PORT   = 993\n",
    "\n",
    "# def readmail():\n",
    "    # mail reading logic will come here !!\n",
    "\n",
    "# -------------------------------------------------\n",
    "#\n",
    "# Utility to read email from Gmail Using Python\n",
    "#\n",
    "# ------------------------------------------------\n",
    "\n",
    "def read_email_from_gmail():\n",
    "    try:\n",
    "        mail = imaplib.IMAP4_SSL(SMTP_SERVER)\n",
    "        mail.login(FROM_EMAIL,FROM_PWD)\n",
    "        mail.select('inbox')\n",
    "\n",
    "        type, data = mail.search(None, 'ALL')\n",
    "        mail_ids = data[0]\n",
    "\n",
    "        id_list = mail_ids.split()   \n",
    "        first_email_id = int(id_list[0])\n",
    "        latest_email_id = int(id_list[-1])\n",
    "\n",
    "\n",
    "        for i in range(latest_email_id,first_email_id, -1):\n",
    "            typ, data = mail.fetch(i, '(RFC822)' )\n",
    "\n",
    "            for response_part in data:\n",
    "                if isinstance(response_part, tuple):\n",
    "                    msg = email.message_from_string(response_part[1])\n",
    "                    email_subject = msg['subject']\n",
    "                    email_from = msg['from']\n",
    "                    print('From : ' + email_from + '\\n')\n",
    "                    print('Subject : ' + email_subject + '\\n')\n",
    "\n",
    "    except Exception as e:\n",
    "        print(str(e))\n"
   ]
  },
  {
   "cell_type": "code",
   "execution_count": null,
   "metadata": {},
   "outputs": [],
   "source": []
  }
 ],
 "metadata": {
  "kernelspec": {
   "display_name": "Python 3",
   "language": "python",
   "name": "python3"
  },
  "language_info": {
   "codemirror_mode": {
    "name": "ipython",
    "version": 3
   },
   "file_extension": ".py",
   "mimetype": "text/x-python",
   "name": "python",
   "nbconvert_exporter": "python",
   "pygments_lexer": "ipython3",
   "version": "3.7.4"
  }
 },
 "nbformat": 4,
 "nbformat_minor": 2
}
