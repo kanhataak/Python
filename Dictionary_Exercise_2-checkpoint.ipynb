{
 "cells": [
  {
   "cell_type": "code",
   "execution_count": 1,
   "metadata": {},
   "outputs": [
    {
     "name": "stdout",
     "output_type": "stream",
     "text": [
      "20\n"
     ]
    }
   ],
   "source": [
    "d={\"a\":20,'b':30,'c':40}\n",
    "print(d['a'])"
   ]
  },
  {
   "cell_type": "code",
   "execution_count": 20,
   "metadata": {},
   "outputs": [
    {
     "name": "stdout",
     "output_type": "stream",
     "text": [
      "{'l': [11, 12, 13], 't': (4, 5, 6), 6: 'Python', 'di': {1, 2, 4, 'Hello'}, 3: 45}\n",
      "P\n"
     ]
    }
   ],
   "source": [
    "d={\"l\":[11,12,13],'t':(4,5,6),6:\"Python\",\"di\":{1,2,4,'Hello'},3:45}\n",
    "# print(d.keys())\n",
    "# print(d.values())\n",
    "# print(d.items())\n",
    "print(d)\n",
    "print(d[6][0])"
   ]
  },
  {
   "cell_type": "code",
   "execution_count": 26,
   "metadata": {},
   "outputs": [
    {
     "name": "stdout",
     "output_type": "stream",
     "text": [
      "{'l': [10, 20, 30], 't': (14, 15, 16)}\n",
      "[30, 20, 10]\n",
      "16\n"
     ]
    }
   ],
   "source": [
    "d={'l':[10,20,30],'t':(14,15,16)}\n",
    "print(d)\n",
    "print(d['l'][::-1])\n",
    "print(d[\"t\"][2])"
   ]
  },
  {
   "cell_type": "code",
   "execution_count": 36,
   "metadata": {},
   "outputs": [
    {
     "name": "stdout",
     "output_type": "stream",
     "text": [
      "Python\n",
      "Machine learning\n",
      "gninrael enihcaM\n"
     ]
    }
   ],
   "source": [
    "d={1:{'p':'Python'},2:{'m':'Machine learning'}}\n",
    "print(d[1]['p'])\n",
    "s=d[2]['m']\n",
    "print(s)\n",
    "a=(str(s)[::-1])\n",
    "print(a)\n"
   ]
  },
  {
   "cell_type": "code",
   "execution_count": 39,
   "metadata": {},
   "outputs": [
    {
     "name": "stdout",
     "output_type": "stream",
     "text": [
      "{'a': 100}\n",
      "{'a': 100, 'b': 200}\n"
     ]
    }
   ],
   "source": [
    "d={}\n",
    "d['a']=100\n",
    "print(d)\n",
    "d['b']=200\n",
    "print(d)"
   ]
  },
  {
   "cell_type": "code",
   "execution_count": 1,
   "metadata": {},
   "outputs": [
    {
     "name": "stdout",
     "output_type": "stream",
     "text": [
      "{'T': 'This', 'i': 'is', 'a': 'a', 'c': 'car'}\n",
      "\n",
      "{'T': 'This', 'i': 'is', 'a': 'a', 'c': 'car'}\n"
     ]
    }
   ],
   "source": [
    "d=\"This is a car\"\n",
    "a={}\n",
    "for i in d.split():\n",
    "    a[i[0]]=i\n",
    "print(a)\n",
    "print()\n",
    "d={i[0]:i for i in d.split()}\n",
    "print(d)"
   ]
  },
  {
   "cell_type": "code",
   "execution_count": 1,
   "metadata": {},
   "outputs": [
    {
     "name": "stdout",
     "output_type": "stream",
     "text": [
      "{'computers': 15, 'monitors': 20}\n"
     ]
    }
   ],
   "source": [
    "obj= {'computers':10,'laptops':15,'monitors':20}\n",
    "obj['computers']= obj.pop('laptops')\n",
    "print(obj)"
   ]
  },
  {
   "cell_type": "code",
   "execution_count": null,
   "metadata": {},
   "outputs": [],
   "source": [
    "jobs@exertia.in"
   ]
  }
 ],
 "metadata": {
  "kernelspec": {
   "display_name": "Python 3",
   "language": "python",
   "name": "python3"
  },
  "language_info": {
   "codemirror_mode": {
    "name": "ipython",
    "version": 3
   },
   "file_extension": ".py",
   "mimetype": "text/x-python",
   "name": "python",
   "nbconvert_exporter": "python",
   "pygments_lexer": "ipython3",
   "version": "3.7.4"
  }
 },
 "nbformat": 4,
 "nbformat_minor": 2
}
