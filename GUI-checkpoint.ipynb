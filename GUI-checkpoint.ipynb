{
 "cells": [
  {
   "cell_type": "code",
   "execution_count": 2,
   "metadata": {},
   "outputs": [],
   "source": [
    "from tkinter import *\n",
    "root = Tk()\n",
    "root.geometry(\"644x444\")\n",
    "root.title('School_Record')\n",
    "root.minsize(700,600)\n",
    "root.maxsize(1000,998)\n",
    "\n",
    "label=Label(text=\"STUDENTS RECORDS\")\n",
    "label.pack()\n",
    "\n",
    "photo = PhotoImage(file = r'C:\\Users\\MR.INDIA\\Self_TB\\book.png')\n",
    "w = Label(root, image=photo)\n",
    "w.pack()\n",
    "# set icon on gui\n",
    "photo= PhotoImage(file=r'C:\\Users\\MR.INDIA\\Self_TB\\book.png')\n",
    "root.iconphoto(False,photo)\n",
    "\n",
    "root.mainloop()"
   ]
  },
  {
   "cell_type": "code",
   "execution_count": 3,
   "metadata": {},
   "outputs": [],
   "source": [
    "from time import sleep\n",
    "from random import randint\n",
    "from colorama import Fore,Style\n",
    "text1=input(\"Enter holiday message:\")\n",
    "text1=str(text1)\n",
    "base1=len(text1)\n",
    "base1+=1\n",
    "while True:\n",
    "    print('\\033c')\n",
    "    for x in range(1,base1,2):\n",
    "        y = randint(2,12)\n",
    "        if x ==1:\n",
    "            print(Style.BRIGHT+Fore.YELLOW+'{:^40}'.format(\"\\u2721\"))\n",
    "        elif y%5==0:\n",
    "            print(Fore.RED+\"{:^40}\".format(text1[:x]))\n",
    "        elif y%3 ==0:\n",
    "            print(Fore.GREEN+\"{:40}\".format(text1[:x]))\n",
    "        else:\n",
    "            print(Fore.WHITE+\"{:^40}\".format(text1[:x]))\n",
    "    print(Fore.WHITE+\"{:^39}\".format(\"||||\"))\n",
    "    print(Fore.WHITE+\"{:^39}\".format(\"||||\"))\n",
    "    sleep(.75)"
   ]
  },
  {
   "cell_type": "code",
   "execution_count": 35,
   "metadata": {},
   "outputs": [
    {
     "name": "stdout",
     "output_type": "stream",
     "text": [
      "\u001bc\n",
      "                K                \n",
      "               aaa               \n",
      "              AAAAA              \n",
      "             NNNNNNN             \n",
      "            HHHHHHHHH            \n",
      "           NNNNNNNNNNN           \n",
      "          NNNNNNNNNNNNN          \n",
      "         HHHHHHHHHHHHHHH         \n",
      "        NNNNNNNNNNNNNNNNN        \n",
      "       HHHHHHHHHHHHHHHHHHH       \n",
      "      AAAAAAAAAAAAAAAAAAAAA      \n",
      "     HHHHHHHHHHHHHHHHHHHHHHH     \n",
      "    NNNNNNNNNNNNNNNNNNNNNNNNN    \n",
      "   AAAAAAAAAAAAAAAAAAAAAAAAAAA   \n",
      "  HHHHHHHHHHHHHHHHHHHHHHHHHHHHH  \n",
      "             |KANHA|             \n",
      "              |||||              \n"
     ]
    }
   ],
   "source": [
    "md2=randint(1,30)\n",
    "def gentree():\n",
    "    print('\\033c')\n",
    "    for x in range(1,30,2):\n",
    "        md1=randint(1,md2)\n",
    "        if x==1:\n",
    "            ch=\"K\"\n",
    "        elif md1%5==0:\n",
    "            ch=\"a\"\n",
    "        elif md1%4==0:\n",
    "            ch=\"A\"\n",
    "        elif md1%3==0:\n",
    "            ch=\"H\"\n",
    "        elif md1%3==0:\n",
    "            ch=\"I\"\n",
    "        else:\n",
    "            ch=\"N\"\n",
    "        print('{:^33}'.format(ch*x))\n",
    "    print(\"{:^33}\".format(\"|KANHA|\"))\n",
    "    print(\"{:^33}\".format(\"|||||\"))\n",
    "    sleep(.75)\n",
    "gentree()"
   ]
  },
  {
   "cell_type": "code",
   "execution_count": null,
   "metadata": {},
   "outputs": [],
   "source": []
  }
 ],
 "metadata": {
  "kernelspec": {
   "display_name": "Python 3",
   "language": "python",
   "name": "python3"
  },
  "language_info": {
   "codemirror_mode": {
    "name": "ipython",
    "version": 3
   },
   "file_extension": ".py",
   "mimetype": "text/x-python",
   "name": "python",
   "nbconvert_exporter": "python",
   "pygments_lexer": "ipython3",
   "version": "3.7.4"
  }
 },
 "nbformat": 4,
 "nbformat_minor": 2
}
