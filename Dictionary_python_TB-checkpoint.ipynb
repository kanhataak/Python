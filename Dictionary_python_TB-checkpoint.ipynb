{
 "cells": [
  {
   "cell_type": "markdown",
   "metadata": {},
   "source": [
    "# Dictionary\n",
    "* Denoted by {key:value, ..} and items are separated using a ,\n",
    "* No indexing\n",
    "* No order\n",
    "* d = { } -> Empty Dictionary\n",
    "* Example -> d = {'a':10,'b':20,20:'c'}\n",
    "* Items can be accessed using keys as index. Ex: d['a']->10\n",
    "* keys:\n",
    "    * Immutable objects\n",
    "    * No duplicates"
   ]
  },
  {
   "cell_type": "code",
   "execution_count": 1,
   "metadata": {},
   "outputs": [
    {
     "name": "stdout",
     "output_type": "stream",
     "text": [
      "{} <class 'dict'>\n",
      "{'a': 10, 'b': 20, 20: 'c'}\n"
     ]
    }
   ],
   "source": [
    "# Empty dict.\n",
    "d={}\n",
    "print(d,type(d))\n",
    "\n",
    "d={'a':10,'b':20,20:'c'}\n",
    "print(d)"
   ]
  },
  {
   "cell_type": "code",
   "execution_count": 2,
   "metadata": {},
   "outputs": [
    {
     "name": "stdout",
     "output_type": "stream",
     "text": [
      "c\n",
      "20\n",
      "3\n"
     ]
    }
   ],
   "source": [
    "# Items can be accessed using keys as index \n",
    "# for example\n",
    "print(d[20]) \n",
    "print(d['b'])\n",
    "print(len(d))"
   ]
  },
  {
   "cell_type": "code",
   "execution_count": 3,
   "metadata": {},
   "outputs": [
    {
     "name": "stdout",
     "output_type": "stream",
     "text": [
      "{}\n",
      "{1: 'a', 2: 'b', 'c': 3}\n",
      "{1: 'aA', 2: 'b', 'c': 3}\n",
      "{1: 'aA', 2: 'b', 'c': 10}\n",
      "{1: 'aA', 2: 'b', 'c': 8}\n",
      "{1: 'aA', 2: 'b', 'c': 16}\n",
      "{1: 'aA', 2: 'b', 'c': 8}\n",
      "{1: 'aA', 2: 'b', 'c': 4.0}\n",
      "{1: 'aA', 2: 'b', 'c': 0.0}\n"
     ]
    }
   ],
   "source": [
    "# add item in dictionary\n",
    "d={}\n",
    "print(d)\n",
    "d[1]=\"a\"\n",
    "d[2]=\"b\"\n",
    "d[\"c\"]=3\n",
    "print(d)\n",
    "\n",
    "d[1] +=\"A\"\n",
    "print(d)\n",
    "\n",
    "d[\"c\"] +=7\n",
    "print(d)\n",
    "\n",
    "d[\"c\"] -=2\n",
    "print(d)\n",
    "\n",
    "d[\"c\"] *=2\n",
    "print(d)\n",
    "\n",
    "d[\"c\"] //=2\n",
    "print(d)\n",
    "\n",
    "d[\"c\"] /=2\n",
    "print(d)\n",
    "\n",
    "d[\"c\"] %=2\n",
    "print(d)"
   ]
  },
  {
   "cell_type": "code",
   "execution_count": 4,
   "metadata": {},
   "outputs": [
    {
     "name": "stdout",
     "output_type": "stream",
     "text": [
      "{'a': 50, 'b': 20, 'c': 30}\n"
     ]
    }
   ],
   "source": [
    "d = {'a':10,'b':20,'c':30,'a':50}\n",
    "print(d)"
   ]
  },
  {
   "cell_type": "markdown",
   "metadata": {},
   "source": [
    "# Dictionary method\n",
    "* keys\n",
    "* values\n",
    "* items"
   ]
  },
  {
   "cell_type": "code",
   "execution_count": 5,
   "metadata": {},
   "outputs": [
    {
     "name": "stdout",
     "output_type": "stream",
     "text": [
      "Help on class dict in module builtins:\n",
      "\n",
      "class dict(object)\n",
      " |  dict() -> new empty dictionary\n",
      " |  dict(mapping) -> new dictionary initialized from a mapping object's\n",
      " |      (key, value) pairs\n",
      " |  dict(iterable) -> new dictionary initialized as if via:\n",
      " |      d = {}\n",
      " |      for k, v in iterable:\n",
      " |          d[k] = v\n",
      " |  dict(**kwargs) -> new dictionary initialized with the name=value pairs\n",
      " |      in the keyword argument list.  For example:  dict(one=1, two=2)\n",
      " |  \n",
      " |  Methods defined here:\n",
      " |  \n",
      " |  __contains__(self, key, /)\n",
      " |      True if the dictionary has the specified key, else False.\n",
      " |  \n",
      " |  __delitem__(self, key, /)\n",
      " |      Delete self[key].\n",
      " |  \n",
      " |  __eq__(self, value, /)\n",
      " |      Return self==value.\n",
      " |  \n",
      " |  __ge__(self, value, /)\n",
      " |      Return self>=value.\n",
      " |  \n",
      " |  __getattribute__(self, name, /)\n",
      " |      Return getattr(self, name).\n",
      " |  \n",
      " |  __getitem__(...)\n",
      " |      x.__getitem__(y) <==> x[y]\n",
      " |  \n",
      " |  __gt__(self, value, /)\n",
      " |      Return self>value.\n",
      " |  \n",
      " |  __init__(self, /, *args, **kwargs)\n",
      " |      Initialize self.  See help(type(self)) for accurate signature.\n",
      " |  \n",
      " |  __iter__(self, /)\n",
      " |      Implement iter(self).\n",
      " |  \n",
      " |  __le__(self, value, /)\n",
      " |      Return self<=value.\n",
      " |  \n",
      " |  __len__(self, /)\n",
      " |      Return len(self).\n",
      " |  \n",
      " |  __lt__(self, value, /)\n",
      " |      Return self<value.\n",
      " |  \n",
      " |  __ne__(self, value, /)\n",
      " |      Return self!=value.\n",
      " |  \n",
      " |  __repr__(self, /)\n",
      " |      Return repr(self).\n",
      " |  \n",
      " |  __setitem__(self, key, value, /)\n",
      " |      Set self[key] to value.\n",
      " |  \n",
      " |  __sizeof__(...)\n",
      " |      D.__sizeof__() -> size of D in memory, in bytes\n",
      " |  \n",
      " |  clear(...)\n",
      " |      D.clear() -> None.  Remove all items from D.\n",
      " |  \n",
      " |  copy(...)\n",
      " |      D.copy() -> a shallow copy of D\n",
      " |  \n",
      " |  get(self, key, default=None, /)\n",
      " |      Return the value for key if key is in the dictionary, else default.\n",
      " |  \n",
      " |  items(...)\n",
      " |      D.items() -> a set-like object providing a view on D's items\n",
      " |  \n",
      " |  keys(...)\n",
      " |      D.keys() -> a set-like object providing a view on D's keys\n",
      " |  \n",
      " |  pop(...)\n",
      " |      D.pop(k[,d]) -> v, remove specified key and return the corresponding value.\n",
      " |      If key is not found, d is returned if given, otherwise KeyError is raised\n",
      " |  \n",
      " |  popitem(...)\n",
      " |      D.popitem() -> (k, v), remove and return some (key, value) pair as a\n",
      " |      2-tuple; but raise KeyError if D is empty.\n",
      " |  \n",
      " |  setdefault(self, key, default=None, /)\n",
      " |      Insert key with a value of default if key is not in the dictionary.\n",
      " |      \n",
      " |      Return the value for key if key is in the dictionary, else default.\n",
      " |  \n",
      " |  update(...)\n",
      " |      D.update([E, ]**F) -> None.  Update D from dict/iterable E and F.\n",
      " |      If E is present and has a .keys() method, then does:  for k in E: D[k] = E[k]\n",
      " |      If E is present and lacks a .keys() method, then does:  for k, v in E: D[k] = v\n",
      " |      In either case, this is followed by: for k in F:  D[k] = F[k]\n",
      " |  \n",
      " |  values(...)\n",
      " |      D.values() -> an object providing a view on D's values\n",
      " |  \n",
      " |  ----------------------------------------------------------------------\n",
      " |  Class methods defined here:\n",
      " |  \n",
      " |  fromkeys(iterable, value=None, /) from builtins.type\n",
      " |      Create a new dictionary with keys from iterable and values set to value.\n",
      " |  \n",
      " |  ----------------------------------------------------------------------\n",
      " |  Static methods defined here:\n",
      " |  \n",
      " |  __new__(*args, **kwargs) from builtins.type\n",
      " |      Create and return a new object.  See help(type) for accurate signature.\n",
      " |  \n",
      " |  ----------------------------------------------------------------------\n",
      " |  Data and other attributes defined here:\n",
      " |  \n",
      " |  __hash__ = None\n",
      "\n"
     ]
    }
   ],
   "source": [
    "dir(dict)\n",
    "help(dict)\n",
    "\n",
    "# 'clear',\n",
    "#  'copy',\n",
    "#  'fromkeys',\n",
    "#  'get',\n",
    "#  'items',\n",
    "#  'keys',\n",
    "#  'pop',\n",
    "#  'popitem',\n",
    "#  'setdefault',\n",
    "#  'update',\n",
    "#  'values'"
   ]
  },
  {
   "cell_type": "code",
   "execution_count": 6,
   "metadata": {},
   "outputs": [
    {
     "name": "stdout",
     "output_type": "stream",
     "text": [
      "{'A': 'Apple', 'B': 'Book', 'D': 'Dog'}\n",
      "dict_keys(['A', 'B', 'D'])\n",
      "dict_values(['Apple', 'Book', 'Dog'])\n",
      "dict_items([('A', 'Apple'), ('B', 'Book'), ('D', 'Dog')])\n",
      "{'A': 'Apple', 'B': 'Book', 'D': 'Dog', 'C': 'Cat'}\n"
     ]
    }
   ],
   "source": [
    "d={\"A\":\"Apple\",'B':'Book',\"D\":\"Dog\"}\n",
    "print(d)\n",
    "print(d.keys())\n",
    "print(d.values())\n",
    "print(d.items())\n",
    "\n",
    "d[\"C\"] = \"Cat\"\n",
    "print(d)"
   ]
  },
  {
   "cell_type": "code",
   "execution_count": 7,
   "metadata": {},
   "outputs": [
    {
     "name": "stdout",
     "output_type": "stream",
     "text": [
      "['A', 'B', 'D', 'C']\n",
      "['Apple', 'Book', 'Dog', 'Cat']\n",
      "[('A', 'Apple'), ('B', 'Book'), ('D', 'Dog'), ('C', 'Cat')]\n",
      "['A', 'B', 'D', 'C'] <class 'list'>\n"
     ]
    }
   ],
   "source": [
    "print(list(d.keys()))\n",
    "print(list(d.values()))\n",
    "print(list(d.items()))\n",
    "a=list(d.keys())\n",
    "print(a,type(a))"
   ]
  },
  {
   "cell_type": "code",
   "execution_count": 8,
   "metadata": {},
   "outputs": [
    {
     "name": "stdout",
     "output_type": "stream",
     "text": [
      "['p', 'y', 't', 'h', 'o', 'n']\n",
      "[12456]\n",
      "['python', 'with', 'machine', 'learning']\n"
     ]
    }
   ],
   "source": [
    "s=\"python\"\n",
    "l=list(s)\n",
    "print(l)\n",
    "\n",
    "l=[12456]\n",
    "s=str(l)\n",
    "print(s)\n",
    "\n",
    "l=\"python with machine learning\"\n",
    "s=str(l).split()\n",
    "print(s)"
   ]
  },
  {
   "cell_type": "markdown",
   "metadata": {},
   "source": [
    "# Forming a dictionary using two list without Zip function"
   ]
  },
  {
   "cell_type": "code",
   "execution_count": 9,
   "metadata": {},
   "outputs": [
    {
     "name": "stdout",
     "output_type": "stream",
     "text": [
      "[('Audi', 'S8'), ('model', 2017), ('color', 'Black')]\n",
      "{'Audi': 'S8', 'model': 2017, 'color': 'Black'}\n",
      "{'Audi': 'S8', 'model': 2017, 'color': 'Black', 'Price': '50 L'}\n"
     ]
    }
   ],
   "source": [
    "list1=[\"Audi\",'model','color']\n",
    "list2=['S8',2017,'Black']\n",
    "list3=[]\n",
    "n=min(len(list1),len(list2))\n",
    "for i in range(n):\n",
    "    list3.append((list1[i],list2[i]))\n",
    "print(list3)\n",
    "d=dict(list3)\n",
    "print(d)\n",
    "\n",
    "d[\"Price\"]=\"50 L\"\n",
    "print(d)\n"
   ]
  },
  {
   "cell_type": "markdown",
   "metadata": {},
   "source": [
    "# Forming a dictionary using two list using Zip function"
   ]
  },
  {
   "cell_type": "code",
   "execution_count": 10,
   "metadata": {},
   "outputs": [
    {
     "name": "stdout",
     "output_type": "stream",
     "text": [
      "{'Audi': 'S8', 'model': 2017, 'color': 'Black'}\n",
      "{'S8': 'Audi', 2017: 'model', 'Black': 'color'}\n"
     ]
    }
   ],
   "source": [
    "list1=[\"Audi\",'model','color']\n",
    "list2=['S8',2017,'Black']\n",
    "list3=list(zip(list1,list2))\n",
    "d=dict(list3)\n",
    "print(d)\n",
    "\n",
    "list4=list(zip(list2,list1))\n",
    "d=dict(list4)\n",
    "print(d)"
   ]
  },
  {
   "cell_type": "markdown",
   "metadata": {},
   "source": [
    "## Question\n",
    "\n",
    "Count the number of occurance of each character in a given string"
   ]
  },
  {
   "cell_type": "code",
   "execution_count": 11,
   "metadata": {},
   "outputs": [
    {
     "name": "stdout",
     "output_type": "stream",
     "text": [
      "{'a': 11, 'b': 10}\n"
     ]
    }
   ],
   "source": [
    "a = 'ababababababababababa'\n",
    "\n",
    "d = {}\n",
    "for i in a:\n",
    "    if i not in d:\n",
    "        d[i]=a.count(i)\n",
    "print(d)"
   ]
  },
  {
   "cell_type": "code",
   "execution_count": 12,
   "metadata": {},
   "outputs": [
    {
     "name": "stdout",
     "output_type": "stream",
     "text": [
      "PYTHON\n",
      "JAVA\n",
      "PHP\n",
      "R\n",
      "\n",
      "PYTHON\n",
      "JAVA\n",
      "PHP\n",
      "R\n",
      "\n",
      "200\n",
      "250\n",
      "150\n",
      "100\n",
      "\n",
      "('PYTHON', 200)\n",
      "('JAVA', 250)\n",
      "('PHP', 150)\n",
      "('R', 100)\n",
      "\n",
      "PYTHON \t 200\n",
      "JAVA \t 250\n",
      "PHP \t 150\n",
      "R \t 100\n"
     ]
    }
   ],
   "source": [
    "d = {'PYTHON': 200, 'JAVA': 250, 'PHP': 150,\"R\":100}\n",
    "for i in d:\n",
    "    print(i)\n",
    "print()\n",
    "for i in d.keys():\n",
    "    print(i)\n",
    "print()\n",
    "for i in d.values():\n",
    "    print(i)\n",
    "print()\n",
    "for i in d.items():\n",
    "    print(i)\n",
    "print()\n",
    "for k,v in d.items():\n",
    "    print(k,'\\t',v)\n",
    "    \n",
    "#     print(i,type(i))\n",
    "#     li=list(i)\n",
    "#     print(li,type(li))"
   ]
  },
  {
   "cell_type": "code",
   "execution_count": 17,
   "metadata": {},
   "outputs": [
    {
     "name": "stdout",
     "output_type": "stream",
     "text": [
      "{1: 1, 2: 4, 3: 9, 4: 16, 5: 25}\n"
     ]
    }
   ],
   "source": [
    "n=5\n",
    "d={}\n",
    "for i in range(1,n+1):\n",
    "    d[i] = i**2\n",
    "print(d)"
   ]
  }
 ],
 "metadata": {
  "kernelspec": {
   "display_name": "Python 3",
   "language": "python",
   "name": "python3"
  },
  "language_info": {
   "codemirror_mode": {
    "name": "ipython",
    "version": 3
   },
   "file_extension": ".py",
   "mimetype": "text/x-python",
   "name": "python",
   "nbconvert_exporter": "python",
   "pygments_lexer": "ipython3",
   "version": "3.7.4"
  }
 },
 "nbformat": 4,
 "nbformat_minor": 2
}
