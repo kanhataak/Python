{
 "cells": [
  {
   "cell_type": "markdown",
   "metadata": {},
   "source": [
    "# RegEx\n",
    "## This module exports the following functions:\n",
    "        match     Match a regular expression pattern to the beginning of a string.\n",
    "        fullmatch Match a regular expression pattern to all of a string.\n",
    "        search    Search a string for the presence of a pattern.\n",
    "        sub       Substitute occurrences of a pattern found in a string.\n",
    "        subn      Same as sub, but also return the number of substitutions made.\n",
    "        split     Split a string by the occurrences of a pattern.\n",
    "        findall   Find all occurrences of a pattern in a string.\n",
    "        finditer  Return an iterator yielding a Match object for each match.\n",
    "        compile   Compile a pattern into a Pattern object.\n",
    "        purge     Clear the regular expression cache.\n",
    "        escape    Backslash all non-alphanumerics in a string."
   ]
  },
  {
   "cell_type": "code",
   "execution_count": 1,
   "metadata": {},
   "outputs": [],
   "source": [
    "import re"
   ]
  },
  {
   "cell_type": "code",
   "execution_count": 2,
   "metadata": {},
   "outputs": [
    {
     "name": "stdout",
     "output_type": "stream",
     "text": [
      "Names :  ['Kanha', 'Dinesh', 'Ankit', 'Dineshsharma']\n",
      "Age :  ['22', '23', '26', '25']\n"
     ]
    }
   ],
   "source": [
    "nameage=\"\"\"Kanha is 22 and Dinesh is 23\n",
    "Ankit is 26 and Dineshsharma is 25\"\"\"\n",
    "\n",
    "name=re.findall(r'[A-Z][a-z]*',nameage)\n",
    "print(\"Names : \",name)\n",
    "age=re.findall(r'\\d{1,2}',nameage)\n",
    "print(\"Age : \",age)"
   ]
  },
  {
   "cell_type": "code",
   "execution_count": 3,
   "metadata": {},
   "outputs": [
    {
     "name": "stdout",
     "output_type": "stream",
     "text": [
      "{'Kanha': '22', 'Dinesh': '23', 'Ankit': '26', 'Dineshsharma': '25'}\n"
     ]
    }
   ],
   "source": [
    "d={}\n",
    "x=0\n",
    "for i in name:\n",
    "    d[i]=age[x]\n",
    "    x-=-1\n",
    "print(d)"
   ]
  },
  {
   "cell_type": "code",
   "execution_count": 4,
   "metadata": {},
   "outputs": [
    {
     "name": "stdout",
     "output_type": "stream",
     "text": [
      "['dream', 'dream']\n"
     ]
    }
   ],
   "source": [
    "s='''I have a dream\n",
    "    Westlife\n",
    "    I have a dream\n",
    "    A song to sing\n",
    "'''\n",
    "\n",
    "# find a string in text using \"findall()\" method\n",
    "find=re.findall(\"dream\",s)\n",
    "print(find)"
   ]
  },
  {
   "cell_type": "markdown",
   "metadata": {},
   "source": [
    "#  find the number of index a string using \"finditer()\" method\n",
    "* finditer(pattern, string, flags=0)\n",
    "         Return an iterator over all non-overlapping matches in the\n",
    "         string.  For each match, the iterator returns a Match object.\n",
    "        \n",
    "*         Empty matches are included in the result."
   ]
  },
  {
   "cell_type": "code",
   "execution_count": 5,
   "metadata": {},
   "outputs": [
    {
     "name": "stdout",
     "output_type": "stream",
     "text": [
      "(0, 14)\n",
      "(32, 46)\n"
     ]
    }
   ],
   "source": [
    "f=\"I have a dream\"\n",
    "for i in re.finditer(f,s):\n",
    "    index=i.span()\n",
    "    print(index)"
   ]
  },
  {
   "cell_type": "code",
   "execution_count": 6,
   "metadata": {},
   "outputs": [
    {
     "name": "stdout",
     "output_type": "stream",
     "text": [
      "Enter string U wanna find : r\n",
      "r  in this text\n"
     ]
    }
   ],
   "source": [
    "userinput=input(\"Enter string U wanna find : \")\n",
    "x=0  \n",
    "if re.search(userinput,s):\n",
    "    print(userinput,\" in this text\")\n",
    "else:\n",
    "    print(userinput,\" is not this text\")\n"
   ]
  },
  {
   "cell_type": "code",
   "execution_count": 7,
   "metadata": {},
   "outputs": [
    {
     "name": "stdout",
     "output_type": "stream",
     "text": [
      "['I', 'I', 'A']\n"
     ]
    }
   ],
   "source": [
    "a=re.findall(\"[A-M]\",s)\n",
    "print(a)"
   ]
  },
  {
   "cell_type": "markdown",
   "metadata": {},
   "source": [
    "# Metacharacters\n",
    "    Metacharacters are characters with a special meaning:\n",
    "## Findall() method\n",
    "* []\tA set of characters   \"[a-m]\""
   ]
  },
  {
   "cell_type": "code",
   "execution_count": 8,
   "metadata": {},
   "outputs": [
    {
     "name": "stdout",
     "output_type": "stream",
     "text": [
      "['h', 'i', 'e', 'e', 'f', 'a', 'g', 'a', 'g', 'e']\n"
     ]
    }
   ],
   "source": [
    "import re\n",
    "s=\"Python is very powerful language\"\n",
    "#Find all lower case characters alphabetically between \"a\" and \"k\":\n",
    "\n",
    "x=re.findall(\"[a-k]\",s)\n",
    "print(x)"
   ]
  },
  {
   "cell_type": "markdown",
   "metadata": {},
   "source": [
    "### findall()\n",
    "* \\\tSignals a special sequence (can also be used to escape special characters)\t\"\\d"
   ]
  },
  {
   "cell_type": "code",
   "execution_count": 9,
   "metadata": {},
   "outputs": [
    {
     "name": "stdout",
     "output_type": "stream",
     "text": [
      "['2', '0', '1', '9']\n"
     ]
    }
   ],
   "source": [
    "s=\"Python is very powerful language 2019\"\n",
    "\n",
    "#Find all digit characters:\n",
    "x=re.findall('\\d',s)\n",
    "print(x)"
   ]
  },
  {
   "cell_type": "markdown",
   "metadata": {},
   "source": [
    "* .\tAny character (except newline character)\t\"he..o\""
   ]
  },
  {
   "cell_type": "code",
   "execution_count": 10,
   "metadata": {},
   "outputs": [
    {
     "name": "stdout",
     "output_type": "stream",
     "text": [
      "['Hello']\n"
     ]
    }
   ],
   "source": [
    "# s='Hello world Hello'\n",
    "s=\"Hello world\"\n",
    "#Search for a sequence that starts with \"He\", followed by two (any) characters, and an \"o\":\n",
    "\n",
    "x= re.findall('He..o',s)\n",
    "print(x)"
   ]
  },
  {
   "cell_type": "markdown",
   "metadata": {},
   "source": [
    "* ^\t  Starts with\t\"^hello\""
   ]
  },
  {
   "cell_type": "code",
   "execution_count": 11,
   "metadata": {},
   "outputs": [
    {
     "name": "stdout",
     "output_type": "stream",
     "text": [
      "['Hello']\n",
      "Yes. string start with Hello\n"
     ]
    }
   ],
   "source": [
    "s=\"Hello India\"\n",
    "#Check if the string starts with 'hello':\n",
    "\n",
    "x=re.findall(\"^Hello\",s)\n",
    "print(x)\n",
    "if x:\n",
    "    print(\"Yes. string start with Hello\")\n",
    "else:\n",
    "    print(\"NO. String not start with Hello\")\n",
    "    "
   ]
  },
  {
   "cell_type": "code",
   "execution_count": 12,
   "metadata": {},
   "outputs": [
    {
     "name": "stdout",
     "output_type": "stream",
     "text": [
      "['world']\n",
      "Yes\n"
     ]
    }
   ],
   "source": [
    "#  '$'\tEnds with\t'world$'\n",
    "\n",
    "s=\"hello world\"\n",
    "#Check if the string ends with 'world':\n",
    "\n",
    "x= re.findall(\"world$\",s)\n",
    "print(x)\n",
    "if x:\n",
    "    print(\"Yes\")\n",
    "else:\n",
    "    print(\"No\")"
   ]
  },
  {
   "cell_type": "markdown",
   "metadata": {},
   "source": [
    "#### *\tZero or more occurrences\t\"aix*\""
   ]
  },
  {
   "cell_type": "code",
   "execution_count": 13,
   "metadata": {},
   "outputs": [
    {
     "name": "stdout",
     "output_type": "stream",
     "text": [
      "['in', 'in', 'in', 'in', 'in', 'in']\n",
      "Yes\n"
     ]
    }
   ],
   "source": [
    "s = \"The rain in Spain falls mainly in the plain!\"\n",
    "\n",
    "#Check if the string contains \"in\" followed by 0 or more \"x\" characters:\n",
    "x= re.findall(\"inx*\",s)\n",
    "print(x)\n",
    "if x:\n",
    "    print(\"Yes\")\n",
    "else:\n",
    "    print(\"NO\")\n",
    "    "
   ]
  },
  {
   "cell_type": "markdown",
   "metadata": {},
   "source": [
    "#### +\tOne or more occurrences\t\"aix+\""
   ]
  },
  {
   "cell_type": "code",
   "execution_count": 14,
   "metadata": {},
   "outputs": [
    {
     "name": "stdout",
     "output_type": "stream",
     "text": [
      "[]\n",
      "No\n"
     ]
    }
   ],
   "source": [
    "s = \"The rain in Spain falls mainly in the plain!\"\n",
    "\n",
    "#Check if the string contains \"ai\" followed by 1 or more \"x\" characters:\n",
    "x= re.findall(\"aix+\",s)\n",
    "print(x)\n",
    "if x:\n",
    "    print(\"yes\")\n",
    "else:\n",
    "    print(\"No\")\n",
    "    "
   ]
  },
  {
   "cell_type": "markdown",
   "metadata": {},
   "source": [
    "* {}\tExactly the specified number of occurrences\t\"al{2}\""
   ]
  },
  {
   "cell_type": "code",
   "execution_count": 15,
   "metadata": {},
   "outputs": [
    {
     "name": "stdout",
     "output_type": "stream",
     "text": [
      "['all']\n"
     ]
    }
   ],
   "source": [
    "s = \"The rain in Spain falls mainly in the plain! lal\"\n",
    "#Check if the string contains \"a\" followed by exactly two \"l\" characters:\n",
    "\n",
    "x=re.findall(\"al{2}\",s)\n",
    "print(x)"
   ]
  },
  {
   "cell_type": "markdown",
   "metadata": {},
   "source": [
    "* |\tEither or\t\"falls|stays\"\t"
   ]
  },
  {
   "cell_type": "code",
   "execution_count": 16,
   "metadata": {},
   "outputs": [
    {
     "name": "stdout",
     "output_type": "stream",
     "text": [
      "['falls']\n"
     ]
    }
   ],
   "source": [
    "s=\"The rain in Spain falls mainly in the plain!\"\n",
    "#Check if the string contains either \"falls\" or \"stays\":\n",
    "x=re.findall(\"falls|stays\",s)\n",
    "print(x)"
   ]
  },
  {
   "cell_type": "code",
   "execution_count": 17,
   "metadata": {},
   "outputs": [
    {
     "name": "stdout",
     "output_type": "stream",
     "text": [
      "['falls', 'stays', 'stays']\n"
     ]
    }
   ],
   "source": [
    "s=\"The rain in Spain falls mainly in the plain! stays stays\"\n",
    "#Check if the string contains either \"falls\" or \"stays\":\n",
    "x=re.findall(\"falls|stays\",s)\n",
    "print(x)"
   ]
  },
  {
   "cell_type": "markdown",
   "metadata": {},
   "source": [
    "# Special Sequences\n",
    "    A special sequence is a \\ followed by one of the characters in the list below, and has a special meaning:\n",
    "    Character\t  Description\t                                                       Example\t\n",
    "    \\A\tReturns a match if the specified characters are at the beginning of the string\t\"\\AThe\"\t\n",
    "    \\b\tReturns a match where the specified characters are at the beginning or at the end of a word\tr\"\\bain\"\n",
    "    r\"ain\\b\"\t\n",
    "    \\B\tReturns a match where the specified characters are present, but NOT at the beginning (or at the end) of a word\tr\"\\Bain\"\n",
    "    r\"ain\\B\"\t\n",
    "    \\d\tReturns a match where the string contains digits (numbers from 0-9)\t\"\\d\"\t\n",
    "    \\D\tReturns a match where the string DOES NOT contain digits\t\"\\D\"\t\n",
    "    \\s\tReturns a match where the string contains a white space character\t\"\\s\"\t\n",
    "    \\S\tReturns a match where the string DOES NOT contain a white space character\t\"\\S\"\t\n",
    "    \\w\tReturns a match where the string contains any word characters (characters from a to Z, digits from 0-9, and the underscore _ character)\t\"\\w\"\t\n",
    "    \\W\tReturns a match where the string DOES NOT contain any word characters\t\"\\W\"\t\n",
    "    \\Z\tReturns a match if the specified characters are at the end of the string\t\"Spain\\Z\""
   ]
  },
  {
   "cell_type": "code",
   "execution_count": 18,
   "metadata": {},
   "outputs": [
    {
     "name": "stdout",
     "output_type": "stream",
     "text": [
      "['The']\n",
      "Yes. there is match!\n"
     ]
    }
   ],
   "source": [
    "# \\A    Returns a match if the specified characters are at the beginning of the string    \"\\AThe\" \n",
    "\n",
    "s=\"The power of money\"\n",
    "# s=\"the power of money\"\n",
    "\n",
    "# x=re.findall(\"\\Athe\",s)\n",
    "x=re.findall(\"\\AThe\",s)\n",
    "print(x)\n",
    "if x:\n",
    "    print(\"Yes. there is match!\")\n",
    "else:\n",
    "    print(\"NO\")"
   ]
  },
  {
   "cell_type": "code",
   "execution_count": 19,
   "metadata": {},
   "outputs": [
    {
     "name": "stdout",
     "output_type": "stream",
     "text": [
      "['t']\n",
      "Yes. there is match!\n"
     ]
    }
   ],
   "source": [
    "\n",
    "s=\"the power of money\"\n",
    "\n",
    "x=re.findall(\"\\At\",s)\n",
    "print(x)\n",
    "if x:\n",
    "    print(\"Yes. there is match!\")\n",
    "else:\n",
    "    print(\"NO\")"
   ]
  },
  {
   "cell_type": "code",
   "execution_count": 20,
   "metadata": {},
   "outputs": [
    {
     "name": "stdout",
     "output_type": "stream",
     "text": [
      "[]\n",
      "NO\n"
     ]
    }
   ],
   "source": [
    "# \\b    Returns a match where the specified characters are at the beginning or at the end of a word    (r\"\\bain\")(r\"ain\\b\") \n",
    "\n",
    "s=\"The value of money\"\n",
    "# s=\"The value of moneyain\"\n",
    "# s=\"The value of ainmoney\"\n",
    "\n",
    "#Check if \"ain\" is present at the beginning of a WORD:\n",
    "# x=re.findall(r\"\\bain\",s)\n",
    "\n",
    "#Check if \"ain\" is present at the end of a WORD:\n",
    "x=re.findall(r\"ain\\b\",s)\n",
    "print(x)\n",
    "if x:\n",
    "    print(\"Yes. there is match!\")\n",
    "else:\n",
    "    print(\"NO\")"
   ]
  },
  {
   "cell_type": "code",
   "execution_count": 21,
   "metadata": {},
   "outputs": [
    {
     "name": "stdout",
     "output_type": "stream",
     "text": [
      "['ain', 'ain']\n",
      "Yes. there is match!\n"
     ]
    }
   ],
   "source": [
    "# \\B\tReturns a match where the specified characters are present, but NOT at the beginning (or at the end) of a word\tr\"\\Bain\"\n",
    "# r\"ain\\B\"\n",
    "\n",
    "s=\"The rain in Spain \"\n",
    "\n",
    "#Check if \"ain\" is present, but NOT at the end of a word:\n",
    "# x=re.findall(\"ain\\B\",s)\n",
    "\n",
    "#Check if \"ain\" is present, but NOT at the beginning of a word:\n",
    "x=re.findall(\"\\Bain\",s)\n",
    "print(x)\n",
    "if x:\n",
    "    print(\"Yes. there is match!\")\n",
    "else:\n",
    "    print(\"NO\")"
   ]
  },
  {
   "cell_type": "code",
   "execution_count": 22,
   "metadata": {},
   "outputs": [
    {
     "name": "stdout",
     "output_type": "stream",
     "text": [
      "['3', '6', '7', '8']\n",
      "Yes, there is at least one match!\n"
     ]
    }
   ],
   "source": [
    "#\\d\tReturns a match where the string contains digits (numbers from 0-9)\t\"\\d\"\n",
    "\n",
    "s=\"This is digits3678\"\n",
    "#Check if the string contains any digits (numbers from 0-9):\n",
    "x=re.findall(\"\\d\",s)\n",
    "print(x)\n",
    "if (x):\n",
    "    print(\"Yes, there is at least one match!\")\n",
    "else:\n",
    "    print(\"No match\")"
   ]
  },
  {
   "cell_type": "code",
   "execution_count": 23,
   "metadata": {},
   "outputs": [
    {
     "name": "stdout",
     "output_type": "stream",
     "text": [
      "['T', 'h', 'e', ' ', 'r', 'a', 'i', 'n', ' ', 'i', 'n', ' ', 'S', 'p', 'a', 'i', 'n']\n"
     ]
    }
   ],
   "source": [
    "# \\D\tReturns a match where the string DOES NOT contain digits\t\"\\D\"\n",
    "s = \"The rain in Spain\"\n",
    "\n",
    "#Return a match at every no-digit character:\n",
    "x=re.findall(\"\\D\",s)\n",
    "print(x)"
   ]
  },
  {
   "cell_type": "code",
   "execution_count": 24,
   "metadata": {},
   "outputs": [
    {
     "name": "stdout",
     "output_type": "stream",
     "text": [
      "[' ', ' ', ' ', ' ']\n",
      "Yes, there is at least one match!\n"
     ]
    }
   ],
   "source": [
    "# \\s\tReturns a match where the string contains a white space character\t\"\\s\"\n",
    "s= \"This is white space character\"\n",
    "\n",
    "x=re.findall(\"\\s\",s)\n",
    "print(x)\n",
    "if (x):\n",
    "    print(\"Yes, there is at least one match!\")\n",
    "else:\n",
    "    print(\"No match\")"
   ]
  },
  {
   "cell_type": "code",
   "execution_count": 25,
   "metadata": {},
   "outputs": [
    {
     "name": "stdout",
     "output_type": "stream",
     "text": [
      "['T', 'h', 'i', 's', 'i', 's', 'N', 'O', 'N', 'w', 'h', 'i', 't', 'e', 's', 'p', 'a', 'c', 'e', 'c', 'h', 'a', 'r', 'a', 'c', 't', 'e', 'r']\n",
      "Yes, there is at least one match!\n"
     ]
    }
   ],
   "source": [
    "s=\"This is NON white space character\"\n",
    "#Return a match at every NON white-space character:\n",
    "x=re.findall(\"\\S\",s)\n",
    "print(x)\n",
    "if (x):\n",
    "    print(\"Yes, there is at least one match!\")\n",
    "else:\n",
    "    print(\"No match\")"
   ]
  },
  {
   "cell_type": "code",
   "execution_count": 26,
   "metadata": {},
   "outputs": [
    {
     "name": "stdout",
     "output_type": "stream",
     "text": [
      "['T', 'h', 'e', 'r', 'a', 'i', 'n', 'i', 'n', 'S', 'p', 'a', 'i', 'n']\n",
      "Yes, there is at least one match!\n"
     ]
    }
   ],
   "source": [
    "# \\w    Returns a match where the string contains any word characters(characters from a to Z, digits from 0-9, and the underscore _ character)    \"\\w\n",
    "\n",
    "s = \"The rain in Spain\"\n",
    "\n",
    "#Return a match at every word character (characters from a to Z, digits from 0-9, and the underscore _ character):\n",
    "\n",
    "x = re.findall(\"\\w\", s)\n",
    "\n",
    "print(x)\n",
    "\n",
    "if x:\n",
    "    print(\"Yes, there is at least one match!\")\n",
    "else:\n",
    "    print(\"No match\")"
   ]
  },
  {
   "cell_type": "code",
   "execution_count": 27,
   "metadata": {},
   "outputs": [
    {
     "name": "stdout",
     "output_type": "stream",
     "text": [
      "[' ', ' ', ' ']\n",
      "Yes, there is at least one match!\n"
     ]
    }
   ],
   "source": [
    "# \\W    Returns a match where the string DOES NOT contain any word characters    \"\\W\"\n",
    "s = \"The rain in Spain\"\n",
    "\n",
    "#Return a match at every NON word character (characters NOT between a and Z. Like \"!\", \"?\" white-space etc.):\n",
    "\n",
    "x = re.findall(\"\\W\", s)\n",
    "\n",
    "print(x)\n",
    "\n",
    "if x:\n",
    "    print(\"Yes, there is at least one match!\")\n",
    "else:\n",
    "    print(\"No match\")"
   ]
  },
  {
   "cell_type": "code",
   "execution_count": 28,
   "metadata": {},
   "outputs": [
    {
     "name": "stdout",
     "output_type": "stream",
     "text": [
      "['Spain']\n",
      "Yes, there is a match!\n"
     ]
    }
   ],
   "source": [
    "# \\Z    Returns a match if the specified characters are at the end of the string    \"Spain\\Z\"\n",
    "s = \"The rain in Spain\"\n",
    "\n",
    "#Check if the string ends with \"Spain\":\n",
    "\n",
    "x = re.findall(\"Spain\\Z\", s)\n",
    "\n",
    "print(x)\n",
    "if x:\n",
    "    print(\"Yes, there is a match!\")\n",
    "else:\n",
    "    print(\"No match\")"
   ]
  },
  {
   "cell_type": "code",
   "execution_count": 29,
   "metadata": {},
   "outputs": [
    {
     "name": "stdout",
     "output_type": "stream",
     "text": [
      "['*']\n"
     ]
    }
   ],
   "source": [
    "s=\"2*4=?\"\n",
    "\n",
    "x=re.findall(\"[*]\",s)\n",
    "\n",
    "print(x)"
   ]
  },
  {
   "cell_type": "code",
   "execution_count": 30,
   "metadata": {},
   "outputs": [
    {
     "name": "stdout",
     "output_type": "stream",
     "text": [
      "['ve']\n"
     ]
    }
   ],
   "source": [
    "s=\"I Have a Dream\"\n",
    "x=re.findall(\"ve\",s)\n",
    "print(x)"
   ]
  },
  {
   "cell_type": "code",
   "execution_count": 31,
   "metadata": {},
   "outputs": [
    {
     "name": "stdout",
     "output_type": "stream",
     "text": [
      "<re.Match object; span=(5, 6), match='e'>\n"
     ]
    }
   ],
   "source": [
    "s=\"I Have a Dream\"\n",
    "\n",
    "x=re.search(\"e\",s)\n",
    "print(x)"
   ]
  },
  {
   "cell_type": "code",
   "execution_count": 48,
   "metadata": {},
   "outputs": [
    {
     "name": "stdout",
     "output_type": "stream",
     "text": [
      "['I', 'Have', 'a', 'Dream']\n",
      "['', ' Have a Dream']\n",
      "['I', 'Have', 'a Dream']\n"
     ]
    }
   ],
   "source": [
    "s=\"I Have a Dream\"\n",
    "\n",
    "print(re.split(\"\\s\",s))\n",
    "\n",
    "print(re.split(\"I\",s))\n",
    "\n",
    "s=\"I Have a Dream\"\n",
    "x=re.split(\"\\s\",s,2)\n",
    "print(x)"
   ]
  },
  {
   "cell_type": "code",
   "execution_count": 33,
   "metadata": {},
   "outputs": [
    {
     "name": "stdout",
     "output_type": "stream",
     "text": [
      "I-->Have-->a Dream\n",
      "I-->Have-->a-->Dream\n"
     ]
    }
   ],
   "source": [
    "s=\"I Have a Dream\"\n",
    "x=re.sub(\"\\s\",\"-->\",s,2)\n",
    "print(x)\n",
    "\n",
    "s=\"I Have a Dream\"\n",
    "x=re.sub(\"\\s\",\"-->\",s)\n",
    "print(x)"
   ]
  },
  {
   "cell_type": "code",
   "execution_count": 34,
   "metadata": {},
   "outputs": [
    {
     "name": "stdout",
     "output_type": "stream",
     "text": [
      "I-->-->Have-->-->a-->-->Dream\n",
      "I-->Have-->a-->Dream\n"
     ]
    }
   ],
   "source": [
    "l='I','Have','a','Dream'\n",
    "j='-->-->'\n",
    "\n",
    "print(j.join(l))\n",
    "\n",
    "print('-->'.join(l))"
   ]
  },
  {
   "cell_type": "code",
   "execution_count": 35,
   "metadata": {},
   "outputs": [
    {
     "name": "stdout",
     "output_type": "stream",
     "text": [
      "I-->Have-->a-->Dream\n"
     ]
    }
   ],
   "source": [
    "s=\"I Have a Dream\"\n",
    "x=re.split(\"\\s\",s)\n",
    "print('-->'.join(x))"
   ]
  },
  {
   "cell_type": "code",
   "execution_count": 36,
   "metadata": {},
   "outputs": [
    {
     "name": "stdout",
     "output_type": "stream",
     "text": [
      "<re.Match object; span=(10, 12), match='re'>\n",
      "(9, 14)\n"
     ]
    }
   ],
   "source": [
    "s=\"I Have a Dream\"\n",
    "x=re.search(\"re\",s)\n",
    "print(x)\n",
    "\n",
    "s=\"I Have a Dream\"\n",
    "x=re.search(r\"\\bD\\w+\",s)\n",
    "print(x.span())"
   ]
  },
  {
   "cell_type": "code",
   "execution_count": 37,
   "metadata": {},
   "outputs": [
    {
     "name": "stdout",
     "output_type": "stream",
     "text": [
      "Dream\n"
     ]
    }
   ],
   "source": [
    "s=\"I Have a Dream\"\n",
    "x=re.search(r\"\\bD\\w+\",s)\n",
    "print(x.group())"
   ]
  },
  {
   "cell_type": "code",
   "execution_count": 39,
   "metadata": {},
   "outputs": [
    {
     "name": "stdout",
     "output_type": "stream",
     "text": [
      "I Have a Dream\n"
     ]
    }
   ],
   "source": [
    "s=\"I Have a Dream\"\n",
    "x=re.search(r\"\\bH\\w+\",s)\n",
    "print(x.string)"
   ]
  },
  {
   "cell_type": "code",
   "execution_count": 49,
   "metadata": {},
   "outputs": [
    {
     "name": "stdout",
     "output_type": "stream",
     "text": [
      "['rajasthan', '97']\n"
     ]
    }
   ],
   "source": [
    "splittrem=\"#\"\n",
    "text=\"rajasthan#97\"\n",
    "print(re.split(splittrem,text))"
   ]
  },
  {
   "cell_type": "code",
   "execution_count": 61,
   "metadata": {},
   "outputs": [
    {
     "name": "stdout",
     "output_type": "stream",
     "text": [
      "I have a dream\n",
      "Westlife\n",
      "I have a dream\n",
      "A song to sing\n",
      "\n",
      "I have a dream Westlife I have a dream A song to sing \n"
     ]
    }
   ],
   "source": [
    "s='''I have a dream\n",
    "Westlife\n",
    "I have a dream\n",
    "A song to sing\n",
    "'''\n",
    "print(s)\n",
    "x=re.compile(\"\\n\")\n",
    "s=x.sub(\" \",s)\n",
    "print(s)"
   ]
  }
 ],
 "metadata": {
  "kernelspec": {
   "display_name": "Python 3",
   "language": "python",
   "name": "python3"
  },
  "language_info": {
   "codemirror_mode": {
    "name": "ipython",
    "version": 3
   },
   "file_extension": ".py",
   "mimetype": "text/x-python",
   "name": "python",
   "nbconvert_exporter": "python",
   "pygments_lexer": "ipython3",
   "version": "3.7.4"
  }
 },
 "nbformat": 4,
 "nbformat_minor": 2
}
