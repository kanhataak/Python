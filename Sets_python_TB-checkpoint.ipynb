{
 "cells": [
  {
   "cell_type": "markdown",
   "metadata": {},
   "source": [
    "### Set (Mutable)\n",
    "\n",
    "* Denoted by { } and items are separated using a ,\n",
    "* No indexing, no order\n",
    "* No duplicates ie. only unique items\n",
    "* Only immutable objects allowed\n",
    "* a = set() -> Empty Set\n",
    "* Methods"
   ]
  },
  {
   "cell_type": "code",
   "execution_count": 87,
   "metadata": {},
   "outputs": [
    {
     "name": "stdout",
     "output_type": "stream",
     "text": [
      "{'l', 'e', 'o', 'H'} <class 'set'>\n",
      "{'l', 'e', 'o', 'H'} <class 'set'>\n",
      "{'Python', 'Ruby', 'C++', 'Java', 'C#'} <class 'set'>\n",
      "{'l', 'e', 'o', 'H'} <class 'set'>\n",
      "set() <class 'set'>\n"
     ]
    }
   ],
   "source": [
    "set1 = {\"H\", \"e\", \"l\", \"l\", \"o\"}\n",
    "# elements in curly braces\n",
    "print(set1,type(set1))\n",
    "\n",
    "set2 = set(\"Hello\")\n",
    "# passing string to set function\n",
    "print(set2,type(set2))\n",
    "\n",
    "set3 = set([\"Python\", \"Java\", \"C++\", \"Ruby\", \"C#\"])\n",
    "# passing list to set function\n",
    "print(set3,type(set3))\n",
    "\n",
    "set4 = set((\"H\", \"e\", \"l\", \"l\", \"o\"))\n",
    "# passing tuple to set function\n",
    "print(set4,type(set4))\n",
    "\n",
    "set5 = set()\n",
    "# empty set\n",
    "print(set5,type(set5))"
   ]
  },
  {
   "cell_type": "code",
   "execution_count": 2,
   "metadata": {},
   "outputs": [
    {
     "name": "stdout",
     "output_type": "stream",
     "text": [
      "['Python', 'Java', 'C++', 'Ruby', 'C#'] <class 'list'>\n",
      "{'Python', 'Ruby', 'C++', 'Java', 'C#'} <class 'set'>\n",
      "5\n",
      "('H', 'e', 'l', 'l', 'o') <class 'tuple'>\n",
      "{'l', 'e', 'o', 'H'} <class 'set'>\n"
     ]
    }
   ],
   "source": [
    "# passing list to set function\n",
    "l=[\"Python\", \"Java\", \"C++\", \"Ruby\", \"C#\"]\n",
    "print(l,type(l))\n",
    "set3 = set(l)\n",
    "print(set3,type(set3))\n",
    "\n",
    "s=([\"Python\", \"Java\", \"C++\", \"Ruby\", \"C#\"])\n",
    "print(len(s))\n",
    "\n",
    "# passing tuple to set function\n",
    "t=(\"H\", \"e\", \"l\", \"l\", \"o\")\n",
    "print(t,type(t))\n",
    "set4 = set(t)\n",
    "print(set4,type(set4))"
   ]
  },
  {
   "cell_type": "code",
   "execution_count": 3,
   "metadata": {},
   "outputs": [
    {
     "name": "stdout",
     "output_type": "stream",
     "text": [
      "('H', 'e', 'l', 'l', 'o') <class 'tuple'>\n",
      "('H', 'e', 'l', 'l', 'o') <class 'str'>\n"
     ]
    }
   ],
   "source": [
    "t=(\"H\", \"e\", \"l\", \"l\", \"o\")\n",
    "print(t,type(t))\n",
    "s=\"\".join(str(t))\n",
    "print(s,type(s))"
   ]
  },
  {
   "cell_type": "code",
   "execution_count": 4,
   "metadata": {},
   "outputs": [
    {
     "name": "stdout",
     "output_type": "stream",
     "text": [
      "{1, 2, 4, 5, 8}\n"
     ]
    }
   ],
   "source": [
    "# No duplicates ie. only unique items\n",
    "\n",
    "s={1,2,1,4,5,8,1,2,2}\n",
    "print(s)"
   ]
  },
  {
   "cell_type": "code",
   "execution_count": 5,
   "metadata": {},
   "outputs": [
    {
     "name": "stdout",
     "output_type": "stream",
     "text": [
      "{1, 'hello', 2.4, (15, 45, 6)} <class 'set'>\n"
     ]
    }
   ],
   "source": [
    "s={1,2.4,(15,45,6),\"hello\"}\n",
    "print(s,type(s))\n",
    "# Below Statement will give an Error as set only allows\n",
    "# Immutable objects and list is mutable\n",
    "# s = {1,1.45,'HELLO',(10,20,30),[12,3]}\n",
    "# print(s)"
   ]
  },
  {
   "cell_type": "markdown",
   "metadata": {},
   "source": [
    "## Properties of Set"
   ]
  },
  {
   "cell_type": "code",
   "execution_count": 6,
   "metadata": {},
   "outputs": [
    {
     "name": "stdout",
     "output_type": "stream",
     "text": [
      "{1, 2, 3, 4, 5, 6, 7}\n",
      "{1, 2, 3, 4, 5, 6, 7}\n",
      "{1, 2, 3, 4, 5, 6, 7}\n",
      "{4, 5}\n",
      "{4, 5}\n",
      "{4, 5}\n",
      "{1, 2, 3}\n",
      "{1, 2, 3}\n",
      "{1, 2, 3}\n",
      "{1, 2, 3, 6, 7}\n",
      "{1, 2, 3, 6, 7}\n",
      "{1, 2, 3, 6, 7}\n"
     ]
    }
   ],
   "source": [
    "# Union                 |\n",
    "# Intersection          &\n",
    "# Difference            -\n",
    "# Symmetric Difference  ^\n",
    "\n",
    "s1 = {1,2,3,4,5}\n",
    "s2 = {4,5,6,7}\n",
    "# Union - The union() method returns a new set with all items from both sets:\n",
    "sets=s1 | s2\n",
    "print(sets)\n",
    "print(s1 |s2)\n",
    "print(s1.union(s2))\n",
    "\n",
    "# Intersection\n",
    "sets= s1 & s2\n",
    "print(sets)\n",
    "print(s1 & s2)\n",
    "print(s1.intersection(s2))\n",
    "\n",
    "# Difference\n",
    "sets= s1 - s2\n",
    "print(sets)\n",
    "print(s1 - s2)\n",
    "print(s1.difference(s2))\n",
    "\n",
    "# symmeric difference\n",
    "sets=s1 ^s2\n",
    "print(sets)\n",
    "print(s1.symmetric_difference(s2))\n",
    "print(s1^s2)"
   ]
  },
  {
   "cell_type": "code",
   "execution_count": 7,
   "metadata": {},
   "outputs": [],
   "source": [
    "# set method\n",
    "\n",
    "# 'add','clear','copy',\n",
    "#  'difference',\n",
    "#  'difference_update','discard','intersection',\n",
    "#  'intersection_update',\n",
    "#  'isdisjoint','issubset','issuperset',\n",
    "#  'pop','remove',\n",
    "#  'symmetric_difference',\n",
    "#  'symmetric_difference_update',\n",
    "#  'union',\n",
    "#  'update'"
   ]
  },
  {
   "cell_type": "code",
   "execution_count": 8,
   "metadata": {},
   "outputs": [
    {
     "name": "stdout",
     "output_type": "stream",
     "text": [
      "True\n",
      "False\n",
      "True\n",
      "False\n",
      "False\n",
      "False\n",
      "True\n",
      "False\n"
     ]
    }
   ],
   "source": [
    "s = {1,2,3,4,5,6}\n",
    "s1 = {1,2,3}\n",
    "s2 = {8,9} \n",
    "# Returns whether another set contains this set or not\n",
    "print(s1.issubset(s))\n",
    "print(s2.issubset(s))\n",
    "\n",
    "# Returns whether this set contains another set or not\n",
    "print(s.issuperset(s1))\n",
    "print(s1.issuperset(s))\n",
    "#\n",
    "print(s.issuperset(s2))\n",
    "print(s2.issuperset(s))\n",
    "# \tReturns whether two sets have a intersection or not\n",
    "print(s2.isdisjoint(s))\n",
    "print(s1.isdisjoint(s))"
   ]
  },
  {
   "cell_type": "code",
   "execution_count": 9,
   "metadata": {},
   "outputs": [
    {
     "name": "stdout",
     "output_type": "stream",
     "text": [
      "{'O', 'H'}\n"
     ]
    }
   ],
   "source": [
    "# intersection\n",
    "a=\"HELLO\"\n",
    "b=\"PYTHON\"\n",
    "print(set(a).intersection(set(b)))"
   ]
  },
  {
   "cell_type": "code",
   "execution_count": 10,
   "metadata": {},
   "outputs": [
    {
     "name": "stdout",
     "output_type": "stream",
     "text": [
      "{'ant', 'example'}\n"
     ]
    }
   ],
   "source": [
    "a=\"This is an example\"\n",
    "b=\"This is an ant\"\n",
    "print(set(a.split()).symmetric_difference(set(b.split())))"
   ]
  },
  {
   "cell_type": "code",
   "execution_count": 11,
   "metadata": {},
   "outputs": [
    {
     "name": "stdout",
     "output_type": "stream",
     "text": [
      "{'python', 'with'}\n",
      "{'p', 'o', 't', 'y', 'w'}\n"
     ]
    }
   ],
   "source": [
    "a=\"python with machine learning\"\n",
    "b=\"machine learning\"\n",
    "\n",
    "print(set(a.split()).symmetric_difference(set(b.split())))\n",
    "print(set(a).symmetric_difference(set(b)))"
   ]
  },
  {
   "cell_type": "code",
   "execution_count": 42,
   "metadata": {},
   "outputs": [
    {
     "name": "stdout",
     "output_type": "stream",
     "text": [
      "Help on method_descriptor:\n",
      "\n",
      "pop(...)\n",
      "    Remove and return an arbitrary set element.\n",
      "    Raises KeyError if the set is empty.\n",
      "\n",
      "Help on method_descriptor:\n",
      "\n",
      "discard(...)\n",
      "    Remove an element from a set if it is a member.\n",
      "    \n",
      "    If the element is not a member, do nothing.\n",
      "\n",
      "Help on method_descriptor:\n",
      "\n",
      "remove(...)\n",
      "    Remove an element from a set; it must be a member.\n",
      "    \n",
      "    If the element is not a member, raise a KeyError.\n",
      "\n"
     ]
    }
   ],
   "source": [
    "help(set.pop)\n",
    "help(set.discard)\n",
    "help(set.remove)"
   ]
  },
  {
   "cell_type": "code",
   "execution_count": 76,
   "metadata": {},
   "outputs": [
    {
     "name": "stdout",
     "output_type": "stream",
     "text": [
      "{'python', 30} <class 'set'> 17956912\n",
      "{'python', 10, 30} <class 'set'>\n",
      "{'python', 10, 20, 30}\n",
      "{10, 20, 'Machine learning', 'python', 30} <class 'set'>\n",
      "{10, 'Ruby', 'C++', 20, 'Machine learning', 'python', 30} <class 'set'>\n",
      "{10, 'Ruby', 'C++', 20, 'Machine learning', 'python'}\n",
      "{10, 'Ruby', 'C++', 20, 'Machine learning', 'python'}\n",
      "{'C++', 20, 'Machine learning', 'python', 10, 'Ruby'} 17640784\n",
      "{'Ruby', 'C++', 20, 'Machine learning', 'python'}\n",
      "set() 17956912\n"
     ]
    }
   ],
   "source": [
    "# set- add methods\n",
    "s=set({30,\"python\"})\n",
    "print(s,type(s),id(s))\n",
    "s.add(10)\n",
    "print(s,type(s))\n",
    "s.add(20)\n",
    "print(s)\n",
    "s.add(\"Machine learning\")\n",
    "print(s,type(s))\n",
    "\n",
    "s.update([\"python\",\"Ruby\",\"C++\"])\n",
    "print(s,type(s))\n",
    "\n",
    "# remove - Note: If the item to remove does not exist, remove() will raise an error.\n",
    "s.remove(30)\n",
    "print(s)\n",
    "\n",
    "# discard - If the item to remove does not exist, discard() will NOT raise an error.\n",
    "s.discard(40)\n",
    "print(s)\n",
    "\n",
    "# copy - The clear() method empties the set:\n",
    "d=s.copy()\n",
    "print(d,id(d))\n",
    "\n",
    "# pop - Note: Sets are unordered, so when using the pop() method, you will not know which item that gets removed.\n",
    "s.pop()\n",
    "print(s)\n",
    "\n",
    "# clear\n",
    "s.clear()\n",
    "print(s,id(s))"
   ]
  },
  {
   "cell_type": "code",
   "execution_count": 78,
   "metadata": {},
   "outputs": [
    {
     "name": "stdout",
     "output_type": "stream",
     "text": [
      "{456, 'python', 'machine leanrning', 'Hello'}\n",
      "{'python', 'java'} <class 'set'>\n"
     ]
    }
   ],
   "source": [
    "set1=({\"Hello\",456})\n",
    "set2=({\"python\",\"machine leanrning\"})\n",
    "set1.update(set2)\n",
    "print(set1)\n",
    "sets=set(('python','java'))\n",
    "print(sets,type(sets))\n"
   ]
  },
  {
   "cell_type": "markdown",
   "metadata": {},
   "source": [
    "# Frozenset(immutable)"
   ]
  },
  {
   "cell_type": "code",
   "execution_count": 49,
   "metadata": {},
   "outputs": [],
   "source": [
    "# dir(frozenset) \n",
    "# 'copy',\n",
    "#  'difference',\n",
    "#  'intersection',\n",
    "#  'isdisjoint',\n",
    "#  'issubset',\n",
    "#  'issuperset',\n",
    "#  'symmetric_difference',\n",
    "#  'union'"
   ]
  },
  {
   "cell_type": "code",
   "execution_count": 73,
   "metadata": {},
   "outputs": [
    {
     "name": "stdout",
     "output_type": "stream",
     "text": [
      "<class 'list'>\n",
      "frozenset({'orange', 'mango', 'apple'}) <class 'frozenset'>\n",
      "{'orange', 'mango', 'apple'} <class 'set'>\n"
     ]
    }
   ],
   "source": [
    "myset=[\"apple\",'orange','mango']\n",
    "print(type(myset))\n",
    "a=frozenset(myset)\n",
    "print(a,type(a))\n",
    "a=set(myset)\n",
    "print(a,type(a))"
   ]
  },
  {
   "cell_type": "code",
   "execution_count": 83,
   "metadata": {},
   "outputs": [
    {
     "name": "stdout",
     "output_type": "stream",
     "text": [
      "{1, 2, 3, 'c', 'b', 'a'}\n"
     ]
    }
   ],
   "source": [
    "set1 = {\"a\", \"b\" , \"c\"}\n",
    "set2 = {1, 2, 3}\n",
    "\n",
    "set3 = set1.union(set2)\n",
    "print(set3)"
   ]
  },
  {
   "cell_type": "code",
   "execution_count": 1,
   "metadata": {},
   "outputs": [
    {
     "name": "stdout",
     "output_type": "stream",
     "text": [
      "{'e', 'l', 'h', 'o'} <class 'set'>\n",
      "['e', 'l', 'h', 'o'] <class 'list'>\n"
     ]
    }
   ],
   "source": [
    "s=set(\"hello\")\n",
    "print(s,type(s))\n",
    "a=list(s)\n",
    "print(a,type(a))"
   ]
  },
  {
   "cell_type": "code",
   "execution_count": 3,
   "metadata": {},
   "outputs": [
    {
     "name": "stdout",
     "output_type": "stream",
     "text": [
      "24\n"
     ]
    }
   ],
   "source": [
    "dob=1996\n",
    "cdate=2020\n",
    "age=cdate - dob\n",
    "print(age)"
   ]
  },
  {
   "cell_type": "code",
   "execution_count": 4,
   "metadata": {},
   "outputs": [
    {
     "name": "stdout",
     "output_type": "stream",
     "text": [
      "kanha taak\n"
     ]
    }
   ],
   "source": [
    "f='kanha'\n",
    "l=\"taak\"\n",
    "print(f\"{f} {l}\")"
   ]
  },
  {
   "cell_type": "code",
   "execution_count": 5,
   "metadata": {},
   "outputs": [
    {
     "data": {
      "text/plain": [
       "'1100'"
      ]
     },
     "execution_count": 5,
     "metadata": {},
     "output_type": "execute_result"
    }
   ],
   "source": [
    "format(12,'b')"
   ]
  },
  {
   "cell_type": "code",
   "execution_count": 7,
   "metadata": {},
   "outputs": [
    {
     "name": "stdout",
     "output_type": "stream",
     "text": [
      "(-1-5j) <class 'complex'>\n"
     ]
    }
   ],
   "source": [
    "c=3+4j\n",
    "d=2-1j\n",
    "e=d-c\n",
    "print(e,type(e))"
   ]
  },
  {
   "cell_type": "code",
   "execution_count": 8,
   "metadata": {},
   "outputs": [
    {
     "data": {
      "text/plain": [
       "0.2999999999999998"
      ]
     },
     "execution_count": 8,
     "metadata": {},
     "output_type": "execute_result"
    }
   ],
   "source": [
    "a=7-6.7\n",
    "a"
   ]
  },
  {
   "cell_type": "code",
   "execution_count": 12,
   "metadata": {},
   "outputs": [
    {
     "data": {
      "text/plain": [
       "0.3"
      ]
     },
     "execution_count": 12,
     "metadata": {},
     "output_type": "execute_result"
    }
   ],
   "source": [
    "a=7-6.7\n",
    "round(7-6.7,3)"
   ]
  },
  {
   "cell_type": "code",
   "execution_count": 14,
   "metadata": {},
   "outputs": [
    {
     "name": "stdout",
     "output_type": "stream",
     "text": [
      "6.59\n"
     ]
    }
   ],
   "source": [
    "a=9\n",
    "p=1.49\n",
    "c=a*p\n",
    "t=20\n",
    "print(t-c)"
   ]
  },
  {
   "cell_type": "code",
   "execution_count": 15,
   "metadata": {},
   "outputs": [
    {
     "name": "stdout",
     "output_type": "stream",
     "text": [
      "15125.0\n"
     ]
    }
   ],
   "source": [
    "le=5.5\n",
    "area=le**2\n",
    "cost=area*500\n",
    "print(cost)"
   ]
  },
  {
   "cell_type": "code",
   "execution_count": 48,
   "metadata": {},
   "outputs": [
    {
     "name": "stdout",
     "output_type": "stream",
     "text": [
      "hon\n",
      "pytho\n",
      "hon\n"
     ]
    }
   ],
   "source": [
    "s=\"python\"\n",
    "print(s[-3:])\n",
    "print(s[:5])\n",
    "print(s[3:])"
   ]
  },
  {
   "cell_type": "code",
   "execution_count": 24,
   "metadata": {},
   "outputs": [
    {
     "name": "stdout",
     "output_type": "stream",
     "text": [
      "True\n"
     ]
    },
    {
     "data": {
      "text/plain": [
       "False"
      ]
     },
     "execution_count": 24,
     "metadata": {},
     "output_type": "execute_result"
    }
   ],
   "source": [
    "lang=[\"python\",'c','c++','java']\n",
    "print('python' in lang)\n",
    "'ruby' in lang"
   ]
  },
  {
   "cell_type": "code",
   "execution_count": 34,
   "metadata": {},
   "outputs": [
    {
     "name": "stdout",
     "output_type": "stream",
     "text": [
      "0\n",
      "1\n"
     ]
    }
   ],
   "source": [
    "s='c++','java'\n",
    "print(s.index('c++'))\n",
    "print(s.index('java'))\n"
   ]
  },
  {
   "cell_type": "code",
   "execution_count": 35,
   "metadata": {},
   "outputs": [
    {
     "name": "stdout",
     "output_type": "stream",
     "text": [
      "captial of india is delhi\n"
     ]
    }
   ],
   "source": [
    "a=\"captial of india is \"\n",
    "c=\"delhi\"\n",
    "print(a+c)"
   ]
  },
  {
   "cell_type": "code",
   "execution_count": 37,
   "metadata": {},
   "outputs": [
    {
     "name": "stdout",
     "output_type": "stream",
     "text": [
      "Dist of rajasthan: 33\n"
     ]
    }
   ],
   "source": [
    "a=\"Dist of rajasthan: \"\n",
    "c=33\n",
    "print(a+str(c))"
   ]
  },
  {
   "cell_type": "code",
   "execution_count": 46,
   "metadata": {},
   "outputs": [
    {
     "name": "stdout",
     "output_type": "stream",
     "text": [
      "[[90, 85, 82], [72, 88, 90]] 101683152\n",
      "[[30, 85, 82], [72, 88, 90]] 101750624\n"
     ]
    }
   ],
   "source": [
    "import copy\n",
    "A = [[90, 85, 82], [72, 88, 90]]\n",
    "# A[0][1]=40\n",
    "B = copy.deepcopy(A)\n",
    "B[0][0]=30\n",
    "print(A,id(A))\n",
    "print(B,id(B))"
   ]
  },
  {
   "cell_type": "code",
   "execution_count": 47,
   "metadata": {},
   "outputs": [
    {
     "name": "stdout",
     "output_type": "stream",
     "text": [
      "[[30, 85, 82], [72, 88, 90]] 101535536\n",
      "[[30, 85, 82], [72, 88, 90]] 96690304\n"
     ]
    }
   ],
   "source": [
    "import copy\n",
    "A = [[90, 85, 82], [72, 88, 90]]\n",
    "# A[0][1]=40\n",
    "B = copy.copy(A)\n",
    "B[0][0]=30\n",
    "print(A,id(A))\n",
    "print(B,id(B))"
   ]
  },
  {
   "cell_type": "code",
   "execution_count": 50,
   "metadata": {},
   "outputs": [
    {
     "data": {
      "text/plain": [
       "[30, 85, 10, 82, 72, 88, 90]"
      ]
     },
     "execution_count": 50,
     "metadata": {},
     "output_type": "execute_result"
    }
   ],
   "source": [
    "l=[30, 85, 82]\n",
    "l2=[72, 88, 90]\n",
    "li=l+l2\n",
    "li.insert(2,10)\n",
    "li"
   ]
  },
  {
   "cell_type": "code",
   "execution_count": 56,
   "metadata": {},
   "outputs": [
    {
     "name": "stdout",
     "output_type": "stream",
     "text": [
      "Enter the value: 5\n"
     ]
    },
    {
     "data": {
      "text/plain": [
       "'odd'"
      ]
     },
     "execution_count": 56,
     "metadata": {},
     "output_type": "execute_result"
    }
   ],
   "source": [
    "n=int(input(\"Enter the value: \"))\n",
    "msg= 'even' if n%2==0 else \"odd\"\n",
    "msg"
   ]
  },
  {
   "cell_type": "code",
   "execution_count": 57,
   "metadata": {},
   "outputs": [
    {
     "name": "stdout",
     "output_type": "stream",
     "text": [
      "Please enter your fasting sugar level:12.5\n",
      "Your sugar is low, go eat some jalebi :)\n"
     ]
    }
   ],
   "source": [
    "sugar=input(\"Please enter your tasting sugar level:\")\n",
    "sugar=float(sugar)\n",
    "if sugar<80:\n",
    "    print(\"Your sugar is low, go eat some jalebi :)\")\n",
    "elif sugar>100:\n",
    "    print(\"Your sugar is high, stop eating all mithais..!\")\n",
    "else:\n",
    "    print(\"Your sugar is normal, relax and enjoy your life!\")"
   ]
  },
  {
   "cell_type": "code",
   "execution_count": 60,
   "metadata": {},
   "outputs": [
    {
     "name": "stdout",
     "output_type": "stream",
     "text": [
      "10300\n"
     ]
    }
   ],
   "source": [
    "expances=[1200,1500,4500,3100]\n",
    "total=0\n",
    "for exp in expances:\n",
    "    total-=-exp\n",
    "print(total)"
   ]
  },
  {
   "cell_type": "code",
   "execution_count": null,
   "metadata": {},
   "outputs": [],
   "source": [
    "# ## Exercise: Python for loop\n",
    "# 1. After flipping a coin 10 times you got this result,\n",
    "# ```\n",
    "# result = [\"heads\",\"tails\",\"tails\",\"heads\",\"tails\",\"heads\",\"heads\",\"tails\",\"tails\",\"tails\"]\n",
    "# ```\n",
    "# Using for loop figure out how many times you got heads\n",
    "print(\"\\nExercise 1\\n\")\n",
    "result = [\"heads\",\"tails\",\"tails\",\"heads\",\"tails\",\"heads\",\"heads\",\"tails\",\"tails\",\"tails\"]\n",
    "count = 0\n",
    "n=input('Enter a str: ')\n",
    "for i in result:\n",
    "    if i == \"heads\":\n",
    "        count-=-1\n",
    "    elif i==\"tails\":\n",
    "        count-=-1\n",
    "    else:\n",
    "        print(\"not\")\n",
    "print(count)"
   ]
  },
  {
   "cell_type": "code",
   "execution_count": null,
   "metadata": {},
   "outputs": [],
   "source": []
  }
 ],
 "metadata": {
  "kernelspec": {
   "display_name": "Python 3",
   "language": "python",
   "name": "python3"
  },
  "language_info": {
   "codemirror_mode": {
    "name": "ipython",
    "version": 3
   },
   "file_extension": ".py",
   "mimetype": "text/x-python",
   "name": "python",
   "nbconvert_exporter": "python",
   "pygments_lexer": "ipython3",
   "version": "3.7.4"
  }
 },
 "nbformat": 4,
 "nbformat_minor": 2
}
