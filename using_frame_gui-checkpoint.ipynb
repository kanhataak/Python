{
 "cells": [
  {
   "cell_type": "code",
   "execution_count": null,
   "metadata": {},
   "outputs": [],
   "source": [
    "root=Tk()\n",
    "root.geometry('600x400')\n",
    "root.title(\"Frame\")\n",
    "\n",
    "root.title('Frame')\n",
    "#========== create frame ================\n",
    "frame1=Frame(root)\n",
    "frame2=Frame(root)\n",
    "frame3=Frame(root)\n",
    "frame4=Frame(root)\n",
    "\n",
    "# -------------create label field name frame1 --------------\n",
    "label_name=Label(frame1,text='Name:',font='Times 15').grid(row=0,column=0,pady=6,sticky=W)\n",
    "label_fname=Label(frame1,text=\"F'Name:\",font='Times 15').grid(row=1,column=0,pady=6,sticky=W)\n",
    "label_cls=Label(frame1,text='Email:',font='Times 15').grid(row=2,column=0,pady=6,sticky=W)\n",
    "\n",
    "# ------------ entry box frame1 -----------------\n",
    "entry_name=Entry(frame1).grid(row=0,column=1)\n",
    "entry_fname=Entry(frame1).grid(row=1,column=1)\n",
    "entry_cls=Entry(frame1).grid(row=2,column=1)\n",
    "\n",
    "# ------------- label field name frame2 -------------- \n",
    "label_town=Label(frame2,text='Town:',font='Times 15').grid(row=0,column=0,sticky=W,pady=6)\n",
    "label_city=Label(frame2,text=\"City:\",font='Times 15').grid(row=1,column=0,sticky=W,pady=6)\n",
    "label_state=Label(frame2,text='State:',font='Times 15').grid(row=2,column=0,sticky=W,pady=6)\n",
    "# ------------ entry box frame1\\2 -----------------\n",
    "entry_address=Entry(frame2).grid(row=0,column=1)\n",
    "entry_phone=Entry(frame2).grid(row=1,column=1)\n",
    "entry_email=Entry(frame2).grid(row=2,column=1)\n",
    "\n",
    "# -------------- List box --------------------\n",
    "list_box=Listbox(frame3, width=40, height=10).grid(padx=10)\n",
    "List_box2=Listbox(frame4,width=40, height=10).pack()\n",
    "\n",
    "# ============== submit button ===================\n",
    "btn_frame1=Button(frame1,text='Submit').grid(row=3,column=1,pady=10)\n",
    "btn_frameS=Button(frame2,text='Submit').grid(row=3,column=1,pady=10)\n",
    "\n",
    "\n",
    "frame1.grid(row=0,column=0)\n",
    "frame2.grid(row=0,column=1)\n",
    "frame3.grid(row=1,column=0)\n",
    "frame4.grid(row=1,column=1)\n",
    "\n",
    "root.mainloop()"
   ]
  }
 ],
 "metadata": {
  "kernelspec": {
   "display_name": "Python 3",
   "language": "python",
   "name": "python3"
  },
  "language_info": {
   "codemirror_mode": {
    "name": "ipython",
    "version": 3
   },
   "file_extension": ".py",
   "mimetype": "text/x-python",
   "name": "python",
   "nbconvert_exporter": "python",
   "pygments_lexer": "ipython3",
   "version": "3.7.4"
  }
 },
 "nbformat": 4,
 "nbformat_minor": 2
}
