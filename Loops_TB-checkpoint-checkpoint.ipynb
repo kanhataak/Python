{
 "cells": [
  {
   "cell_type": "markdown",
   "metadata": {},
   "source": [
    "# while Loop\n",
    "* syntax\n",
    "* while test_expression:\n",
    "    * Body of while\n",
    "    \n",
    "* The while loop in Python is used to iterate over a block of code as long as the test expression (condition) is true.\n",
    "* We generally use this loop when we don't know beforehand, the number of times to iterate."
   ]
  },
  {
   "cell_type": "code",
   "execution_count": 1,
   "metadata": {},
   "outputs": [
    {
     "name": "stdout",
     "output_type": "stream",
     "text": [
      "0 1 1 2 3 5 8 13 21 34 55 89 144 233 377 610 987 "
     ]
    }
   ],
   "source": [
    "a=0\n",
    "b=1\n",
    "while a<=1000:\n",
    "    print(a,end=\" \")\n",
    "    a,b=b,a+b"
   ]
  },
  {
   "cell_type": "code",
   "execution_count": 2,
   "metadata": {},
   "outputs": [
    {
     "name": "stdout",
     "output_type": "stream",
     "text": [
      "5\n"
     ]
    }
   ],
   "source": [
    "a=12345\n",
    "b=0\n",
    "while a:\n",
    "    a=a//10\n",
    "    b+=1\n",
    "print(b)"
   ]
  },
  {
   "cell_type": "code",
   "execution_count": 3,
   "metadata": {},
   "outputs": [
    {
     "name": "stdout",
     "output_type": "stream",
     "text": [
      "*\n",
      "**\n",
      "***\n",
      "****\n",
      "*****\n"
     ]
    }
   ],
   "source": [
    "n=5\n",
    "i=1\n",
    "while(i<=n):\n",
    "    print(\"*\"*i)\n",
    "    i=i+1"
   ]
  },
  {
   "cell_type": "code",
   "execution_count": 3,
   "metadata": {},
   "outputs": [
    {
     "name": "stdout",
     "output_type": "stream",
     "text": [
      "* \n",
      "* * \n",
      "* * * \n",
      "* * * * \n",
      "* * * * * \n"
     ]
    }
   ],
   "source": [
    "i=1\n",
    "while(i<=5):\n",
    "    print(\"* \"*i)\n",
    "    i=i+1"
   ]
  },
  {
   "cell_type": "code",
   "execution_count": 4,
   "metadata": {},
   "outputs": [],
   "source": [
    "# n=5\n",
    "# i=1\n",
    "# while(i<=n):\n",
    "#     print(\"*\"*)\n",
    "#     i=i+1"
   ]
  },
  {
   "cell_type": "code",
   "execution_count": 5,
   "metadata": {},
   "outputs": [
    {
     "name": "stdout",
     "output_type": "stream",
     "text": [
      "    *\n",
      "   **\n",
      "  ***\n",
      " ****\n",
      "*****\n"
     ]
    }
   ],
   "source": [
    "n=5\n",
    "s=n-1\n",
    "i=1\n",
    "while i<=n:\n",
    "    print(\" \"*s,end=\"\")\n",
    "    print(\"*\"*i)\n",
    "    s-=1\n",
    "    i+=1"
   ]
  },
  {
   "cell_type": "code",
   "execution_count": 6,
   "metadata": {},
   "outputs": [
    {
     "name": "stdout",
     "output_type": "stream",
     "text": [
      "*****\n",
      " ****\n",
      "  ***\n",
      "   **\n",
      "    *\n",
      "     "
     ]
    }
   ],
   "source": [
    "n=5\n",
    "s=n\n",
    "i=1\n",
    "while i<=n:\n",
    "    print(\"*\"*s)\n",
    "    print(\" \"*i,end=\"\")\n",
    "    s-=1\n",
    "    i+=1"
   ]
  },
  {
   "cell_type": "code",
   "execution_count": 7,
   "metadata": {},
   "outputs": [
    {
     "name": "stdout",
     "output_type": "stream",
     "text": [
      "      *\n",
      "     * *\n",
      "    * * *\n",
      "   * * * *\n",
      "  * * * * *\n"
     ]
    }
   ],
   "source": [
    "n=5\n",
    "s=n\n",
    "i=1\n",
    "while i<=n:\n",
    "    \n",
    "    print(\" \"*s,end=\"\")\n",
    "    print(\" *\"*i)\n",
    "    s-=1\n",
    "    i+=1"
   ]
  },
  {
   "cell_type": "code",
   "execution_count": 8,
   "metadata": {},
   "outputs": [
    {
     "name": "stdout",
     "output_type": "stream",
     "text": [
      "* * * * * \n",
      "* * * * \n",
      "* * * \n",
      "* * \n",
      "* \n",
      "* * * * * \n",
      "* * * * \n",
      "* * * \n",
      "* * \n",
      "* \n"
     ]
    }
   ],
   "source": [
    "n=5\n",
    "s=n\n",
    "i=1\n",
    "while i<=n:\n",
    "    print(\"* \"*s)\n",
    "    print(\"\"*i,end=\"\")\n",
    "    s-=1\n",
    "    i+=1\n",
    "    \n",
    "n=0\n",
    "i=5\n",
    "while i>n:\n",
    "    print(\"* \"*i)\n",
    "    i-=1"
   ]
  },
  {
   "cell_type": "code",
   "execution_count": 9,
   "metadata": {},
   "outputs": [
    {
     "name": "stdout",
     "output_type": "stream",
     "text": [
      " * * * * *\n",
      " * * * * *\n",
      " * * * * *\n",
      " * * * * *\n",
      " * * * * *\n"
     ]
    }
   ],
   "source": [
    "n=5\n",
    "# s=n\n",
    "i=1\n",
    "while(i<=n):\n",
    "    print(\" *\"*n)\n",
    "#     print(\"\"*i)\n",
    "    i=i+1"
   ]
  },
  {
   "cell_type": "code",
   "execution_count": 10,
   "metadata": {},
   "outputs": [
    {
     "name": "stdout",
     "output_type": "stream",
     "text": [
      "*  \n",
      "* *  \n",
      "* * *  \n",
      "* * * *  \n",
      "* * * * *  \n"
     ]
    }
   ],
   "source": [
    "i = 1\n",
    "\n",
    "while(i<=5):\n",
    "    j = 1\n",
    "    while(j<=i):\n",
    "        print(\"* \",end=\"\")\n",
    "        j=j+1\n",
    "    i=i+1\n",
    "    print(\" \")\n",
    "    "
   ]
  },
  {
   "cell_type": "code",
   "execution_count": 11,
   "metadata": {},
   "outputs": [
    {
     "name": "stdout",
     "output_type": "stream",
     "text": [
      " *\n",
      " * *\n",
      " * * *\n",
      " * * * *\n",
      " * * * * *\n",
      " * * * *\n",
      " * * *\n",
      " * *\n",
      " *\n",
      "\n"
     ]
    }
   ],
   "source": [
    "\n",
    "n=5\n",
    "s=n\n",
    "i=1\n",
    "t=0\n",
    "while i<=n:\n",
    "    print(\" *\"*i)\n",
    "    print(\"\"*s,end=\"\")\n",
    "    #print(i)\n",
    "    if(t==0):\n",
    "        #s-=1\n",
    "        i+=1\n",
    "    else:\n",
    "        #s-=1\n",
    "        i-=1\n",
    "    if i==5:\n",
    "       t = 1\n",
    "    elif i == -1:\n",
    "        i=6\n",
    "           \n",
    "        "
   ]
  },
  {
   "cell_type": "code",
   "execution_count": 12,
   "metadata": {},
   "outputs": [
    {
     "name": "stdout",
     "output_type": "stream",
     "text": [
      "* * * * * \n",
      "* * * * \n",
      "* * * \n",
      "* * \n",
      "* \n"
     ]
    }
   ],
   "source": [
    "n=0\n",
    "i=5\n",
    "while i>n:\n",
    "    print(\"* \"*i)\n",
    "    i-=1"
   ]
  },
  {
   "cell_type": "code",
   "execution_count": 13,
   "metadata": {},
   "outputs": [
    {
     "name": "stdout",
     "output_type": "stream",
     "text": [
      "Help on built-in function print in module builtins:\n",
      "\n",
      "print(...)\n",
      "    print(value, ..., sep=' ', end='\\n', file=sys.stdout, flush=False)\n",
      "    \n",
      "    Prints the values to a stream, or to sys.stdout by default.\n",
      "    Optional keyword arguments:\n",
      "    file:  a file-like object (stream); defaults to the current sys.stdout.\n",
      "    sep:   string inserted between values, default a space.\n",
      "    end:   string appended after the last value, default a newline.\n",
      "    flush: whether to forcibly flush the stream.\n",
      "\n"
     ]
    }
   ],
   "source": [
    "help(print)"
   ]
  },
  {
   "cell_type": "code",
   "execution_count": 14,
   "metadata": {},
   "outputs": [
    {
     "name": "stdout",
     "output_type": "stream",
     "text": [
      "python->Java->Ruby\n"
     ]
    }
   ],
   "source": [
    "print(\"python\",\"Java\",'Ruby',sep='->')"
   ]
  },
  {
   "cell_type": "code",
   "execution_count": 15,
   "metadata": {},
   "outputs": [
    {
     "name": "stdout",
     "output_type": "stream",
     "text": [
      "1 2 3 4 5 6 7 8 9 10 \n",
      "outside loop\n"
     ]
    }
   ],
   "source": [
    "a=1\n",
    "while a<=10:\n",
    "    print(a,end=' ')\n",
    "    a-=-1\n",
    "print()\n",
    "print(\"outside loop\")\n",
    "\n"
   ]
  },
  {
   "cell_type": "code",
   "execution_count": 16,
   "metadata": {},
   "outputs": [
    {
     "name": "stdout",
     "output_type": "stream",
     "text": [
      "Hi Kanha Taak How are you.\n",
      "HI Kanha Taak How are you.\n",
      "Hi Kanha Taak How are you.\n"
     ]
    }
   ],
   "source": [
    "# formating\n",
    "first=\"Kanha\"\n",
    "last='Taak'\n",
    "print('Hi',first ,last,'How are you.')\n",
    "print('HI {} {} How are you.'.format(first,last))\n",
    "print(f'Hi {first} {last} How are you.')"
   ]
  },
  {
   "cell_type": "code",
   "execution_count": 17,
   "metadata": {},
   "outputs": [
    {
     "name": "stdout",
     "output_type": "stream",
     "text": [
      "Enter the first number 4\n",
      "Enter the second number 4\n",
      "4 * 4 = 16\n",
      "4 * 4 = 16\n"
     ]
    }
   ],
   "source": [
    "a=int(input(\"Enter the first number \" ))\n",
    "\n",
    "b=int(input('Enter the second number ' ))\n",
    "print(a,\"*\",b,'=',a*b)\n",
    "print(f'{a} * {b} = {a*b}')"
   ]
  },
  {
   "cell_type": "code",
   "execution_count": 18,
   "metadata": {},
   "outputs": [
    {
     "name": "stdout",
     "output_type": "stream",
     "text": [
      "Enter the number = 45\n",
      "45 * 1 = 45\n",
      "45 * 2 = 90\n",
      "45 * 3 = 135\n",
      "45 * 4 = 180\n",
      "45 * 5 = 225\n",
      "45 * 6 = 270\n",
      "45 * 7 = 315\n",
      "45 * 8 = 360\n",
      "45 * 9 = 405\n",
      "45 * 10 = 450\n"
     ]
    }
   ],
   "source": [
    "a=int(input('Enter the number = '))\n",
    "i=1\n",
    "while i<=10:\n",
    "    print(f'{a} * {i} = {a*i}')\n",
    "    i-=-1"
   ]
  },
  {
   "cell_type": "markdown",
   "metadata": {},
   "source": [
    "## Variable asignment\n"
   ]
  },
  {
   "cell_type": "code",
   "execution_count": 19,
   "metadata": {},
   "outputs": [
    {
     "name": "stdout",
     "output_type": "stream",
     "text": [
      "8\n",
      "9\n",
      "9\n",
      "10 12 13\n",
      "12 10\n"
     ]
    }
   ],
   "source": [
    "a=8\n",
    "print(a)\n",
    "\n",
    "a=b=9\n",
    "print(a)\n",
    "print(b)\n",
    "\n",
    "a,b,c=10,12,13\n",
    "print(a,b,c)\n",
    "\n",
    "a,b=b,a\n",
    "print(a,b)"
   ]
  },
  {
   "cell_type": "code",
   "execution_count": 20,
   "metadata": {},
   "outputs": [
    {
     "name": "stdout",
     "output_type": "stream",
     "text": [
      "1 2\n",
      "2 3\n"
     ]
    }
   ],
   "source": [
    "a=1\n",
    "b=2\n",
    "print(a,b)\n",
    "\n",
    "c=a+b\n",
    "a=b\n",
    "b=c\n",
    "print(a,b)"
   ]
  },
  {
   "cell_type": "code",
   "execution_count": 21,
   "metadata": {},
   "outputs": [
    {
     "name": "stdout",
     "output_type": "stream",
     "text": [
      "1 2\n",
      "2 3\n"
     ]
    }
   ],
   "source": [
    "a=1\n",
    "b=2\n",
    "print(a,b)\n",
    "\n",
    "a,b=b,a+b\n",
    "print(a,b)"
   ]
  },
  {
   "cell_type": "code",
   "execution_count": 22,
   "metadata": {},
   "outputs": [
    {
     "name": "stdout",
     "output_type": "stream",
     "text": [
      "enter the number : 78\n",
      "Fibonacci sequence:\n",
      "0 1 1 2 3 5 8 13 21 34 55 "
     ]
    }
   ],
   "source": [
    "# Printing all numbers in fibonacci series till 1000\n",
    "num=int(input(\"enter the number : \"))\n",
    "\n",
    "a,b=0,1\n",
    "# count=0\n",
    "\n",
    "if num<=0:\n",
    "    print(\"enter positive number\")\n",
    "    \n",
    "elif num==1:\n",
    "    print(\"Fibonacci sequence upto\" ,num)\n",
    "    print(a)\n",
    "    \n",
    "else:\n",
    "    print(\"Fibonacci sequence:\")\n",
    "    \n",
    "while a<=num:\n",
    "    print(a,end=\" \")\n",
    "    a,b=b,a+b\n",
    "    "
   ]
  },
  {
   "cell_type": "code",
   "execution_count": 23,
   "metadata": {},
   "outputs": [
    {
     "name": "stdout",
     "output_type": "stream",
     "text": [
      "6\n",
      "6\n"
     ]
    }
   ],
   "source": [
    "# counting the number of digits in a number\n",
    "a=123456\n",
    "print(len(str(a)))\n",
    "\n",
    "# using loops\n",
    "b=a\n",
    "n=0\n",
    "while a:\n",
    "    a=a//10\n",
    "    n-=-1\n",
    "print(n)"
   ]
  },
  {
   "cell_type": "markdown",
   "metadata": {},
   "source": [
    "## for loop "
   ]
  },
  {
   "cell_type": "code",
   "execution_count": 24,
   "metadata": {},
   "outputs": [
    {
     "name": "stdout",
     "output_type": "stream",
     "text": [
      "10\n",
      "12\n",
      "15\n",
      "14\n"
     ]
    }
   ],
   "source": [
    "for i in [10,12,15,14]:\n",
    "    print(i)"
   ]
  },
  {
   "cell_type": "code",
   "execution_count": 25,
   "metadata": {},
   "outputs": [
    {
     "name": "stdout",
     "output_type": "stream",
     "text": [
      "1\n",
      "2\n",
      "3\n",
      "4\n",
      "5\n",
      "6\n"
     ]
    }
   ],
   "source": [
    "l=[1,2,3,4,5,6]\n",
    "for i in l:\n",
    "    print(i)"
   ]
  },
  {
   "cell_type": "code",
   "execution_count": 26,
   "metadata": {},
   "outputs": [
    {
     "name": "stdout",
     "output_type": "stream",
     "text": [
      "[1, 2, 4, 5]\n",
      "[1, 2, 4, 5]\n",
      "[1, 2, 4, 5]\n",
      "[1, 2, 4, 5]\n"
     ]
    }
   ],
   "source": [
    "l=[1,2,4,5]\n",
    "for i in l:\n",
    "    print(l)"
   ]
  },
  {
   "cell_type": "code",
   "execution_count": 27,
   "metadata": {},
   "outputs": [
    {
     "name": "stdout",
     "output_type": "stream",
     "text": [
      "P\n",
      "y\n",
      "t\n",
      "h\n",
      "o\n",
      "n\n",
      "Python"
     ]
    }
   ],
   "source": [
    "for i in \"Python\":\n",
    "    print(i)\n",
    "    \n",
    "s=\"Python\"\n",
    "for i in s:\n",
    "    print(i,end=\"\")"
   ]
  },
  {
   "cell_type": "code",
   "execution_count": 28,
   "metadata": {},
   "outputs": [
    {
     "name": "stdout",
     "output_type": "stream",
     "text": [
      "Hello\n",
      "python\n",
      "124\n"
     ]
    }
   ],
   "source": [
    "l=[\"Hello\",\"python\",124]\n",
    "for i in l:\n",
    "    print(i)"
   ]
  },
  {
   "cell_type": "code",
   "execution_count": 29,
   "metadata": {},
   "outputs": [
    {
     "name": "stdout",
     "output_type": "stream",
     "text": [
      "Hello\n",
      "H\n",
      "e\n",
      "l\n",
      "l\n",
      "o\n",
      "python\n",
      "p\n",
      "y\n",
      "t\n",
      "h\n",
      "o\n",
      "n\n",
      "124\n"
     ]
    }
   ],
   "source": [
    "l=[\"Hello\",\"python\",124]\n",
    "for i in l:\n",
    "    print(i)\n",
    "    if type(i)==str:\n",
    "        for j in i:\n",
    "            print(j)"
   ]
  },
  {
   "cell_type": "code",
   "execution_count": 30,
   "metadata": {},
   "outputs": [
    {
     "name": "stdout",
     "output_type": "stream",
     "text": [
      "10 A\n",
      "10 B\n",
      "20 A\n",
      "20 B\n",
      "30 A\n",
      "30 B\n"
     ]
    }
   ],
   "source": [
    "for i in [10,20,30]:\n",
    "    for j in ['A','B']:\n",
    "        print(i,j)"
   ]
  },
  {
   "cell_type": "markdown",
   "metadata": {},
   "source": [
    "# Range()"
   ]
  },
  {
   "cell_type": "code",
   "execution_count": 31,
   "metadata": {},
   "outputs": [
    {
     "name": "stdout",
     "output_type": "stream",
     "text": [
      "0\n",
      "1\n",
      "2\n",
      "3\n",
      "4\n",
      "5\n",
      "345"
     ]
    }
   ],
   "source": [
    "for i in range(6):\n",
    "    print(i)\n",
    "    \n",
    "for i in range(3,6):\n",
    "    print(i,end=\"\")"
   ]
  },
  {
   "cell_type": "code",
   "execution_count": 32,
   "metadata": {},
   "outputs": [
    {
     "name": "stdout",
     "output_type": "stream",
     "text": [
      "3\n",
      "5\n",
      "7\n",
      "9\n",
      "11\n",
      "13\n",
      "15\n",
      "17\n",
      "19\n",
      "21\n",
      "23\n"
     ]
    }
   ],
   "source": [
    "for i in range(3,25,2):\n",
    "    print(i)"
   ]
  },
  {
   "cell_type": "code",
   "execution_count": 33,
   "metadata": {},
   "outputs": [
    {
     "name": "stdout",
     "output_type": "stream",
     "text": [
      "[0, 1, 2, 3, 4]\n",
      "[1, 2, 3, 4]\n",
      "[1, 3]\n",
      "[0, 1, 2, 3, 4]\n"
     ]
    }
   ],
   "source": [
    "a=list(range(5))\n",
    "print(a)\n",
    "\n",
    "a=list(range(1,5))\n",
    "print(a)\n",
    "\n",
    "a=list(range(1,5,2))\n",
    "print(a)\n",
    "\n",
    "a=list(range(0,5,1))\n",
    "print(a)"
   ]
  },
  {
   "cell_type": "code",
   "execution_count": 34,
   "metadata": {},
   "outputs": [
    {
     "name": "stdout",
     "output_type": "stream",
     "text": [
      "P\n",
      "y\n",
      "t\n",
      "h\n",
      "o\n",
      "n\n",
      "0 P\n",
      "1 y\n",
      "2 t\n",
      "3 h\n",
      "4 o\n",
      "5 n\n"
     ]
    }
   ],
   "source": [
    "a=\"Python\"\n",
    "for i in a:\n",
    "    print(i)\n",
    "    \n",
    "for i in range(len(a)):\n",
    "    print(i,a[i])"
   ]
  },
  {
   "cell_type": "code",
   "execution_count": 35,
   "metadata": {},
   "outputs": [
    {
     "name": "stdout",
     "output_type": "stream",
     "text": [
      "0 1 1 2 3 5 8 13 21 34 \n",
      "0 1 1 2 3 5 8 13 21 34 "
     ]
    }
   ],
   "source": [
    "a,b=0,1\n",
    "\n",
    "for i in range(10):\n",
    "    print(a,end=\" \")\n",
    "    a,b=b,a+b\n",
    "print()\n",
    "    \n",
    "a=0\n",
    "b=1\n",
    "for i in range(10):\n",
    "    print(a,end=\" \")\n",
    "    c=a+b\n",
    "    a=b\n",
    "    b=c"
   ]
  },
  {
   "cell_type": "code",
   "execution_count": 36,
   "metadata": {},
   "outputs": [
    {
     "name": "stdout",
     "output_type": "stream",
     "text": [
      "0\n",
      "1\n",
      "2\n",
      "3\n",
      "4\n",
      "End is loop\n",
      "0\n",
      "1\n",
      "2\n",
      "3\n",
      "4\n",
      "6\n",
      "7\n",
      "8\n",
      "9\n"
     ]
    }
   ],
   "source": [
    "# break and continue\n",
    "\n",
    "for i in range(10):\n",
    "    if i==5:\n",
    "        break\n",
    "    print(i)\n",
    "print(\"End is loop\")\n",
    "\n",
    "for i in range(10):\n",
    "    if i==5:\n",
    "        continue\n",
    "    print(i)"
   ]
  },
  {
   "cell_type": "code",
   "execution_count": 37,
   "metadata": {},
   "outputs": [
    {
     "name": "stdout",
     "output_type": "stream",
     "text": [
      "[124256, 457812, 123456]\n"
     ]
    }
   ],
   "source": [
    "a=[45789457,4578,124256,1578945623,457812,123456,125]\n",
    "b=[]\n",
    "for i in a:\n",
    "    if len(str(i)) !=6:\n",
    "        continue\n",
    "    b.append(i)\n",
    "print(b)"
   ]
  },
  {
   "cell_type": "markdown",
   "metadata": {},
   "source": [
    "## Loop with an else statement\n",
    "\n",
    "An optional loop completion else statement can be added to check if the loop ran its whole length and did not encounter a break in between.\n",
    "\n",
    "#### Syntax\n",
    "\n",
    "for variable in sequence :\n",
    "\n",
    "    Body of the Loop\n",
    "    \n",
    "else:\n",
    "\n",
    "\n",
    "    Body of else\n",
    "    \n",
    "    \n",
    "    \n",
    "Further Code"
   ]
  },
  {
   "cell_type": "code",
   "execution_count": 38,
   "metadata": {},
   "outputs": [
    {
     "name": "stdout",
     "output_type": "stream",
     "text": [
      "i: 0\n",
      "\tj: 0\n",
      "\tj: 1\n",
      "\tj: 2\n",
      "\tj: 3\n",
      "i: 1\n",
      "\tj: 0\n",
      "\tj: 1\n",
      "\tj: 2\n",
      "\tj: 3\n"
     ]
    }
   ],
   "source": [
    "for i in range(2):\n",
    "    print(\"i:\",i)\n",
    "    for j in range(4):\n",
    "        print(\"\\tj:\",j)"
   ]
  },
  {
   "cell_type": "code",
   "execution_count": 39,
   "metadata": {},
   "outputs": [
    {
     "name": "stdout",
     "output_type": "stream",
     "text": [
      "0\n",
      "1\n",
      "2\n",
      "3\n",
      "4\n",
      "Else part\n",
      "U can cantinue\n"
     ]
    }
   ],
   "source": [
    "for i in range(5):\n",
    "    print(i)\n",
    "else:\n",
    "    print(\"Else part\")\n",
    "print(\"U can cantinue\")"
   ]
  },
  {
   "cell_type": "code",
   "execution_count": 40,
   "metadata": {},
   "outputs": [
    {
     "name": "stdout",
     "output_type": "stream",
     "text": [
      "0\n",
      "1\n",
      "2\n",
      "Next code\n"
     ]
    }
   ],
   "source": [
    "for i in range(5):\n",
    "    if i==3:\n",
    "        break\n",
    "    print(i)\n",
    "else:\n",
    "    print(\"Else\")\n",
    "print(\"Next code\")"
   ]
  },
  {
   "cell_type": "code",
   "execution_count": 41,
   "metadata": {},
   "outputs": [
    {
     "name": "stdout",
     "output_type": "stream",
     "text": [
      "0\n",
      "1\n",
      "2\n",
      "3\n",
      "4\n",
      "Else\n",
      "Next code\n"
     ]
    }
   ],
   "source": [
    "for i in range(5):\n",
    "    if i==5:\n",
    "        break\n",
    "    print(i)\n",
    "else:\n",
    "    print(\"Else\")\n",
    "print(\"Next code\")"
   ]
  },
  {
   "cell_type": "code",
   "execution_count": 42,
   "metadata": {},
   "outputs": [
    {
     "name": "stdout",
     "output_type": "stream",
     "text": [
      "120\n"
     ]
    }
   ],
   "source": [
    "def fact(n):\n",
    "    a=1\n",
    "    for i in range(1,n+1):\n",
    "    \n",
    "        a=a*i\n",
    "    print(a)\n",
    "fact(5)\n",
    "    "
   ]
  },
  {
   "cell_type": "code",
   "execution_count": 43,
   "metadata": {},
   "outputs": [
    {
     "name": "stdout",
     "output_type": "stream",
     "text": [
      "enter the number : 700\n",
      "2\n",
      "3\n",
      "5\n",
      "7\n",
      "11\n",
      "13\n",
      "17\n",
      "19\n",
      "23\n",
      "29\n",
      "31\n",
      "37\n",
      "41\n",
      "43\n",
      "47\n",
      "53\n",
      "59\n",
      "61\n",
      "67\n",
      "71\n",
      "73\n",
      "79\n",
      "83\n",
      "89\n",
      "97\n",
      "101\n",
      "103\n",
      "107\n",
      "109\n",
      "113\n",
      "127\n",
      "131\n",
      "137\n",
      "139\n",
      "149\n",
      "151\n",
      "157\n",
      "163\n",
      "167\n",
      "173\n",
      "179\n",
      "181\n",
      "191\n",
      "193\n",
      "197\n",
      "199\n",
      "211\n",
      "223\n",
      "227\n",
      "229\n",
      "233\n",
      "239\n",
      "241\n",
      "251\n",
      "257\n",
      "263\n",
      "269\n",
      "271\n",
      "277\n",
      "281\n",
      "283\n",
      "293\n",
      "307\n",
      "311\n",
      "313\n",
      "317\n",
      "331\n",
      "337\n",
      "347\n",
      "349\n",
      "353\n",
      "359\n",
      "367\n",
      "373\n",
      "379\n",
      "383\n",
      "389\n",
      "397\n",
      "401\n",
      "409\n",
      "419\n",
      "421\n",
      "431\n",
      "433\n",
      "439\n",
      "443\n",
      "449\n",
      "457\n",
      "461\n",
      "463\n",
      "467\n",
      "479\n",
      "487\n",
      "491\n",
      "499\n",
      "503\n",
      "509\n",
      "521\n",
      "523\n",
      "541\n",
      "547\n",
      "557\n",
      "563\n",
      "569\n",
      "571\n",
      "577\n",
      "587\n",
      "593\n",
      "599\n",
      "601\n",
      "607\n",
      "613\n",
      "617\n",
      "619\n",
      "631\n",
      "641\n",
      "643\n",
      "647\n",
      "653\n",
      "659\n",
      "661\n",
      "673\n",
      "677\n",
      "683\n",
      "691\n"
     ]
    }
   ],
   "source": [
    "# prime number and passing a range of number how many prime number in given list\n",
    "a=1\n",
    "b=int(input('enter the number : '))\n",
    "for i in range(a,b+1):\n",
    "    if i>1:\n",
    "        for num in range(2,i):\n",
    "            if i % num ==0:\n",
    "                break\n",
    "        else:\n",
    "            print(i)"
   ]
  },
  {
   "cell_type": "code",
   "execution_count": 44,
   "metadata": {},
   "outputs": [
    {
     "name": "stdout",
     "output_type": "stream",
     "text": [
      "2\n",
      "3\n",
      "5\n",
      "7\n",
      "9\n",
      "11\n",
      "13\n",
      "15\n",
      "17\n",
      "19\n"
     ]
    }
   ],
   "source": [
    "b=[1,2,3,4,5,6,7,8,9,10,12,11,13,14,15,16,17,18,19,20]\n",
    "for i in b:\n",
    "    if i > 1:\n",
    "        for num in range(2,i):\n",
    "            if i % 2 ==0:\n",
    "                break\n",
    "        else:\n",
    "            print(i)"
   ]
  },
  {
   "cell_type": "code",
   "execution_count": 45,
   "metadata": {},
   "outputs": [
    {
     "name": "stdout",
     "output_type": "stream",
     "text": [
      "2.5\n",
      "2\n",
      "1\n"
     ]
    }
   ],
   "source": [
    "print(5/2)\n",
    "print(5//2)\n",
    "print(5%2)"
   ]
  },
  {
   "cell_type": "markdown",
   "metadata": {},
   "source": [
    "### List Comprehension\n",
    "\n",
    "\n",
    "#### Syntax\n",
    "\n",
    "[expression for vairable in sequence]\n",
    "\n",
    "[expression for variable in sequence if condition filetering]\n",
    "\n",
    "[expression if condtion else expression for varaible in sequence]"
   ]
  },
  {
   "cell_type": "code",
   "execution_count": 48,
   "metadata": {},
   "outputs": [
    {
     "name": "stdout",
     "output_type": "stream",
     "text": [
      "[0, 1, 2, 3, 4]\n"
     ]
    }
   ],
   "source": [
    "a=[]\n",
    "for i in range(5):\n",
    "    a.append(i)\n",
    "print(a)"
   ]
  },
  {
   "cell_type": "code",
   "execution_count": 50,
   "metadata": {},
   "outputs": [
    {
     "name": "stdout",
     "output_type": "stream",
     "text": [
      "[2, 3, 4]\n"
     ]
    }
   ],
   "source": [
    "a=[]\n",
    "for i in range(2,5):\n",
    "    a.append(i)\n",
    "print(a)"
   ]
  },
  {
   "cell_type": "code",
   "execution_count": 53,
   "metadata": {},
   "outputs": [
    {
     "name": "stdout",
     "output_type": "stream",
     "text": [
      "[0, 1, 2, 3, 4]\n"
     ]
    }
   ],
   "source": [
    "# Using List comprehension (LC)\n",
    "\n",
    "a=[i for i in range(5)]\n",
    "print(a)"
   ]
  },
  {
   "cell_type": "code",
   "execution_count": 69,
   "metadata": {},
   "outputs": [
    {
     "name": "stdout",
     "output_type": "stream",
     "text": [
      "[1, 2, 3, 4]\n"
     ]
    }
   ],
   "source": [
    "l=['1','2','3','4']\n",
    "for i in range(len(l)):\n",
    "    l[i]=int(l[i])\n",
    "print(l)"
   ]
  },
  {
   "cell_type": "code",
   "execution_count": 75,
   "metadata": {},
   "outputs": [
    {
     "name": "stdout",
     "output_type": "stream",
     "text": [
      "[1, 2, 3, 4]\n"
     ]
    }
   ],
   "source": [
    "# Using List comprehension (LC)\n",
    "\n",
    "l=['1','2','3','4']\n",
    "l=[int(l[i]) for i in range(len(l)) ]\n",
    "print(l)"
   ]
  },
  {
   "cell_type": "code",
   "execution_count": 78,
   "metadata": {},
   "outputs": [
    {
     "name": "stdout",
     "output_type": "stream",
     "text": [
      "[1, 3, 5, 7, 9, 11, 13, 15, 17, 19]\n"
     ]
    }
   ],
   "source": [
    "l=[]\n",
    "for i in range(20):\n",
    "    if i%2 != 0:\n",
    "        l.append(i)\n",
    "print(l)"
   ]
  },
  {
   "cell_type": "code",
   "execution_count": null,
   "metadata": {},
   "outputs": [],
   "source": []
  }
 ],
 "metadata": {
  "kernelspec": {
   "display_name": "Python 3",
   "language": "python",
   "name": "python3"
  },
  "language_info": {
   "codemirror_mode": {
    "name": "ipython",
    "version": 3
   },
   "file_extension": ".py",
   "mimetype": "text/x-python",
   "name": "python",
   "nbconvert_exporter": "python",
   "pygments_lexer": "ipython3",
   "version": "3.7.4"
  }
 },
 "nbformat": 4,
 "nbformat_minor": 2
}
