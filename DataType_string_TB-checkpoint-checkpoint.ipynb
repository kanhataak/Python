{
 "cells": [
  {
   "cell_type": "markdown",
   "metadata": {},
   "source": [
    "# Data type in python"
   ]
  },
  {
   "cell_type": "markdown",
   "metadata": {},
   "source": [
    "# Numbers "
   ]
  },
  {
   "cell_type": "markdown",
   "metadata": {},
   "source": [
    "## * int\n",
    "## * float\n",
    "## * complex"
   ]
  },
  {
   "cell_type": "code",
   "execution_count": 1,
   "metadata": {},
   "outputs": [
    {
     "name": "stdout",
     "output_type": "stream",
     "text": [
      "3 <class 'int'>\n"
     ]
    }
   ],
   "source": [
    "a=3\n",
    "print(a,type(a))"
   ]
  },
  {
   "cell_type": "code",
   "execution_count": 2,
   "metadata": {},
   "outputs": [
    {
     "name": "stdout",
     "output_type": "stream",
     "text": [
      "7.1 <class 'float'>\n"
     ]
    }
   ],
   "source": [
    "b=7.1\n",
    "print(b,type(b))"
   ]
  },
  {
   "cell_type": "code",
   "execution_count": 3,
   "metadata": {},
   "outputs": [
    {
     "name": "stdout",
     "output_type": "stream",
     "text": [
      "30\n"
     ]
    }
   ],
   "source": [
    "a=23\n",
    "b=7\n",
    "c=a+b\n",
    "print(c)"
   ]
  },
  {
   "cell_type": "code",
   "execution_count": 4,
   "metadata": {},
   "outputs": [
    {
     "name": "stdout",
     "output_type": "stream",
     "text": [
      "kanha taak <class 'str'>\n"
     ]
    }
   ],
   "source": [
    "name=\"kanha taak\"\n",
    "print(name,type(name))"
   ]
  },
  {
   "cell_type": "markdown",
   "metadata": {},
   "source": [
    "# Complex in python"
   ]
  },
  {
   "cell_type": "code",
   "execution_count": 5,
   "metadata": {},
   "outputs": [
    {
     "name": "stdout",
     "output_type": "stream",
     "text": [
      "(4+6j) <class 'complex'>\n",
      "6.0\n",
      "4.0\n"
     ]
    }
   ],
   "source": [
    "# it is complex denoted by \"j\"\n",
    "c=4+6j\n",
    "print(c,type(c))\n",
    "print(c.imag)\n",
    "print(c.real)"
   ]
  },
  {
   "cell_type": "code",
   "execution_count": 6,
   "metadata": {},
   "outputs": [
    {
     "name": "stdout",
     "output_type": "stream",
     "text": [
      "(2-3j) <class 'complex'>\n",
      "(1+0j)\n",
      "0j\n",
      "(5-8j) <class 'complex'>\n"
     ]
    }
   ],
   "source": [
    "a= complex(2,-3)\n",
    "print(a,type(a))\n",
    "\n",
    "a= complex(1)\n",
    "print(a)\n",
    "\n",
    "a= complex()\n",
    "print(a)\n",
    "\n",
    "a= complex('5-8j')\n",
    "print(a,type(a))\n"
   ]
  },
  {
   "cell_type": "code",
   "execution_count": 7,
   "metadata": {},
   "outputs": [
    {
     "name": "stdout",
     "output_type": "stream",
     "text": [
      "(1+0j)\n",
      "1.0\n",
      "0.0\n"
     ]
    }
   ],
   "source": [
    "a=complex(-4+5)\n",
    "print(a)\n",
    "print(a.real)\n",
    "print(a.imag)"
   ]
  },
  {
   "cell_type": "code",
   "execution_count": 8,
   "metadata": {},
   "outputs": [
    {
     "name": "stdout",
     "output_type": "stream",
     "text": [
      "a = (2+3j)\n",
      "Type of a is <class 'complex'>\n",
      "b = (-0-2j)\n",
      "Type of b is <class 'complex'>\n",
      "c = 0j\n",
      "Type of c is <class 'complex'>\n"
     ]
    }
   ],
   "source": [
    "a = 2+3j\n",
    "print('a =',a)\n",
    "print('Type of a is',type(a))\n",
    "\n",
    "b = -2j\n",
    "print('b =',b)\n",
    "print('Type of b is',type(a))\n",
    "\n",
    "c = 0j\n",
    "print('c =',c)\n",
    "print('Type of c is',type(c))"
   ]
  },
  {
   "cell_type": "markdown",
   "metadata": {},
   "source": [
    "# Note:\n",
    "### Python is interpreted so line by line execution happens\n",
    "### ' \\ ' (Backslash is a line continuation chracter)\n",
    "### Indentation(tab- space) is important in python"
   ]
  },
  {
   "cell_type": "code",
   "execution_count": 9,
   "metadata": {},
   "outputs": [
    {
     "name": "stdout",
     "output_type": "stream",
     "text": [
      "5 is odd\n",
      "Enter the integer value, We will be know Even & Odd= 45\n",
      "45  is odd\n"
     ]
    }
   ],
   "source": [
    "# Example of structure of Python Program with indentation\n",
    "# We will be covering conditionals in detail. This is an example.\n",
    "\n",
    "a = 5\n",
    "\n",
    "if a%2 == 0:\n",
    "    print(a,'is even')\n",
    "else:\n",
    "    print(a,'is odd')\n",
    "    \n",
    "num =int(input(\"Enter the integer value, We will be know Even & Odd= \"))\n",
    "if num%2 ==0:\n",
    "    print(num,\" is even\")\n",
    "else:\n",
    "    print(num,' is odd')\n",
    "        "
   ]
  },
  {
   "cell_type": "markdown",
   "metadata": {},
   "source": [
    "# Strings (Immutable)\n",
    "### Denoted by ' ', \" \", \"\"\" \"\"\" or ''' '''(Paragraphs)\n",
    "### Concatenation\n",
    "### Indexing\n",
    "### Slicing\n",
    "### Methods\n"
   ]
  },
  {
   "cell_type": "code",
   "execution_count": 10,
   "metadata": {},
   "outputs": [
    {
     "name": "stdout",
     "output_type": "stream",
     "text": [
      "Python\n",
      " Python\n",
      " Python is very powerfull language\n",
      " because it's uses for multi purpose\n",
      " I Love learning \n",
      " because learning is make good man\n"
     ]
    },
    {
     "data": {
      "text/plain": [
       "\"Python is very powerfull language\\n because it's uses for multi purpose\\n\""
      ]
     },
     "execution_count": 10,
     "metadata": {},
     "output_type": "execute_result"
    }
   ],
   "source": [
    "# Denoted by ' ', \" \", \"\"\" \"\"\" or ''' '''(Paragraphs)\n",
    "# You can use either of single quotes or double quotes to\n",
    "# declare a string\n",
    "\n",
    "x='Python\\n'\n",
    "\n",
    "z=\"Python\\n\"\n",
    "\n",
    "# Triple Quotes can be used to write multi line statements\n",
    "\n",
    "y=\"\"\"Python is very powerfull language\n",
    " because it's uses for multi purpose\\n\"\"\"\n",
    "\n",
    "a='''I Love learning \n",
    " because learning is make good man'''\n",
    "\n",
    "print(x,z,y,a)\n",
    "\n",
    "# Check the string in interactive mode and you will see\n",
    "# that triple quotes adds a \\n whenever you press enter\n",
    "y"
   ]
  },
  {
   "cell_type": "code",
   "execution_count": 11,
   "metadata": {},
   "outputs": [
    {
     "name": "stdout",
     "output_type": "stream",
     "text": [
      "I'll become an Er.\n",
      " I\"ll become an Er.\n"
     ]
    }
   ],
   "source": [
    "h=\"I'll become an Er.\\n\"\n",
    "\n",
    "h2='I\"ll become an Er.'\n",
    "\n",
    "print(h,h2)"
   ]
  },
  {
   "cell_type": "code",
   "execution_count": 12,
   "metadata": {},
   "outputs": [
    {
     "name": "stdout",
     "output_type": "stream",
     "text": [
      "YTH\n"
     ]
    }
   ],
   "source": [
    "n='PYTHON'\n",
    "print(n[1:4])"
   ]
  },
  {
   "cell_type": "markdown",
   "metadata": {},
   "source": [
    "## Concatenation"
   ]
  },
  {
   "cell_type": "code",
   "execution_count": 13,
   "metadata": {},
   "outputs": [
    {
     "name": "stdout",
     "output_type": "stream",
     "text": [
      "PythonLanguage\n",
      "Python Language\n",
      "ab\n"
     ]
    }
   ],
   "source": [
    "a=\"Python\"\n",
    "b=\"Language\"\n",
    "\n",
    "print(a+b)\n",
    "print(a+' '+b)\n",
    "print('a'+'b')"
   ]
  },
  {
   "cell_type": "markdown",
   "metadata": {},
   "source": [
    "# Indexing\n",
    "### Recall that strings are ordered sequences of characters in order. This means we can \"grab\" single characters (indexing)\n",
    "\n",
    "### Indexing starts a 0, so the string hello:\n",
    "\n",
    "### character:    h    e    l   l   o\n",
    "### index:        0    1    2   3   4\n",
    "\n",
    "### You can use square brackets to grab single characters\n",
    "\n",
    "### Python also supports reverse indexing:\n",
    "\n",
    "####              reverse index:    -5    -4    -3   -2   -1 \n",
    "####              character:            h     e     l      l    o\n",
    "####              index:                   0     1     2    3    4\n",
    "\n",
    "\n",
    "#### Reverse indexing is used commonly to grab the last \"chunk\" of a sequence."
   ]
  },
  {
   "cell_type": "code",
   "execution_count": 63,
   "metadata": {},
   "outputs": [
    {
     "name": "stdout",
     "output_type": "stream",
     "text": [
      "hon\n",
      "ho\n",
      "p\n",
      "o\n",
      "1\n"
     ]
    }
   ],
   "source": [
    "# indexing\n",
    "s=\"python\"\n",
    "print(s[-3:])\n",
    "print(s[-3:-1])\n",
    "print(s[0])\n",
    "print(s[4])\n",
    "print(s.index('y'))"
   ]
  },
  {
   "cell_type": "markdown",
   "metadata": {},
   "source": [
    "# Slicing"
   ]
  },
  {
   "cell_type": "code",
   "execution_count": 72,
   "metadata": {},
   "outputs": [
    {
     "name": "stdout",
     "output_type": "stream",
     "text": [
      "gire \n",
      "gninrael enihcaM\n",
      "Machine learning\n",
      "cnl\n",
      "find the lenght of string  16\n",
      "nrlnc\n"
     ]
    }
   ],
   "source": [
    "# Slicing\n",
    "# Syntax\n",
    "# [Start:Stop:Step]\n",
    "\n",
    "# Step is by default 1\n",
    "# Start and stop are indexes and stop is not included in the slice\n",
    "# If no start is given and step is +ve the start is 0\n",
    "# If no start is given and step is -ve the start is -1\n",
    "\n",
    "sl=\"Machine learning\"\n",
    "\n",
    "print(sl[:5:-2])\n",
    "print(sl[::-1])\n",
    "print(sl[::])\n",
    "print(sl[2:11:3])\n",
    "print(\"find the lenght of string \",len(sl))\n",
    "print(sl[-2::-3])"
   ]
  },
  {
   "cell_type": "code",
   "execution_count": 16,
   "metadata": {},
   "outputs": [
    {
     "name": "stdout",
     "output_type": "stream",
     "text": [
      "Deep learning\n"
     ]
    }
   ],
   "source": [
    "ml='machine learning'\n",
    "dl=ml.replace(\"machine\",\"Deep\")\n",
    "print(dl)"
   ]
  },
  {
   "cell_type": "code",
   "execution_count": 17,
   "metadata": {},
   "outputs": [
    {
     "name": "stdout",
     "output_type": "stream",
     "text": [
      "***************Machine learning**************\n"
     ]
    }
   ],
   "source": [
    "sc=\"Machine learning\"\n",
    "print(sc.center(45,'*'))"
   ]
  },
  {
   "cell_type": "code",
   "execution_count": 18,
   "metadata": {},
   "outputs": [
    {
     "name": "stdout",
     "output_type": "stream",
     "text": [
      "yicnhl \n"
     ]
    }
   ],
   "source": [
    "s=\"May i can help you\"\n",
    "print(s[2:16:2])"
   ]
  },
  {
   "cell_type": "code",
   "execution_count": 73,
   "metadata": {},
   "outputs": [
    {
     "name": "stdout",
     "output_type": "stream",
     "text": [
      "Deep learning\n",
      "Deep Learning\n",
      "False\n",
      "DEEP LEARNING\n",
      "deep learning\n"
     ]
    }
   ],
   "source": [
    "c=\"deep learning\"\n",
    "\n",
    "print(c.capitalize())\n",
    "\n",
    "print(c.title())\n",
    "print(c.istitle())\n",
    "\n",
    "print(c.upper())\n",
    "\n",
    "print(c.lower())"
   ]
  },
  {
   "cell_type": "code",
   "execution_count": 20,
   "metadata": {},
   "outputs": [
    {
     "name": "stdout",
     "output_type": "stream",
     "text": [
      "True\n",
      "False\n",
      "False\n",
      "True\n",
      "True\n",
      "False False\n",
      "True Rjshn\n",
      "True 0006247 True\n",
      "False\n",
      "False\n"
     ]
    }
   ],
   "source": [
    "a=\"this is string functions\"\n",
    "\n",
    "print(a.islower())\n",
    "print(a.isupper())\n",
    "\n",
    "a2=\"THIS IS STRING FUNCTIONS\"\n",
    "\n",
    "print(a2.islower())\n",
    "print(a2.isupper())\n",
    "\n",
    "a3=\"kanhataak97\"\n",
    "\n",
    "print(a3.isalnum())\n",
    "print(a3.isalpha(),  a3.isdigit())\n",
    "\n",
    "a4=\"Rajasthan\"\n",
    "print(a4.isalpha(), a4[0::2])\n",
    "\n",
    "d='7426000'\n",
    "print(d.isdigit(), d[::-1], d.isnumeric())\n",
    "\n",
    "n='python 3.7.4'\n",
    "print(n.isnumeric())\n",
    "\n",
    "nf='3.7.4'\n",
    "print(nf.isnumeric())\n"
   ]
  },
  {
   "cell_type": "code",
   "execution_count": 21,
   "metadata": {},
   "outputs": [
    {
     "name": "stdout",
     "output_type": "stream",
     "text": [
      "****** INDIA *******\n"
     ]
    }
   ],
   "source": [
    "cu=\" INDIA \"\n",
    "print(cu.center(20,\"*\"))"
   ]
  },
  {
   "cell_type": "code",
   "execution_count": 22,
   "metadata": {},
   "outputs": [
    {
     "name": "stdout",
     "output_type": "stream",
     "text": [
      "True\n",
      "True\n",
      "False\n",
      "False\n"
     ]
    }
   ],
   "source": [
    "cu='INDIA'\n",
    "print(cu.startswith('I'))\n",
    "print(cu.endswith('A'))\n",
    "\n",
    "print(cu.startswith('n'))\n",
    "print(cu.endswith('a'))"
   ]
  },
  {
   "cell_type": "markdown",
   "metadata": {},
   "source": [
    "# How join method() works"
   ]
  },
  {
   "cell_type": "code",
   "execution_count": 2,
   "metadata": {},
   "outputs": [
    {
     "name": "stdout",
     "output_type": "stream",
     "text": [
      "C -->--> C++ -->--> Java -->--> Python \n",
      "C --> C++ --> Java --> Python \n"
     ]
    }
   ],
   "source": [
    "l=['C ',' C++ ',' Java ',' Python ']\n",
    "j='-->-->'\n",
    "\n",
    "print(j.join(l))\n",
    "print('-->'.join(l))"
   ]
  },
  {
   "cell_type": "code",
   "execution_count": 24,
   "metadata": {},
   "outputs": [
    {
     "name": "stdout",
     "output_type": "stream",
     "text": [
      "  123 T 123 a 123 a 123 k 123  \n",
      "  Taak 1 Taak 2 Taak 3 Taak  \n"
     ]
    }
   ],
   "source": [
    "a=' 123 '\n",
    "b=' Taak '\n",
    "\n",
    "print(a.join(b))\n",
    "print(b.join(a))"
   ]
  },
  {
   "cell_type": "code",
   "execution_count": 25,
   "metadata": {},
   "outputs": [
    {
     "name": "stdout",
     "output_type": "stream",
     "text": [
      "['1', '2', '3', '4', '5']\n",
      "1,2,3,4,5\n"
     ]
    }
   ],
   "source": [
    "# How join method() works on sets.\n",
    "\n",
    "s=['1','2','3','4','5']\n",
    "\n",
    "print(s)\n",
    "print(','.join(s))"
   ]
  },
  {
   "cell_type": "markdown",
   "metadata": {},
   "source": [
    "# List slicing using indexing method() in python"
   ]
  },
  {
   "cell_type": "code",
   "execution_count": 26,
   "metadata": {},
   "outputs": [
    {
     "name": "stdout",
     "output_type": "stream",
     "text": [
      "[10, 20, 30]\n",
      "['python', 'Java', 'Ruby']\n",
      "['Ruby', 'Java', 'python']\n",
      "30\n",
      "avaJ\n",
      "va\n",
      "oht\n"
     ]
    }
   ],
   "source": [
    "# List slicing using indexing method() in python\n",
    "li=[10,20,30],['python','Java','Ruby']\n",
    "\n",
    "print(li[0])\n",
    "print(li[1])\n",
    "print(li[1][::-1])\n",
    "print(li[0][2])\n",
    "print(li[1][1][::-1])\n",
    "\n",
    "print(li[1][1][2:4])\n",
    "print(li[1][0][-2:-5:-1])"
   ]
  },
  {
   "cell_type": "code",
   "execution_count": 27,
   "metadata": {},
   "outputs": [
    {
     "name": "stdout",
     "output_type": "stream",
     "text": [
      "python is awesome\n",
      "The string is equal\n"
     ]
    }
   ],
   "source": [
    "# Lower using casefold method()\n",
    "ca=\"PYTHON IS AWESOME\"\n",
    "\n",
    "print(ca.casefold())\n",
    "\n",
    "# Comparison using casefold()\n",
    "firstString = \"der Fluß\"\n",
    "secondString = \"der Fluss\"\n",
    "\n",
    "# ß is equivalent to ss\n",
    "if firstString.casefold() == secondString.casefold():\n",
    "    print(\"The string is equal\")\n",
    "else:\n",
    "    print(\"The string is't equal\")"
   ]
  },
  {
   "cell_type": "markdown",
   "metadata": {},
   "source": [
    "# split() method and replace() method"
   ]
  },
  {
   "cell_type": "code",
   "execution_count": 61,
   "metadata": {},
   "outputs": [
    {
     "name": "stdout",
     "output_type": "stream",
     "text": [
      "['python', 'is', 'awesome', 'is', 'is', 'is']\n",
      "['python ', ' awesome ', ' ', ' ', '']\n",
      "Hello\n",
      "['He', '', 'o']\n",
      "['He', 'o']\n",
      "Hello\n",
      "₹NT₹RTIC₹\n",
      "#NT#RTICA\n",
      "ANTARTIC@\n",
      "ANT@RTIC@\n"
     ]
    }
   ],
   "source": [
    "sp='python is awesome is is is'\n",
    "print(sp.split())\n",
    "print(sp.split('is'))\n",
    "\n",
    "sp='Hello'\n",
    "print(sp)\n",
    "print(sp.split('l'))\n",
    "print(sp.split('ll'))\n",
    "\n",
    "# replace()method\n",
    "\n",
    "print(sp.replace('is','very'))\n",
    "\n",
    "s='ANTARTICA'\n",
    "print(s.replace('A','₹'))\n",
    "\n",
    "print(s.replace('A','#',2))\n",
    "\n",
    "print(s[::-1].replace('A','@',1)[::-1])\n",
    "\n",
    "print(s[::-1].replace('A','@',2)[::-1])"
   ]
  },
  {
   "cell_type": "markdown",
   "metadata": {},
   "source": [
    "# Strip method()"
   ]
  },
  {
   "cell_type": "code",
   "execution_count": 59,
   "metadata": {},
   "outputs": [
    {
     "name": "stdout",
     "output_type": "stream",
     "text": [
      "    This is   an example     <class 'str'>\n",
      "This is   an example <class 'str'>\n",
      "    This is   an example <class 'str'>\n",
      "This is   an example     <class 'str'>\n"
     ]
    }
   ],
   "source": [
    "a = '    This is   an example    '\n",
    "print(a,type(a))\n",
    "b = a.strip()\n",
    "print(b,type(b))\n",
    "b = a.rstrip()\n",
    "print(b,type(b))\n",
    "b = a.lstrip()\n",
    "print(b,type(b))"
   ]
  },
  {
   "cell_type": "code",
   "execution_count": 58,
   "metadata": {},
   "outputs": [
    {
     "name": "stdout",
     "output_type": "stream",
     "text": [
      "   This is strip method   \n",
      "<class 'str'>\n",
      "This is strip method\n",
      "   This is strip method\n",
      "This is strip method   \n",
      "This is strip method This is strip method       This is strip method\n"
     ]
    }
   ],
   "source": [
    "s='   This is strip method   '\n",
    "print(s)\n",
    "print(type(s))\n",
    "print(s.strip())\n",
    "print(s.rstrip())\n",
    "print(s.lstrip())\n",
    "\n",
    "print(s.strip(),s.lstrip(),s.rstrip())"
   ]
  },
  {
   "cell_type": "code",
   "execution_count": 33,
   "metadata": {},
   "outputs": [
    {
     "name": "stdout",
     "output_type": "stream",
     "text": [
      "<class 'int'>\n",
      "<class 'tuple'>\n"
     ]
    }
   ],
   "source": [
    "num=50\n",
    "print(type(num))\n",
    "num=50,\n",
    "print(type(num))"
   ]
  },
  {
   "cell_type": "code",
   "execution_count": 34,
   "metadata": {},
   "outputs": [
    {
     "name": "stdout",
     "output_type": "stream",
     "text": [
      "<class 'tuple'>\n",
      "<class 'tuple'>\n"
     ]
    }
   ],
   "source": [
    "num=50,45,12,[1,2,3,4]\n",
    "print(type(num))\n",
    "\n",
    "num=(50,45,12)\n",
    "print(type(num))"
   ]
  },
  {
   "cell_type": "code",
   "execution_count": 35,
   "metadata": {},
   "outputs": [
    {
     "name": "stdout",
     "output_type": "stream",
     "text": [
      "[1, 2, 3, 4, 5, 6, 7]\n"
     ]
    }
   ],
   "source": [
    "li=[1,2,3,4,5,6]\n",
    "li.append(7)\n",
    "print(li)"
   ]
  },
  {
   "cell_type": "code",
   "execution_count": 38,
   "metadata": {},
   "outputs": [
    {
     "name": "stdout",
     "output_type": "stream",
     "text": [
      "[1, 2, 3, 4, 5]\n",
      "[1, 2, 3, 4, 5, 7]\n"
     ]
    }
   ],
   "source": [
    "l=[1,2,3,4,5]\n",
    "print(l)\n",
    "l.append(7)\n",
    "print(l)"
   ]
  },
  {
   "cell_type": "code",
   "execution_count": 40,
   "metadata": {},
   "outputs": [
    {
     "name": "stdout",
     "output_type": "stream",
     "text": [
      "[1, 2, 3, 4, 5]\n",
      "[1, 2, 3, 4, 5, 8]\n"
     ]
    }
   ],
   "source": [
    "li=[1,2,3,4,5]\n",
    "print(li)\n",
    "li.insert(5,8)\n",
    "print(li)"
   ]
  },
  {
   "cell_type": "code",
   "execution_count": 45,
   "metadata": {},
   "outputs": [],
   "source": [
    "# arr=[]\n",
    "# for i in range(1000, 3001):\n",
    "#     j=i\n",
    "#     cnt=0\n",
    "#     for k in range(0,4):\n",
    "#         res=j%10\n",
    "#         if res%2 == 0:\n",
    "#             cnt = cnt+1\n",
    "#             j= int(j%10)\n",
    "#     if cnt==4:\n",
    "#         arr.append(i)\n",
    "# print(arr)"
   ]
  },
  {
   "cell_type": "code",
   "execution_count": 62,
   "metadata": {},
   "outputs": [
    {
     "data": {
      "text/plain": [
       "['__add__',\n",
       " '__class__',\n",
       " '__contains__',\n",
       " '__delattr__',\n",
       " '__dir__',\n",
       " '__doc__',\n",
       " '__eq__',\n",
       " '__format__',\n",
       " '__ge__',\n",
       " '__getattribute__',\n",
       " '__getitem__',\n",
       " '__getnewargs__',\n",
       " '__gt__',\n",
       " '__hash__',\n",
       " '__init__',\n",
       " '__init_subclass__',\n",
       " '__iter__',\n",
       " '__le__',\n",
       " '__len__',\n",
       " '__lt__',\n",
       " '__mod__',\n",
       " '__mul__',\n",
       " '__ne__',\n",
       " '__new__',\n",
       " '__reduce__',\n",
       " '__reduce_ex__',\n",
       " '__repr__',\n",
       " '__rmod__',\n",
       " '__rmul__',\n",
       " '__setattr__',\n",
       " '__sizeof__',\n",
       " '__str__',\n",
       " '__subclasshook__',\n",
       " 'capitalize',\n",
       " 'casefold',\n",
       " 'center',\n",
       " 'count',\n",
       " 'encode',\n",
       " 'endswith',\n",
       " 'expandtabs',\n",
       " 'find',\n",
       " 'format',\n",
       " 'format_map',\n",
       " 'index',\n",
       " 'isalnum',\n",
       " 'isalpha',\n",
       " 'isascii',\n",
       " 'isdecimal',\n",
       " 'isdigit',\n",
       " 'isidentifier',\n",
       " 'islower',\n",
       " 'isnumeric',\n",
       " 'isprintable',\n",
       " 'isspace',\n",
       " 'istitle',\n",
       " 'isupper',\n",
       " 'join',\n",
       " 'ljust',\n",
       " 'lower',\n",
       " 'lstrip',\n",
       " 'maketrans',\n",
       " 'partition',\n",
       " 'replace',\n",
       " 'rfind',\n",
       " 'rindex',\n",
       " 'rjust',\n",
       " 'rpartition',\n",
       " 'rsplit',\n",
       " 'rstrip',\n",
       " 'split',\n",
       " 'splitlines',\n",
       " 'startswith',\n",
       " 'strip',\n",
       " 'swapcase',\n",
       " 'title',\n",
       " 'translate',\n",
       " 'upper',\n",
       " 'zfill']"
      ]
     },
     "execution_count": 62,
     "metadata": {},
     "output_type": "execute_result"
    }
   ],
   "source": [
    "dir(str)"
   ]
  },
  {
   "cell_type": "code",
   "execution_count": null,
   "metadata": {},
   "outputs": [],
   "source": []
  }
 ],
 "metadata": {
  "kernelspec": {
   "display_name": "Python 3",
   "language": "python",
   "name": "python3"
  },
  "language_info": {
   "codemirror_mode": {
    "name": "ipython",
    "version": 3
   },
   "file_extension": ".py",
   "mimetype": "text/x-python",
   "name": "python",
   "nbconvert_exporter": "python",
   "pygments_lexer": "ipython3",
   "version": "3.7.4"
  }
 },
 "nbformat": 4,
 "nbformat_minor": 2
}
