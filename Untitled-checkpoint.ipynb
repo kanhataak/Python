{
 "cells": [
  {
   "cell_type": "code",
   "execution_count": 1,
   "metadata": {},
   "outputs": [
    {
     "name": "stdout",
     "output_type": "stream",
     "text": [
      "enter the name and age: sdfg 45\n",
      "sdfg\n",
      "45\n"
     ]
    }
   ],
   "source": [
    "name, age=input(\"enter the name and age: \").split(\" \")\n",
    "print(name)\n",
    "print(age)"
   ]
  },
  {
   "cell_type": "code",
   "execution_count": 2,
   "metadata": {},
   "outputs": [
    {
     "name": "stdout",
     "output_type": "stream",
     "text": [
      "enter your details: rert thn dgfhgh fgh\n",
      "Name: rert lastname: thn Mobile: dgfhgh Age: fgh\n"
     ]
    }
   ],
   "source": [
    "name, lastname,mobile,age=input(\"enter your details: \").split(\" \")\n",
    "print(f\"Name: {name} lastname: {lastname} Mobile: {mobile} Age: {age}\")"
   ]
  },
  {
   "cell_type": "code",
   "execution_count": 3,
   "metadata": {},
   "outputs": [
    {
     "name": "stdout",
     "output_type": "stream",
     "text": [
      "man\n"
     ]
    }
   ],
   "source": [
    "name='hanumangarh'\n",
    "print(name[4:7])"
   ]
  },
  {
   "cell_type": "code",
   "execution_count": 4,
   "metadata": {},
   "outputs": [
    {
     "name": "stdout",
     "output_type": "stream",
     "text": [
      "nah\n"
     ]
    }
   ],
   "source": [
    "print(name[2::-1])"
   ]
  },
  {
   "cell_type": "code",
   "execution_count": 5,
   "metadata": {},
   "outputs": [
    {
     "data": {
      "text/plain": [
       "'hanumang'"
      ]
     },
     "execution_count": 5,
     "metadata": {},
     "output_type": "execute_result"
    }
   ],
   "source": [
    "name[:-3]"
   ]
  },
  {
   "cell_type": "code",
   "execution_count": 6,
   "metadata": {},
   "outputs": [
    {
     "data": {
      "text/plain": [
       "'hanmnh'"
      ]
     },
     "execution_count": 6,
     "metadata": {},
     "output_type": "execute_result"
    }
   ],
   "source": [
    "name[::-2]"
   ]
  },
  {
   "cell_type": "code",
   "execution_count": 7,
   "metadata": {},
   "outputs": [
    {
     "data": {
      "text/plain": [
       "'anumangarh'"
      ]
     },
     "execution_count": 7,
     "metadata": {},
     "output_type": "execute_result"
    }
   ],
   "source": [
    "name[1::]"
   ]
  },
  {
   "cell_type": "code",
   "execution_count": 8,
   "metadata": {},
   "outputs": [
    {
     "name": "stdout",
     "output_type": "stream",
     "text": [
      "hanumangarh\n",
      "$anha\n",
      "kanha\n"
     ]
    }
   ],
   "source": [
    "s='kanha'\n",
    "# name[0]=\"K\"\n",
    "print(name)\n",
    "new=s.replace('k','$')\n",
    "print(new)\n",
    "print(s)"
   ]
  },
  {
   "cell_type": "code",
   "execution_count": 9,
   "metadata": {},
   "outputs": [
    {
     "name": "stdout",
     "output_type": "stream",
     "text": [
      "hanumangarh\n",
      "kanhaiya\n",
      "kanha\n"
     ]
    }
   ],
   "source": [
    "s='kanha'\n",
    "# name[0]=\"K\"\n",
    "print(name)\n",
    "new=s.replace('kanha','kanhaiya')\n",
    "print(new)\n",
    "print(s)"
   ]
  },
  {
   "cell_type": "code",
   "execution_count": 10,
   "metadata": {},
   "outputs": [
    {
     "name": "stdout",
     "output_type": "stream",
     "text": [
      "kanhaiya\n"
     ]
    }
   ],
   "source": [
    "name=\"kanha\"\n",
    "name+=\"iya\"\n",
    "print(name)"
   ]
  },
  {
   "cell_type": "code",
   "execution_count": 11,
   "metadata": {},
   "outputs": [
    {
     "name": "stdout",
     "output_type": "stream",
     "text": [
      "1 kanha\n",
      "2 kanha\n",
      "3 kanha\n",
      "4 kanha\n",
      "5 kanha\n",
      "6 kanha\n",
      "7 kanha\n",
      "8 kanha\n",
      "9 kanha\n",
      "10 kanha\n"
     ]
    }
   ],
   "source": [
    "# while\n",
    "i=1\n",
    "while i<=10:\n",
    "    print(f\"{i} kanha\")\n",
    "    i-=-1"
   ]
  },
  {
   "cell_type": "code",
   "execution_count": 12,
   "metadata": {},
   "outputs": [
    {
     "name": "stdout",
     "output_type": "stream",
     "text": [
      "120\n"
     ]
    }
   ],
   "source": [
    "total=0\n",
    "i=1\n",
    "while i<=15:\n",
    "    total=total+i\n",
    "    i=i+1\n",
    "print(total)"
   ]
  },
  {
   "cell_type": "code",
   "execution_count": 13,
   "metadata": {},
   "outputs": [
    {
     "data": {
      "text/plain": [
       "True"
      ]
     },
     "execution_count": 13,
     "metadata": {},
     "output_type": "execute_result"
    }
   ],
   "source": [
    "True and True"
   ]
  },
  {
   "cell_type": "code",
   "execution_count": 14,
   "metadata": {},
   "outputs": [
    {
     "data": {
      "text/plain": [
       "False"
      ]
     },
     "execution_count": 14,
     "metadata": {},
     "output_type": "execute_result"
    }
   ],
   "source": [
    "True and False"
   ]
  },
  {
   "cell_type": "code",
   "execution_count": 15,
   "metadata": {},
   "outputs": [
    {
     "data": {
      "text/plain": [
       "True"
      ]
     },
     "execution_count": 15,
     "metadata": {},
     "output_type": "execute_result"
    }
   ],
   "source": [
    "True or True"
   ]
  },
  {
   "cell_type": "code",
   "execution_count": 16,
   "metadata": {},
   "outputs": [
    {
     "data": {
      "text/plain": [
       "True"
      ]
     },
     "execution_count": 16,
     "metadata": {},
     "output_type": "execute_result"
    }
   ],
   "source": [
    "False or True"
   ]
  },
  {
   "cell_type": "code",
   "execution_count": 17,
   "metadata": {},
   "outputs": [
    {
     "data": {
      "text/plain": [
       "True"
      ]
     },
     "execution_count": 17,
     "metadata": {},
     "output_type": "execute_result"
    }
   ],
   "source": [
    "name=\"kanha\"\n",
    "s2=\"taak\"\n",
    "name.isalnum() and s2.isalpha()"
   ]
  },
  {
   "cell_type": "code",
   "execution_count": 18,
   "metadata": {},
   "outputs": [
    {
     "data": {
      "text/plain": [
       "True"
      ]
     },
     "execution_count": 18,
     "metadata": {},
     "output_type": "execute_result"
    }
   ],
   "source": [
    "name=\"kanha123\"\n",
    "s2=\"taak\"\n",
    "name.isalnum() or s2.isalpha()"
   ]
  },
  {
   "cell_type": "code",
   "execution_count": 19,
   "metadata": {},
   "outputs": [
    {
     "data": {
      "text/plain": [
       "True"
      ]
     },
     "execution_count": 19,
     "metadata": {},
     "output_type": "execute_result"
    }
   ],
   "source": [
    "name=\"kanha123\"\n",
    "s2=\"taak\"\n",
    "name.isalnum() and s2.isalpha()"
   ]
  },
  {
   "cell_type": "code",
   "execution_count": 20,
   "metadata": {},
   "outputs": [
    {
     "data": {
      "text/plain": [
       "True"
      ]
     },
     "execution_count": 20,
     "metadata": {},
     "output_type": "execute_result"
    }
   ],
   "source": [
    "name=\"kanha\"\n",
    "s2=\"taak\"\n",
    "name.isalnum() and s2.isalpha()"
   ]
  },
  {
   "cell_type": "code",
   "execution_count": 21,
   "metadata": {},
   "outputs": [],
   "source": [
    "lst=[]\n",
    "lst.append(\"kanha\")"
   ]
  },
  {
   "cell_type": "code",
   "execution_count": 22,
   "metadata": {},
   "outputs": [],
   "source": [
    "lst.append(\"HR\")"
   ]
  },
  {
   "cell_type": "code",
   "execution_count": 23,
   "metadata": {},
   "outputs": [],
   "source": [
    "lst.append([\"taak\",\"kanhaiya\"])"
   ]
  },
  {
   "cell_type": "code",
   "execution_count": 24,
   "metadata": {},
   "outputs": [
    {
     "data": {
      "text/plain": [
       "['kanha', 'HR', ['taak', 'kanhaiya']]"
      ]
     },
     "execution_count": 24,
     "metadata": {},
     "output_type": "execute_result"
    }
   ],
   "source": [
    "lst"
   ]
  },
  {
   "cell_type": "code",
   "execution_count": 25,
   "metadata": {},
   "outputs": [
    {
     "data": {
      "text/plain": [
       "3"
      ]
     },
     "execution_count": 25,
     "metadata": {},
     "output_type": "execute_result"
    }
   ],
   "source": [
    "len(lst)"
   ]
  },
  {
   "cell_type": "code",
   "execution_count": 26,
   "metadata": {},
   "outputs": [],
   "source": [
    "lst.insert(1,\"Taak\")"
   ]
  },
  {
   "cell_type": "code",
   "execution_count": 27,
   "metadata": {},
   "outputs": [
    {
     "data": {
      "text/plain": [
       "['kanha', 'Taak', 'HR', ['taak', 'kanhaiya']]"
      ]
     },
     "execution_count": 27,
     "metadata": {},
     "output_type": "execute_result"
    }
   ],
   "source": [
    "lst"
   ]
  },
  {
   "cell_type": "code",
   "execution_count": 28,
   "metadata": {},
   "outputs": [],
   "source": [
    "lst.extend([\"kanha\",1997])\n",
    "lst.extend([[\"kanha\",1997]])"
   ]
  },
  {
   "cell_type": "code",
   "execution_count": 29,
   "metadata": {},
   "outputs": [
    {
     "data": {
      "text/plain": [
       "['kanha', 'Taak', 'HR', ['taak', 'kanhaiya'], 'kanha', 1997, ['kanha', 1997]]"
      ]
     },
     "execution_count": 29,
     "metadata": {},
     "output_type": "execute_result"
    }
   ],
   "source": [
    "lst"
   ]
  },
  {
   "cell_type": "code",
   "execution_count": 30,
   "metadata": {},
   "outputs": [],
   "source": [
    "l=[1,2,4,5,7,8]"
   ]
  },
  {
   "cell_type": "code",
   "execution_count": 31,
   "metadata": {},
   "outputs": [],
   "source": [
    "import pandas as pd\n",
    "url=\"https://www.fdic.gov/bank/individual/failed/banklist.html\"\n",
    "df=pd.read_html(url)"
   ]
  },
  {
   "cell_type": "code",
   "execution_count": 32,
   "metadata": {},
   "outputs": [
    {
     "data": {
      "text/html": [
       "<div>\n",
       "<style scoped>\n",
       "    .dataframe tbody tr th:only-of-type {\n",
       "        vertical-align: middle;\n",
       "    }\n",
       "\n",
       "    .dataframe tbody tr th {\n",
       "        vertical-align: top;\n",
       "    }\n",
       "\n",
       "    .dataframe thead th {\n",
       "        text-align: right;\n",
       "    }\n",
       "</style>\n",
       "<table border=\"1\" class=\"dataframe\">\n",
       "  <thead>\n",
       "    <tr style=\"text-align: right;\">\n",
       "      <th></th>\n",
       "      <th>Bank Name</th>\n",
       "      <th>City</th>\n",
       "      <th>ST</th>\n",
       "      <th>CERT</th>\n",
       "      <th>Acquiring Institution</th>\n",
       "      <th>Closing Date</th>\n",
       "    </tr>\n",
       "  </thead>\n",
       "  <tbody>\n",
       "    <tr>\n",
       "      <th>0</th>\n",
       "      <td>Ericson State Bank</td>\n",
       "      <td>Ericson</td>\n",
       "      <td>NE</td>\n",
       "      <td>18265</td>\n",
       "      <td>Farmers and Merchants Bank</td>\n",
       "      <td>February 14, 2020</td>\n",
       "    </tr>\n",
       "    <tr>\n",
       "      <th>1</th>\n",
       "      <td>City National Bank of New Jersey</td>\n",
       "      <td>Newark</td>\n",
       "      <td>NJ</td>\n",
       "      <td>21111</td>\n",
       "      <td>Industrial Bank</td>\n",
       "      <td>November 1, 2019</td>\n",
       "    </tr>\n",
       "    <tr>\n",
       "      <th>2</th>\n",
       "      <td>Resolute Bank</td>\n",
       "      <td>Maumee</td>\n",
       "      <td>OH</td>\n",
       "      <td>58317</td>\n",
       "      <td>Buckeye State Bank</td>\n",
       "      <td>October 25, 2019</td>\n",
       "    </tr>\n",
       "    <tr>\n",
       "      <th>3</th>\n",
       "      <td>Louisa Community Bank</td>\n",
       "      <td>Louisa</td>\n",
       "      <td>KY</td>\n",
       "      <td>58112</td>\n",
       "      <td>Kentucky Farmers Bank Corporation</td>\n",
       "      <td>October 25, 2019</td>\n",
       "    </tr>\n",
       "    <tr>\n",
       "      <th>4</th>\n",
       "      <td>The Enloe State Bank</td>\n",
       "      <td>Cooper</td>\n",
       "      <td>TX</td>\n",
       "      <td>10716</td>\n",
       "      <td>Legend Bank, N. A.</td>\n",
       "      <td>May 31, 2019</td>\n",
       "    </tr>\n",
       "    <tr>\n",
       "      <th>...</th>\n",
       "      <td>...</td>\n",
       "      <td>...</td>\n",
       "      <td>...</td>\n",
       "      <td>...</td>\n",
       "      <td>...</td>\n",
       "      <td>...</td>\n",
       "    </tr>\n",
       "    <tr>\n",
       "      <th>555</th>\n",
       "      <td>Superior Bank, FSB</td>\n",
       "      <td>Hinsdale</td>\n",
       "      <td>IL</td>\n",
       "      <td>32646</td>\n",
       "      <td>Superior Federal, FSB</td>\n",
       "      <td>July 27, 2001</td>\n",
       "    </tr>\n",
       "    <tr>\n",
       "      <th>556</th>\n",
       "      <td>Malta National Bank</td>\n",
       "      <td>Malta</td>\n",
       "      <td>OH</td>\n",
       "      <td>6629</td>\n",
       "      <td>North Valley Bank</td>\n",
       "      <td>May 3, 2001</td>\n",
       "    </tr>\n",
       "    <tr>\n",
       "      <th>557</th>\n",
       "      <td>First Alliance Bank &amp; Trust Co.</td>\n",
       "      <td>Manchester</td>\n",
       "      <td>NH</td>\n",
       "      <td>34264</td>\n",
       "      <td>Southern New Hampshire Bank &amp; Trust</td>\n",
       "      <td>February 2, 2001</td>\n",
       "    </tr>\n",
       "    <tr>\n",
       "      <th>558</th>\n",
       "      <td>National State Bank of Metropolis</td>\n",
       "      <td>Metropolis</td>\n",
       "      <td>IL</td>\n",
       "      <td>3815</td>\n",
       "      <td>Banterra Bank of Marion</td>\n",
       "      <td>December 14, 2000</td>\n",
       "    </tr>\n",
       "    <tr>\n",
       "      <th>559</th>\n",
       "      <td>Bank of Honolulu</td>\n",
       "      <td>Honolulu</td>\n",
       "      <td>HI</td>\n",
       "      <td>21029</td>\n",
       "      <td>Bank of the Orient</td>\n",
       "      <td>October 13, 2000</td>\n",
       "    </tr>\n",
       "  </tbody>\n",
       "</table>\n",
       "<p>560 rows × 6 columns</p>\n",
       "</div>"
      ],
      "text/plain": [
       "                             Bank Name        City  ST   CERT  \\\n",
       "0                   Ericson State Bank     Ericson  NE  18265   \n",
       "1     City National Bank of New Jersey      Newark  NJ  21111   \n",
       "2                        Resolute Bank      Maumee  OH  58317   \n",
       "3                Louisa Community Bank      Louisa  KY  58112   \n",
       "4                 The Enloe State Bank      Cooper  TX  10716   \n",
       "..                                 ...         ...  ..    ...   \n",
       "555                 Superior Bank, FSB    Hinsdale  IL  32646   \n",
       "556                Malta National Bank       Malta  OH   6629   \n",
       "557    First Alliance Bank & Trust Co.  Manchester  NH  34264   \n",
       "558  National State Bank of Metropolis  Metropolis  IL   3815   \n",
       "559                   Bank of Honolulu    Honolulu  HI  21029   \n",
       "\n",
       "                   Acquiring Institution       Closing Date  \n",
       "0             Farmers and Merchants Bank  February 14, 2020  \n",
       "1                        Industrial Bank   November 1, 2019  \n",
       "2                     Buckeye State Bank   October 25, 2019  \n",
       "3      Kentucky Farmers Bank Corporation   October 25, 2019  \n",
       "4                     Legend Bank, N. A.       May 31, 2019  \n",
       "..                                   ...                ...  \n",
       "555                Superior Federal, FSB      July 27, 2001  \n",
       "556                    North Valley Bank        May 3, 2001  \n",
       "557  Southern New Hampshire Bank & Trust   February 2, 2001  \n",
       "558              Banterra Bank of Marion  December 14, 2000  \n",
       "559                   Bank of the Orient   October 13, 2000  \n",
       "\n",
       "[560 rows x 6 columns]"
      ]
     },
     "execution_count": 32,
     "metadata": {},
     "output_type": "execute_result"
    }
   ],
   "source": [
    "df[0]"
   ]
  },
  {
   "cell_type": "code",
   "execution_count": 34,
   "metadata": {},
   "outputs": [],
   "source": [
    "\n",
    "# df.to_csv(\"Bank_Data.csv\",index=False)\n",
    "# df"
   ]
  },
  {
   "cell_type": "code",
   "execution_count": 35,
   "metadata": {},
   "outputs": [],
   "source": [
    "url2=\"http://www.delhihelp.com/hospitals-delhi-ncr-help-25.aspx\"\n",
    "df2=pd.read_html(url2,header=0)"
   ]
  },
  {
   "cell_type": "code",
   "execution_count": 36,
   "metadata": {},
   "outputs": [
    {
     "data": {
      "text/html": [
       "<div>\n",
       "<style scoped>\n",
       "    .dataframe tbody tr th:only-of-type {\n",
       "        vertical-align: middle;\n",
       "    }\n",
       "\n",
       "    .dataframe tbody tr th {\n",
       "        vertical-align: top;\n",
       "    }\n",
       "\n",
       "    .dataframe thead th {\n",
       "        text-align: right;\n",
       "    }\n",
       "</style>\n",
       "<table border=\"1\" class=\"dataframe\">\n",
       "  <thead>\n",
       "    <tr style=\"text-align: right;\">\n",
       "      <th></th>\n",
       "      <th>Unnamed: 0</th>\n",
       "      <th>Hospitals with Complete Address</th>\n",
       "      <th>Hospitals with Complete Address.1</th>\n",
       "    </tr>\n",
       "  </thead>\n",
       "  <tbody>\n",
       "    <tr>\n",
       "      <th>0</th>\n",
       "      <td>1.0</td>\n",
       "      <td>All India Institute of Medical Sciences</td>\n",
       "      <td>Ansari Nagar, New Delhi–110029</td>\n",
       "    </tr>\n",
       "    <tr>\n",
       "      <th>1</th>\n",
       "      <td>2.0</td>\n",
       "      <td>Holy Family Hospital</td>\n",
       "      <td>Okhla Road, Kamla Nagar, New Delhi-110025</td>\n",
       "    </tr>\n",
       "    <tr>\n",
       "      <th>2</th>\n",
       "      <td>3.0</td>\n",
       "      <td>Central Research Institute for Ayurveda</td>\n",
       "      <td>Road. No.66, Punjabi Bagh, New Delhi-110026</td>\n",
       "    </tr>\n",
       "    <tr>\n",
       "      <th>3</th>\n",
       "      <td>4.0</td>\n",
       "      <td>Ganga Ram Hospital</td>\n",
       "      <td>Rajinder Nagar, New Delhi-110060</td>\n",
       "    </tr>\n",
       "    <tr>\n",
       "      <th>4</th>\n",
       "      <td>5.0</td>\n",
       "      <td>Majidia Hospital</td>\n",
       "      <td>Jamia Humderd, Hamdard Nagar, New Delhi-110062</td>\n",
       "    </tr>\n",
       "    <tr>\n",
       "      <th>5</th>\n",
       "      <td>6.0</td>\n",
       "      <td>B.L.Kapoor Memorial Hospital</td>\n",
       "      <td>5, Pusa Road, Rajendra Place New Delhi-110060</td>\n",
       "    </tr>\n",
       "    <tr>\n",
       "      <th>6</th>\n",
       "      <td>7.0</td>\n",
       "      <td>Jessa Ram Hospital</td>\n",
       "      <td>DICS Pusa Road, Karol Bagh, New Delhi-110005</td>\n",
       "    </tr>\n",
       "    <tr>\n",
       "      <th>7</th>\n",
       "      <td>8.0</td>\n",
       "      <td>Attar Singh Jain Charitable Hospital</td>\n",
       "      <td>Delhi</td>\n",
       "    </tr>\n",
       "    <tr>\n",
       "      <th>8</th>\n",
       "      <td>9.0</td>\n",
       "      <td>Sundarlal Jain Charitable Hospital</td>\n",
       "      <td>Delhi</td>\n",
       "    </tr>\n",
       "    <tr>\n",
       "      <th>9</th>\n",
       "      <td>10.0</td>\n",
       "      <td>Tirath Ram Shah Hospital</td>\n",
       "      <td>2, R.B.L.Isher Das Sawhney Marg, Rajpur Road, ...</td>\n",
       "    </tr>\n",
       "    <tr>\n",
       "      <th>10</th>\n",
       "      <td>11.0</td>\n",
       "      <td>Jivodhya Mission</td>\n",
       "      <td>Ashok Vihar, Delhi</td>\n",
       "    </tr>\n",
       "    <tr>\n",
       "      <th>11</th>\n",
       "      <td>12.0</td>\n",
       "      <td>Hamdarad Clinic and Hospital</td>\n",
       "      <td>Asaf Ali Road, Delhi</td>\n",
       "    </tr>\n",
       "    <tr>\n",
       "      <th>12</th>\n",
       "      <td>13.0</td>\n",
       "      <td>City Clinic and Nurshing Home</td>\n",
       "      <td>Asaf Ali Road, Delhi</td>\n",
       "    </tr>\n",
       "    <tr>\n",
       "      <th>13</th>\n",
       "      <td>14.0</td>\n",
       "      <td>Holy Angels Hospital</td>\n",
       "      <td>Plot B, Community Centre Basant Lok, Vasant Vi...</td>\n",
       "    </tr>\n",
       "    <tr>\n",
       "      <th>14</th>\n",
       "      <td>15.0</td>\n",
       "      <td>Mother &amp; Child Hospital</td>\n",
       "      <td>C-6/8, Safderjung Development Area,(Near IIT F...</td>\n",
       "    </tr>\n",
       "    <tr>\n",
       "      <th>15</th>\n",
       "      <td>16.0</td>\n",
       "      <td>Mohinder Hospital</td>\n",
       "      <td>C-5, Green Park Extension, NEW DELHI- 110016.</td>\n",
       "    </tr>\n",
       "    <tr>\n",
       "      <th>16</th>\n",
       "      <td>17.0</td>\n",
       "      <td>Sitaram Bhartia Institute of Science &amp; Research</td>\n",
       "      <td>B-16, Merhrauli Institutional Area, (Near Quta...</td>\n",
       "    </tr>\n",
       "    <tr>\n",
       "      <th>17</th>\n",
       "      <td>18.0</td>\n",
       "      <td>Vasant Lok Hospital</td>\n",
       "      <td>Vasant Vihar, NEW DELHI-110057.</td>\n",
       "    </tr>\n",
       "    <tr>\n",
       "      <th>18</th>\n",
       "      <td>19.0</td>\n",
       "      <td>Deepak Memorial Hospital</td>\n",
       "      <td>Karkardooma, Delhi -l10092</td>\n",
       "    </tr>\n",
       "    <tr>\n",
       "      <th>19</th>\n",
       "      <td>20.0</td>\n",
       "      <td>Narender Mohan Hospital</td>\n",
       "      <td>Mohan Nagar, Ghaziabad, U.P. (Both Specialised...</td>\n",
       "    </tr>\n",
       "    <tr>\n",
       "      <th>20</th>\n",
       "      <td>21.0</td>\n",
       "      <td>Batra Hospital &amp; Medical Research Centre</td>\n",
       "      <td>1, Tughlakabad Industrial Area, M.B. Road, New...</td>\n",
       "    </tr>\n",
       "    <tr>\n",
       "      <th>21</th>\n",
       "      <td>22.0</td>\n",
       "      <td>Escorts Hospital and Research Centre,</td>\n",
       "      <td>FARIDABAD (Haryana) (General purpose treatment...</td>\n",
       "    </tr>\n",
       "    <tr>\n",
       "      <th>22</th>\n",
       "      <td>23.0</td>\n",
       "      <td>Dr.Anand's Ultrasound and C.T.Scan.</td>\n",
       "      <td>F-24, Preet Vihar, Vikas Marg, DELHI-110 092 U...</td>\n",
       "    </tr>\n",
       "    <tr>\n",
       "      <th>23</th>\n",
       "      <td>24.0</td>\n",
       "      <td>Anand Hospital</td>\n",
       "      <td>21 Community Centre, Preet Vihar, DELHI-110 09...</td>\n",
       "    </tr>\n",
       "    <tr>\n",
       "      <th>24</th>\n",
       "      <td>25.0</td>\n",
       "      <td>GMR Institute of Imaging Research,MRI Scan Centre</td>\n",
       "      <td>35-B, Pusa Road, New Delhi (Ultrasound, X-Ray ...</td>\n",
       "    </tr>\n",
       "    <tr>\n",
       "      <th>25</th>\n",
       "      <td>26.0</td>\n",
       "      <td>Medical Laboratory Services</td>\n",
       "      <td>E-67, Saket, New Delhi110 017</td>\n",
       "    </tr>\n",
       "    <tr>\n",
       "      <th>26</th>\n",
       "      <td>27.0</td>\n",
       "      <td>South Delhi Ultrasound and X-Ray Clinic</td>\n",
       "      <td>A-44, Hauz Khas, New Delhi 110016 (X-Ray and U...</td>\n",
       "    </tr>\n",
       "    <tr>\n",
       "      <th>27</th>\n",
       "      <td>28.0</td>\n",
       "      <td>G.M.Modi Hospital and Research Centre</td>\n",
       "      <td>Mandir Marg, Saket, New Delhi110017 (General P...</td>\n",
       "    </tr>\n",
       "    <tr>\n",
       "      <th>28</th>\n",
       "      <td>29.0</td>\n",
       "      <td>Jaipur Golden Hospital</td>\n",
       "      <td>2, Instituional Area, Rohini, New Delhi-110 03...</td>\n",
       "    </tr>\n",
       "    <tr>\n",
       "      <th>29</th>\n",
       "      <td>30.0</td>\n",
       "      <td>Indraprastha Apollo Hospital</td>\n",
       "      <td>Sarita Vihar, Delhi-Mathura Road, New Delhi-11...</td>\n",
       "    </tr>\n",
       "    <tr>\n",
       "      <th>30</th>\n",
       "      <td>31.0</td>\n",
       "      <td>Delhi C.T. &amp; MRI Centre,</td>\n",
       "      <td>Aashlok Hospital, 25-A, Block A-B Community Ce...</td>\n",
       "    </tr>\n",
       "    <tr>\n",
       "      <th>31</th>\n",
       "      <td>32.0</td>\n",
       "      <td>Dharmshila Cancer Hospital and Research Centre</td>\n",
       "      <td>Vasundhara Enclave, DELHI-110 096</td>\n",
       "    </tr>\n",
       "    <tr>\n",
       "      <th>32</th>\n",
       "      <td>33.0</td>\n",
       "      <td>D.R.Handa X-Ray &amp; Diagnostic Centre</td>\n",
       "      <td>B-87 Defence Colony, (Near Andrews Ganj Crossi...</td>\n",
       "    </tr>\n",
       "    <tr>\n",
       "      <th>33</th>\n",
       "      <td>34.0</td>\n",
       "      <td>St.Stephens Hospital</td>\n",
       "      <td>Tis Hazari Court, DELHI-110 054 (All purposes ...</td>\n",
       "    </tr>\n",
       "    <tr>\n",
       "      <th>34</th>\n",
       "      <td>35.0</td>\n",
       "      <td>Escorts Heart Institute and Research Centre</td>\n",
       "      <td>Okhla, New Delhi-110 065 (Cardiology, Cardioth...</td>\n",
       "    </tr>\n",
       "    <tr>\n",
       "      <th>35</th>\n",
       "      <td>36.0</td>\n",
       "      <td>National Heart Institute and Research Centre</td>\n",
       "      <td>Sapna Commercial Complex, New Delhi-110 065 (C...</td>\n",
       "    </tr>\n",
       "    <tr>\n",
       "      <th>36</th>\n",
       "      <td>37.0</td>\n",
       "      <td>All Primary Health Centres.</td>\n",
       "      <td>All Primary Health Centres.</td>\n",
       "    </tr>\n",
       "    <tr>\n",
       "      <th>37</th>\n",
       "      <td>38.0</td>\n",
       "      <td>Charitable Hospitals reconised under law</td>\n",
       "      <td>Charitable Hospitals reconised under law</td>\n",
       "    </tr>\n",
       "    <tr>\n",
       "      <th>38</th>\n",
       "      <td>NaN</td>\n",
       "      <td>Any other Hospital/Institute with the approval...</td>\n",
       "      <td>Any other Hospital/Institute with the approval...</td>\n",
       "    </tr>\n",
       "    <tr>\n",
       "      <th>39</th>\n",
       "      <td>39.0</td>\n",
       "      <td>Rajiv Gandhi Cancer Institute and Research Centre</td>\n",
       "      <td>Rohini</td>\n",
       "    </tr>\n",
       "    <tr>\n",
       "      <th>40</th>\n",
       "      <td>40.0</td>\n",
       "      <td>Arya Vaidya Sala Hospital and Research Centre</td>\n",
       "      <td>Karkardooma and South Extension, Part-1, New D...</td>\n",
       "    </tr>\n",
       "    <tr>\n",
       "      <th>41</th>\n",
       "      <td>41.0</td>\n",
       "      <td>Amar Leela Hospital</td>\n",
       "      <td>B-1/6, Janak puri, New Delhi</td>\n",
       "    </tr>\n",
       "    <tr>\n",
       "      <th>42</th>\n",
       "      <td>42.0</td>\n",
       "      <td>Dr.Shroff's Charity Eye Hospital</td>\n",
       "      <td>5027, Kedarnath Road, Dariyaganj</td>\n",
       "    </tr>\n",
       "    <tr>\n",
       "      <th>43</th>\n",
       "      <td>43.0</td>\n",
       "      <td>Heart Centre</td>\n",
       "      <td>2, Ring Road, Lajpat Nagar -IV, New Delhi</td>\n",
       "    </tr>\n",
       "    <tr>\n",
       "      <th>44</th>\n",
       "      <td>44.0</td>\n",
       "      <td>Umkal Hospital and M. P. Heart Research Institute</td>\n",
       "      <td>A520, Susant Lok. Gurgoan</td>\n",
       "    </tr>\n",
       "    <tr>\n",
       "      <th>45</th>\n",
       "      <td>45.0</td>\n",
       "      <td>Kalyani Hospital</td>\n",
       "      <td>354/2 Mehrauli Road, Gurgaon</td>\n",
       "    </tr>\n",
       "    <tr>\n",
       "      <th>46</th>\n",
       "      <td>46.0</td>\n",
       "      <td>Rockland Hospital</td>\n",
       "      <td>33, 34 Qutub Institutional Area</td>\n",
       "    </tr>\n",
       "    <tr>\n",
       "      <th>47</th>\n",
       "      <td>47.0</td>\n",
       "      <td>Max Health Care Institute Ltd</td>\n",
       "      <td>Max Devki Heart &amp; Vescular Institute, Saket Ma...</td>\n",
       "    </tr>\n",
       "    <tr>\n",
       "      <th>48</th>\n",
       "      <td>48.0</td>\n",
       "      <td>GB Pant Hospital</td>\n",
       "      <td>Rajendra Nagar, Phone: 23233001</td>\n",
       "    </tr>\n",
       "    <tr>\n",
       "      <th>49</th>\n",
       "      <td>49.0</td>\n",
       "      <td>Metro Heart Institute</td>\n",
       "      <td>14, Ring Road,Lajpat Nagar 4, Phone: 26461157,...</td>\n",
       "    </tr>\n",
       "    <tr>\n",
       "      <th>50</th>\n",
       "      <td>50.0</td>\n",
       "      <td>Fortis Hospital</td>\n",
       "      <td>B-22, Sector 62, Noida, Phone: 9810736503, 981...</td>\n",
       "    </tr>\n",
       "  </tbody>\n",
       "</table>\n",
       "</div>"
      ],
      "text/plain": [
       "    Unnamed: 0                    Hospitals with Complete Address  \\\n",
       "0          1.0            All India Institute of Medical Sciences   \n",
       "1          2.0                               Holy Family Hospital   \n",
       "2          3.0            Central Research Institute for Ayurveda   \n",
       "3          4.0                                 Ganga Ram Hospital   \n",
       "4          5.0                                   Majidia Hospital   \n",
       "5          6.0                       B.L.Kapoor Memorial Hospital   \n",
       "6          7.0                                 Jessa Ram Hospital   \n",
       "7          8.0               Attar Singh Jain Charitable Hospital   \n",
       "8          9.0                 Sundarlal Jain Charitable Hospital   \n",
       "9         10.0                           Tirath Ram Shah Hospital   \n",
       "10        11.0                                   Jivodhya Mission   \n",
       "11        12.0                       Hamdarad Clinic and Hospital   \n",
       "12        13.0                      City Clinic and Nurshing Home   \n",
       "13        14.0                               Holy Angels Hospital   \n",
       "14        15.0                            Mother & Child Hospital   \n",
       "15        16.0                                  Mohinder Hospital   \n",
       "16        17.0    Sitaram Bhartia Institute of Science & Research   \n",
       "17        18.0                                Vasant Lok Hospital   \n",
       "18        19.0                           Deepak Memorial Hospital   \n",
       "19        20.0                            Narender Mohan Hospital   \n",
       "20        21.0           Batra Hospital & Medical Research Centre   \n",
       "21        22.0              Escorts Hospital and Research Centre,   \n",
       "22        23.0                Dr.Anand's Ultrasound and C.T.Scan.   \n",
       "23        24.0                                     Anand Hospital   \n",
       "24        25.0  GMR Institute of Imaging Research,MRI Scan Centre   \n",
       "25        26.0                        Medical Laboratory Services   \n",
       "26        27.0            South Delhi Ultrasound and X-Ray Clinic   \n",
       "27        28.0              G.M.Modi Hospital and Research Centre   \n",
       "28        29.0                             Jaipur Golden Hospital   \n",
       "29        30.0                       Indraprastha Apollo Hospital   \n",
       "30        31.0                           Delhi C.T. & MRI Centre,   \n",
       "31        32.0     Dharmshila Cancer Hospital and Research Centre   \n",
       "32        33.0                D.R.Handa X-Ray & Diagnostic Centre   \n",
       "33        34.0                               St.Stephens Hospital   \n",
       "34        35.0        Escorts Heart Institute and Research Centre   \n",
       "35        36.0       National Heart Institute and Research Centre   \n",
       "36        37.0                        All Primary Health Centres.   \n",
       "37        38.0           Charitable Hospitals reconised under law   \n",
       "38         NaN  Any other Hospital/Institute with the approval...   \n",
       "39        39.0  Rajiv Gandhi Cancer Institute and Research Centre   \n",
       "40        40.0      Arya Vaidya Sala Hospital and Research Centre   \n",
       "41        41.0                                Amar Leela Hospital   \n",
       "42        42.0                   Dr.Shroff's Charity Eye Hospital   \n",
       "43        43.0                                       Heart Centre   \n",
       "44        44.0  Umkal Hospital and M. P. Heart Research Institute   \n",
       "45        45.0                                   Kalyani Hospital   \n",
       "46        46.0                                  Rockland Hospital   \n",
       "47        47.0                      Max Health Care Institute Ltd   \n",
       "48        48.0                                   GB Pant Hospital   \n",
       "49        49.0                              Metro Heart Institute   \n",
       "50        50.0                                    Fortis Hospital   \n",
       "\n",
       "                    Hospitals with Complete Address.1  \n",
       "0                      Ansari Nagar, New Delhi–110029  \n",
       "1           Okhla Road, Kamla Nagar, New Delhi-110025  \n",
       "2         Road. No.66, Punjabi Bagh, New Delhi-110026  \n",
       "3                    Rajinder Nagar, New Delhi-110060  \n",
       "4      Jamia Humderd, Hamdard Nagar, New Delhi-110062  \n",
       "5       5, Pusa Road, Rajendra Place New Delhi-110060  \n",
       "6        DICS Pusa Road, Karol Bagh, New Delhi-110005  \n",
       "7                                               Delhi  \n",
       "8                                               Delhi  \n",
       "9   2, R.B.L.Isher Das Sawhney Marg, Rajpur Road, ...  \n",
       "10                                 Ashok Vihar, Delhi  \n",
       "11                               Asaf Ali Road, Delhi  \n",
       "12                               Asaf Ali Road, Delhi  \n",
       "13  Plot B, Community Centre Basant Lok, Vasant Vi...  \n",
       "14  C-6/8, Safderjung Development Area,(Near IIT F...  \n",
       "15      C-5, Green Park Extension, NEW DELHI- 110016.  \n",
       "16  B-16, Merhrauli Institutional Area, (Near Quta...  \n",
       "17                    Vasant Vihar, NEW DELHI-110057.  \n",
       "18                         Karkardooma, Delhi -l10092  \n",
       "19  Mohan Nagar, Ghaziabad, U.P. (Both Specialised...  \n",
       "20  1, Tughlakabad Industrial Area, M.B. Road, New...  \n",
       "21  FARIDABAD (Haryana) (General purpose treatment...  \n",
       "22  F-24, Preet Vihar, Vikas Marg, DELHI-110 092 U...  \n",
       "23  21 Community Centre, Preet Vihar, DELHI-110 09...  \n",
       "24  35-B, Pusa Road, New Delhi (Ultrasound, X-Ray ...  \n",
       "25                      E-67, Saket, New Delhi110 017  \n",
       "26  A-44, Hauz Khas, New Delhi 110016 (X-Ray and U...  \n",
       "27  Mandir Marg, Saket, New Delhi110017 (General P...  \n",
       "28  2, Instituional Area, Rohini, New Delhi-110 03...  \n",
       "29  Sarita Vihar, Delhi-Mathura Road, New Delhi-11...  \n",
       "30  Aashlok Hospital, 25-A, Block A-B Community Ce...  \n",
       "31                  Vasundhara Enclave, DELHI-110 096  \n",
       "32  B-87 Defence Colony, (Near Andrews Ganj Crossi...  \n",
       "33  Tis Hazari Court, DELHI-110 054 (All purposes ...  \n",
       "34  Okhla, New Delhi-110 065 (Cardiology, Cardioth...  \n",
       "35  Sapna Commercial Complex, New Delhi-110 065 (C...  \n",
       "36                        All Primary Health Centres.  \n",
       "37           Charitable Hospitals reconised under law  \n",
       "38  Any other Hospital/Institute with the approval...  \n",
       "39                                             Rohini  \n",
       "40  Karkardooma and South Extension, Part-1, New D...  \n",
       "41                       B-1/6, Janak puri, New Delhi  \n",
       "42                   5027, Kedarnath Road, Dariyaganj  \n",
       "43          2, Ring Road, Lajpat Nagar -IV, New Delhi  \n",
       "44                          A520, Susant Lok. Gurgoan  \n",
       "45                       354/2 Mehrauli Road, Gurgaon  \n",
       "46                    33, 34 Qutub Institutional Area  \n",
       "47  Max Devki Heart & Vescular Institute, Saket Ma...  \n",
       "48                    Rajendra Nagar, Phone: 23233001  \n",
       "49  14, Ring Road,Lajpat Nagar 4, Phone: 26461157,...  \n",
       "50  B-22, Sector 62, Noida, Phone: 9810736503, 981...  "
      ]
     },
     "execution_count": 36,
     "metadata": {},
     "output_type": "execute_result"
    }
   ],
   "source": [
    "df2[0]"
   ]
  },
  {
   "cell_type": "code",
   "execution_count": 37,
   "metadata": {},
   "outputs": [
    {
     "ename": "HTTPError",
     "evalue": "HTTP Error 403: Forbidden",
     "output_type": "error",
     "traceback": [
      "\u001b[1;31m---------------------------------------------------------------------------\u001b[0m",
      "\u001b[1;31mHTTPError\u001b[0m                                 Traceback (most recent call last)",
      "\u001b[1;32m<ipython-input-37-49ffdb6ce056>\u001b[0m in \u001b[0;36m<module>\u001b[1;34m\u001b[0m\n\u001b[0;32m      3\u001b[0m \u001b[1;32mfrom\u001b[0m \u001b[0mbs4\u001b[0m \u001b[1;32mimport\u001b[0m \u001b[0mBeautifulSoup\u001b[0m\u001b[1;33m\u001b[0m\u001b[1;33m\u001b[0m\u001b[0m\n\u001b[0;32m      4\u001b[0m \u001b[0murl3\u001b[0m\u001b[1;33m=\u001b[0m\u001b[1;34m\"https://www.nationsonline.org/oneworld/language_code.htm\"\u001b[0m\u001b[1;33m\u001b[0m\u001b[1;33m\u001b[0m\u001b[0m\n\u001b[1;32m----> 5\u001b[1;33m \u001b[0mdf3\u001b[0m\u001b[1;33m=\u001b[0m\u001b[0mpd\u001b[0m\u001b[1;33m.\u001b[0m\u001b[0mread_html\u001b[0m\u001b[1;33m(\u001b[0m\u001b[0murl3\u001b[0m\u001b[1;33m)\u001b[0m\u001b[1;33m\u001b[0m\u001b[1;33m\u001b[0m\u001b[0m\n\u001b[0m",
      "\u001b[1;32mc:\\python37\\lib\\site-packages\\pandas\\io\\html.py\u001b[0m in \u001b[0;36mread_html\u001b[1;34m(io, match, flavor, header, index_col, skiprows, attrs, parse_dates, thousands, encoding, decimal, converters, na_values, keep_default_na, displayed_only)\u001b[0m\n\u001b[0;32m   1103\u001b[0m         \u001b[0mna_values\u001b[0m\u001b[1;33m=\u001b[0m\u001b[0mna_values\u001b[0m\u001b[1;33m,\u001b[0m\u001b[1;33m\u001b[0m\u001b[1;33m\u001b[0m\u001b[0m\n\u001b[0;32m   1104\u001b[0m         \u001b[0mkeep_default_na\u001b[0m\u001b[1;33m=\u001b[0m\u001b[0mkeep_default_na\u001b[0m\u001b[1;33m,\u001b[0m\u001b[1;33m\u001b[0m\u001b[1;33m\u001b[0m\u001b[0m\n\u001b[1;32m-> 1105\u001b[1;33m         \u001b[0mdisplayed_only\u001b[0m\u001b[1;33m=\u001b[0m\u001b[0mdisplayed_only\u001b[0m\u001b[1;33m,\u001b[0m\u001b[1;33m\u001b[0m\u001b[1;33m\u001b[0m\u001b[0m\n\u001b[0m\u001b[0;32m   1106\u001b[0m     )\n",
      "\u001b[1;32mc:\\python37\\lib\\site-packages\\pandas\\io\\html.py\u001b[0m in \u001b[0;36m_parse\u001b[1;34m(flavor, io, match, attrs, encoding, displayed_only, **kwargs)\u001b[0m\n\u001b[0;32m    910\u001b[0m             \u001b[1;32mbreak\u001b[0m\u001b[1;33m\u001b[0m\u001b[1;33m\u001b[0m\u001b[0m\n\u001b[0;32m    911\u001b[0m     \u001b[1;32melse\u001b[0m\u001b[1;33m:\u001b[0m\u001b[1;33m\u001b[0m\u001b[1;33m\u001b[0m\u001b[0m\n\u001b[1;32m--> 912\u001b[1;33m         \u001b[0mraise_with_traceback\u001b[0m\u001b[1;33m(\u001b[0m\u001b[0mretained\u001b[0m\u001b[1;33m)\u001b[0m\u001b[1;33m\u001b[0m\u001b[1;33m\u001b[0m\u001b[0m\n\u001b[0m\u001b[0;32m    913\u001b[0m \u001b[1;33m\u001b[0m\u001b[0m\n\u001b[0;32m    914\u001b[0m     \u001b[0mret\u001b[0m \u001b[1;33m=\u001b[0m \u001b[1;33m[\u001b[0m\u001b[1;33m]\u001b[0m\u001b[1;33m\u001b[0m\u001b[1;33m\u001b[0m\u001b[0m\n",
      "\u001b[1;32mc:\\python37\\lib\\site-packages\\pandas\\compat\\__init__.py\u001b[0m in \u001b[0;36mraise_with_traceback\u001b[1;34m(exc, traceback)\u001b[0m\n\u001b[0;32m     45\u001b[0m     \u001b[1;32mif\u001b[0m \u001b[0mtraceback\u001b[0m \u001b[1;33m==\u001b[0m \u001b[0mEllipsis\u001b[0m\u001b[1;33m:\u001b[0m\u001b[1;33m\u001b[0m\u001b[1;33m\u001b[0m\u001b[0m\n\u001b[0;32m     46\u001b[0m         \u001b[0m_\u001b[0m\u001b[1;33m,\u001b[0m \u001b[0m_\u001b[0m\u001b[1;33m,\u001b[0m \u001b[0mtraceback\u001b[0m \u001b[1;33m=\u001b[0m \u001b[0msys\u001b[0m\u001b[1;33m.\u001b[0m\u001b[0mexc_info\u001b[0m\u001b[1;33m(\u001b[0m\u001b[1;33m)\u001b[0m\u001b[1;33m\u001b[0m\u001b[1;33m\u001b[0m\u001b[0m\n\u001b[1;32m---> 47\u001b[1;33m     \u001b[1;32mraise\u001b[0m \u001b[0mexc\u001b[0m\u001b[1;33m.\u001b[0m\u001b[0mwith_traceback\u001b[0m\u001b[1;33m(\u001b[0m\u001b[0mtraceback\u001b[0m\u001b[1;33m)\u001b[0m\u001b[1;33m\u001b[0m\u001b[1;33m\u001b[0m\u001b[0m\n\u001b[0m\u001b[0;32m     48\u001b[0m \u001b[1;33m\u001b[0m\u001b[0m\n\u001b[0;32m     49\u001b[0m \u001b[1;33m\u001b[0m\u001b[0m\n",
      "\u001b[1;31mHTTPError\u001b[0m: HTTP Error 403: Forbidden"
     ]
    }
   ],
   "source": [
    "import html5lib\n",
    "import lxml\n",
    "from bs4 import BeautifulSoup\n",
    "url3=\"https://www.nationsonline.org/oneworld/language_code.htm\"\n",
    "df3=pd.read_html(url3)"
   ]
  },
  {
   "cell_type": "code",
   "execution_count": null,
   "metadata": {},
   "outputs": [],
   "source": [
    "df3[0]"
   ]
  },
  {
   "cell_type": "code",
   "execution_count": null,
   "metadata": {},
   "outputs": [],
   "source": [
    "# ! pip install html5lib\n",
    "# !pip install lxml\n",
    "# ! pip install BeautifulSoup4"
   ]
  },
  {
   "cell_type": "code",
   "execution_count": 3,
   "metadata": {},
   "outputs": [
    {
     "name": "stdout",
     "output_type": "stream",
     "text": [
      "iGnani\n"
     ]
    }
   ],
   "source": [
    "print('iGnani'.translate({'i':'1','G':'2','n':'3','a':'4','n':'5','i':'6'}))"
   ]
  },
  {
   "cell_type": "code",
   "execution_count": 4,
   "metadata": {},
   "outputs": [
    {
     "name": "stdout",
     "output_type": "stream",
     "text": [
      "iGyiGyiGpyppy\n"
     ]
    }
   ],
   "source": [
    "print('pyypyypypyppy'.replace('py','iG',3))"
   ]
  },
  {
   "cell_type": "code",
   "execution_count": 5,
   "metadata": {},
   "outputs": [
    {
     "name": "stdout",
     "output_type": "stream",
     "text": [
      "The sum of 5 and 10 is 15\n"
     ]
    }
   ],
   "source": [
    "print('The sum of {0} and {1} is {2}'.format(5,10,15))"
   ]
  },
  {
   "cell_type": "code",
   "execution_count": 6,
   "metadata": {},
   "outputs": [
    {
     "name": "stdout",
     "output_type": "stream",
     "text": [
      "{75: 49, 76: 50, 77: 51}\n"
     ]
    }
   ],
   "source": [
    "print('KLM'.maketrans('KLM','123'))"
   ]
  },
  {
   "cell_type": "code",
   "execution_count": 7,
   "metadata": {},
   "outputs": [
    {
     "name": "stdout",
     "output_type": "stream",
     "text": [
      "\\npython\n"
     ]
    }
   ],
   "source": [
    "print(r'\\npython')"
   ]
  },
  {
   "cell_type": "code",
   "execution_count": 10,
   "metadata": {},
   "outputs": [],
   "source": [
    "x=(round(4.6)-round(-4.5))"
   ]
  },
  {
   "cell_type": "code",
   "execution_count": 11,
   "metadata": {},
   "outputs": [
    {
     "data": {
      "text/plain": [
       "9"
      ]
     },
     "execution_count": 11,
     "metadata": {},
     "output_type": "execute_result"
    }
   ],
   "source": [
    "x"
   ]
  },
  {
   "cell_type": "code",
   "execution_count": 12,
   "metadata": {},
   "outputs": [],
   "source": [
    "x=(round(4.5)-round(-4.5))"
   ]
  },
  {
   "cell_type": "code",
   "execution_count": 14,
   "metadata": {},
   "outputs": [
    {
     "data": {
      "text/plain": [
       "8"
      ]
     },
     "execution_count": 14,
     "metadata": {},
     "output_type": "execute_result"
    }
   ],
   "source": [
    "x"
   ]
  },
  {
   "cell_type": "code",
   "execution_count": 15,
   "metadata": {},
   "outputs": [
    {
     "name": "stdout",
     "output_type": "stream",
     "text": [
      "False\n"
     ]
    }
   ],
   "source": [
    "print('1.1'.isnumeric())"
   ]
  },
  {
   "cell_type": "code",
   "execution_count": 16,
   "metadata": {},
   "outputs": [
    {
     "name": "stdout",
     "output_type": "stream",
     "text": [
      "True\n"
     ]
    }
   ],
   "source": [
    "print('xy'.isalpha())"
   ]
  },
  {
   "cell_type": "code",
   "execution_count": 17,
   "metadata": {},
   "outputs": [
    {
     "ename": "TypeError",
     "evalue": "can only concatenate str (not \"int\") to str",
     "output_type": "error",
     "traceback": [
      "\u001b[1;31m---------------------------------------------------------------------------\u001b[0m",
      "\u001b[1;31mTypeError\u001b[0m                                 Traceback (most recent call last)",
      "\u001b[1;32m<ipython-input-17-a520278ad479>\u001b[0m in \u001b[0;36m<module>\u001b[1;34m\u001b[0m\n\u001b[1;32m----> 1\u001b[1;33m \u001b[0mprint\u001b[0m\u001b[1;33m(\u001b[0m\u001b[1;34m'python'\u001b[0m\u001b[1;33m+\u001b[0m\u001b[1;36m1\u001b[0m\u001b[1;33m+\u001b[0m\u001b[1;36m2\u001b[0m\u001b[1;33m+\u001b[0m\u001b[1;36m3\u001b[0m\u001b[1;33m)\u001b[0m\u001b[1;33m\u001b[0m\u001b[1;33m\u001b[0m\u001b[0m\n\u001b[0m",
      "\u001b[1;31mTypeError\u001b[0m: can only concatenate str (not \"int\") to str"
     ]
    }
   ],
   "source": [
    "print('python'+1+2+3)"
   ]
  },
  {
   "cell_type": "code",
   "execution_count": null,
   "metadata": {},
   "outputs": [],
   "source": []
  }
 ],
 "metadata": {
  "kernelspec": {
   "display_name": "Python 3",
   "language": "python",
   "name": "python3"
  },
  "language_info": {
   "codemirror_mode": {
    "name": "ipython",
    "version": 3
   },
   "file_extension": ".py",
   "mimetype": "text/x-python",
   "name": "python",
   "nbconvert_exporter": "python",
   "pygments_lexer": "ipython3",
   "version": "3.7.4"
  }
 },
 "nbformat": 4,
 "nbformat_minor": 2
}
