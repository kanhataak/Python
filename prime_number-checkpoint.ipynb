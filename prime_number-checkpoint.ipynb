{
 "cells": [
  {
   "cell_type": "code",
   "execution_count": 1,
   "metadata": {},
   "outputs": [
    {
     "name": "stdout",
     "output_type": "stream",
     "text": [
      "[1, 3, 5, 7, 9, 11, 13, 15, 17, 19]\n"
     ]
    }
   ],
   "source": [
    "l=[]\n",
    "for i in range(20):\n",
    "    if i%2 != 0:\n",
    "        l.append(i)\n",
    "print(l)"
   ]
  },
  {
   "cell_type": "code",
   "execution_count": 17,
   "metadata": {},
   "outputs": [
    {
     "name": "stdout",
     "output_type": "stream",
     "text": [
      "enter the number : 198\n",
      "2, 3, 5, 7, 11, 13, 17, 19, 23, 29, 31, 37, 41, 43, 47, 53, 59, 61, 67, 71, 73, 79, 83, 89, 97, 101, 103, 107, 109, 113, 127, 131, 137, 139, 149, 151, 157, 163, 167, 173, 179, 181, 191, 193, 197, "
     ]
    }
   ],
   "source": [
    "a=1\n",
    "b=int(input('enter the number : '))\n",
    "for i in range(a,b+1):\n",
    "    if i>1:\n",
    "        for num in range(2,i):\n",
    "            if i % num ==0:\n",
    "                break\n",
    "        else:\n",
    "            print(i,end=\", \")"
   ]
  },
  {
   "cell_type": "code",
   "execution_count": 9,
   "metadata": {},
   "outputs": [
    {
     "name": "stdout",
     "output_type": "stream",
     "text": [
      "2 3 5 7 9 11 13 15 17 19 "
     ]
    }
   ],
   "source": [
    "b=[1,2,3,4,5,6,7,8,9,10,12,11,13,14,15,16,17,18,19,20]\n",
    "for i in b:\n",
    "    if i > 1:\n",
    "        for num in range(2,i):\n",
    "            if i % 2 ==0:\n",
    "                break\n",
    "        else:\n",
    "            print(i,end=\" \")"
   ]
  },
  {
   "cell_type": "code",
   "execution_count": 14,
   "metadata": {},
   "outputs": [
    {
     "name": "stdout",
     "output_type": "stream",
     "text": [
      "enter the value : 77\n",
      "77 prime number \n"
     ]
    }
   ],
   "source": [
    "p=int(input(\"enter the value : \"))\n",
    "\n",
    "if p%2 != 0 :\n",
    "    if p%3 !=0:\n",
    "        print(p,\"prime number \")\n",
    "    else:\n",
    "        print(p,\"not a prime number \")"
   ]
  },
  {
   "cell_type": "code",
   "execution_count": 6,
   "metadata": {},
   "outputs": [],
   "source": [
    "# import numpy as np\n",
    "# import cv2\n",
    "# image= cv2.imread(\"C:/Users/MR.INDIA/Self_TB/demo.jpg\",0)\n",
    "\n",
    "# height, width = image.shape\n",
    "\n",
    "# sobel_x=cv2.sobel(image,cv2.CV_64F, 0, 1,ksize=5)\n",
    "# sobel_y=cv2.sobel(image,cv2.CV_64F, 1, 0,ksize=5)\n",
    "# cv2.imshow('original', image)\n",
    "# cv2.waitkey(0)\n",
    "# cv2.imshow('sobel x', sobel_x)\n",
    "# cv2.waitkey(0)\n",
    "# cv2.imshow('sobel y', sobel_y)\n",
    "# cv2.waitkey(0)\n",
    "\n",
    "# sobel_OR = cv2.bitwise_or(sobel_x, sobel_y)\n",
    "# cv2.imshow(\"sobel_OR\", sobel_OR)\n",
    "# cv2.waitkey(0)\n",
    "\n",
    "# laplacian=cv2.Laplacian(image,cv2.CV_64F)\n",
    "# cv2.imshow('Laplacian',laplacian)\n",
    "# cv2.waitkey(0)\n"
   ]
  }
 ],
 "metadata": {
  "kernelspec": {
   "display_name": "Python 3",
   "language": "python",
   "name": "python3"
  },
  "language_info": {
   "codemirror_mode": {
    "name": "ipython",
    "version": 3
   },
   "file_extension": ".py",
   "mimetype": "text/x-python",
   "name": "python",
   "nbconvert_exporter": "python",
   "pygments_lexer": "ipython3",
   "version": "3.7.4"
  }
 },
 "nbformat": 4,
 "nbformat_minor": 2
}
