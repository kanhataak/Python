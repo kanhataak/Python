{
 "cells": [
  {
   "cell_type": "markdown",
   "metadata": {},
   "source": [
    "# List (Mutable)\n",
    "* Denoted by [ ] and items are separated using a ,\n",
    "* Concatenation\n",
    "* Indexing,Slicing\n",
    "* Methods\n",
    "* a =[ ] -> Empty Lis"
   ]
  },
  {
   "cell_type": "code",
   "execution_count": 1,
   "metadata": {},
   "outputs": [
    {
     "name": "stdout",
     "output_type": "stream",
     "text": [
      "[] <class 'list'> 84369856\n"
     ]
    }
   ],
   "source": [
    "a = []\n",
    "# Notice how the type is class list, as everything is an object in Python\n",
    "print(a,type(a),id(a))"
   ]
  },
  {
   "cell_type": "code",
   "execution_count": 2,
   "metadata": {},
   "outputs": [
    {
     "name": "stdout",
     "output_type": "stream",
     "text": [
      "[1, 2, 3, 4, 5, 6, 7, 8]\n",
      "[1, 2, 3, 'hii', 'Hello', [9, 8, 7]] <class 'list'> 103565712\n"
     ]
    }
   ],
   "source": [
    "# Homogenous data -> Same type\n",
    "l=[1,2,3,4,5,6,7,8]\n",
    "print(l)\n",
    "\n",
    "# Heterogenous Data -> Multiple types\n",
    "\n",
    "l=[1,2,3,'hii','Hello',[9,8,7]]\n",
    "print(l, type(l), id(l))"
   ]
  },
  {
   "cell_type": "code",
   "execution_count": 3,
   "metadata": {},
   "outputs": [
    {
     "name": "stdout",
     "output_type": "stream",
     "text": [
      "[1, 2, 3, 4, 5] [6, 7, 8, 9, 10] 103566552 103566512\n",
      "[1, 2, 3, 4, 5, 6, 7, 8, 9, 10] 103566672\n",
      "[9, 8, 7, 6, 'I', 'Love', 'learning']\n"
     ]
    }
   ],
   "source": [
    "# Concatenation\n",
    "# It change sthe address(id) value as it reinitializes the varible\n",
    "l1=[1,2,3,4,5]\n",
    "l2=[6,7,8,9,10]\n",
    "print(l1,l2, id(l1), id(l2))\n",
    "\n",
    "l3 = l1 + l2\n",
    "print(l3, id(l3))\n",
    "\n",
    "ln=[9,8,7,6]\n",
    "ls=['I','Love','learning']\n",
    "\n",
    "lns=ln+ls\n",
    "\n",
    "print(lns)"
   ]
  },
  {
   "cell_type": "markdown",
   "metadata": {},
   "source": [
    "# Indexing and Slicing\n",
    "* It works the same way it worked on strings"
   ]
  },
  {
   "cell_type": "code",
   "execution_count": 4,
   "metadata": {},
   "outputs": [
    {
     "name": "stdout",
     "output_type": "stream",
     "text": [
      "pyt\n",
      "yh\n",
      "pyt\n",
      "yh\n",
      "[[1, 2, 3, 4, 5], [12, 13, 14]]\n",
      "[[12, 13, 14]]\n",
      "[12, 13, 14]\n",
      "14\n"
     ]
    }
   ],
   "source": [
    "# obj[start:stop:step]\n",
    "\n",
    "# Here is string slicing\n",
    "s='python'\n",
    "s2=slice(3)\n",
    "\n",
    "print(s[s2])\n",
    "\n",
    "s3=slice(1,4,2)\n",
    "print(s[s3])\n",
    "\n",
    "print(s[:3])\n",
    "\n",
    "print(s[1:4:2])\n",
    "\n",
    "# Now we will see list slicing how can do.\n",
    "l1=[[1,2,3,4,5],[12,13,14]]\n",
    "print(l1)\n",
    "print(l1[1::2])\n",
    "print(l1[1])\n",
    "print(l1[1][-1])"
   ]
  },
  {
   "cell_type": "markdown",
   "metadata": {},
   "source": [
    "# List functions\n",
    "## dir(list) \n",
    "* 'append',\n",
    "*  'clear',\n",
    "*  'copy',\n",
    "*  'count',\n",
    "*  'extend',\n",
    "*  'index',\n",
    "*  'insert',\n",
    "*  'pop',\n",
    "*  'remove',\n",
    "*  'reverse',\n",
    "* 'sort'"
   ]
  },
  {
   "cell_type": "code",
   "execution_count": 5,
   "metadata": {},
   "outputs": [
    {
     "name": "stdout",
     "output_type": "stream",
     "text": [
      "[9, 8, 7, 6, 5, 4]\n",
      "[9, 8, 7, 6, 5, 4, 3]\n"
     ]
    }
   ],
   "source": [
    "# Append method adds items to end of the list\n",
    "\n",
    "mylist=[9,8,7,6,5,4]\n",
    "print(mylist)\n",
    "\n",
    "mylist.append(3)\n",
    "print(mylist)"
   ]
  },
  {
   "cell_type": "code",
   "execution_count": 6,
   "metadata": {},
   "outputs": [
    {
     "name": "stdout",
     "output_type": "stream",
     "text": [
      "[]\n",
      "['Hello', 'Good', 1, 2, 3, 12, 45, 1, 78] 2\n"
     ]
    }
   ],
   "source": [
    "#  Clear deletes the entire list and gives us an empty list\n",
    "mylist=[9,8,7,6,5,4]\n",
    "mylist.clear()\n",
    "print(mylist)\n",
    "\n",
    "# count()method\n",
    "li=['Hello','Good',1,2,3,12,45,1,78]\n",
    "print(li,li.count(1))\n"
   ]
  },
  {
   "cell_type": "code",
   "execution_count": 7,
   "metadata": {},
   "outputs": [
    {
     "name": "stdout",
     "output_type": "stream",
     "text": [
      "[9, 8, 7, 4, 5, 6] 103579696\n",
      "[6, 5, 4, 7, 8, 9, [3, 2, 1, 6, 4]] 103579696\n",
      "[9, 8, 7, 6, 4, 5, 6]\n",
      "[9, 8, 7, 6, [1, 2, 3, 4], 4, 5, 6]\n",
      "['hii', 9, 8, 7, 6, [1, 2, 3, 4], 4, 5, 6]\n"
     ]
    }
   ],
   "source": [
    "# Insert method ads item to the index position mentioned.\n",
    "# index(index,value)\n",
    "a=[9,8,7,4,5,6]\n",
    "b=[6,5,4,7,8,9,[3,2,1,6,4]]\n",
    "print(a,id(a))\n",
    "print(b, id(a))\n",
    "\n",
    "a.insert(3,6)\n",
    "print(a)\n",
    "\n",
    "a.insert(4,[1,2,3,4])\n",
    "\n",
    "print(a)\n",
    "a.insert(0,'hii')\n",
    "print(a)"
   ]
  },
  {
   "cell_type": "code",
   "execution_count": 8,
   "metadata": {},
   "outputs": [
    {
     "name": "stdout",
     "output_type": "stream",
     "text": [
      "['Hello', 'Hii', 2, 4]\n",
      "['Hello', 'Hii', 2, 3, 4] 103580376\n",
      "['Hello', 2, 3, 4]\n",
      "Hii 103991264\n"
     ]
    }
   ],
   "source": [
    "# Remove method deltes the values passed as an argument\n",
    "# It value does not exist an error is displayed\n",
    "\n",
    "a=['Hello',\"Hii\",2,3,4]\n",
    "a.remove(3)\n",
    "print(a)\n",
    "\n",
    "# Pop method removes the item at particular index; by default last\n",
    "a=['Hello',\"Hii\",2,3,4]\n",
    "print(a,id(a))\n",
    "b=a.pop(1)\n",
    "print(a)\n",
    "print(b,id(b))\n"
   ]
  },
  {
   "cell_type": "code",
   "execution_count": 9,
   "metadata": {},
   "outputs": [
    {
     "name": "stdout",
     "output_type": "stream",
     "text": [
      "[1, 2, 3, 4, 5] 106444560\n",
      "[6, 7, 8, 9] 106444520\n",
      "[1, 2, 3, 4, 5, 6, 7, 8, 9] 103580376\n",
      "[1, 2, 3, 4, 5] 106444640\n",
      "[6, 7, 8, 9] 106444760\n",
      "[1, 2, 3, 4, 5, 6, 7, 8, 9] 106444640\n"
     ]
    }
   ],
   "source": [
    "# Extend method concatenates without changing the orginal address\n",
    "a=[1,2,3,4,5]\n",
    "b=[6,7,8,9]\n",
    "c=a+b\n",
    "print(a,id(a))\n",
    "print(b,id(b))\n",
    "print(c,id(c))\n",
    "\n",
    "# using extend method\n",
    "a=[1,2,3,4,5]\n",
    "b=[6,7,8,9]\n",
    "print(a,id(a))\n",
    "print(b,id(b))\n",
    "a.extend(b)\n",
    "print(a,id(a))"
   ]
  },
  {
   "cell_type": "code",
   "execution_count": 10,
   "metadata": {},
   "outputs": [
    {
     "name": "stdout",
     "output_type": "stream",
     "text": [
      "[1, 2, 3, 4, 5]\n",
      "Using Slicing list reverse :  [5, 4, 3, 2, 1]\n",
      "[1, 2, 3, 4, 5]\n",
      "Reverse method list reverse :  [5, 4, 3, 2, 1]\n"
     ]
    }
   ],
   "source": [
    "# reverse method\n",
    "a=[1,2,3,4,5]\n",
    "print(a)\n",
    "print('Using Slicing list reverse : ',a[::-1]) # slicing\n",
    "\n",
    "# using reverse method\n",
    "a=[1,2,3,4,5]\n",
    "print(a)\n",
    "a.reverse()\n",
    "print('Reverse method list reverse : ',a)"
   ]
  },
  {
   "cell_type": "markdown",
   "metadata": {},
   "source": [
    "# sorting a list"
   ]
  },
  {
   "cell_type": "code",
   "execution_count": 21,
   "metadata": {},
   "outputs": [
    {
     "name": "stdout",
     "output_type": "stream",
     "text": [
      "[1, 2, 2, 3, 3, 4, 4, 4, 5, 5, 6, 7, 8, 9, 21, 97]\n",
      "['python', 'java', 'C++', 'C', 'Ruby']\n",
      "['C', 'C++', 'java', 'Ruby', 'python']\n",
      "['python', 'Ruby', 'java', 'C++', 'C']\n"
     ]
    }
   ],
   "source": [
    "sortlist=[5,4,21,97,8,2,1,3,4,9,7,5,2,3,4,6]\n",
    "sortlist.sort()\n",
    "print(sortlist)\n",
    "\n",
    "sortlist_str=['python','java','C++','C','Ruby']\n",
    "print(sortlist_str)\n",
    "\n",
    "# Key argument is used to customize the sort order\n",
    "# We are now sorting using length of the items\n",
    "sortlist_str.sort(key=len)\n",
    "print(sortlist_str)\n",
    "print(sortlist_str[::-1])"
   ]
  },
  {
   "cell_type": "markdown",
   "metadata": {},
   "source": [
    "# Shallow Copy\n",
    "* This is required so that we can create a copy of the original list and do not modify it using another variable.\n",
    "\n",
    "* Example :"
   ]
  },
  {
   "cell_type": "code",
   "execution_count": 33,
   "metadata": {},
   "outputs": [
    {
     "name": "stdout",
     "output_type": "stream",
     "text": [
      "[2, 1, 3, 5, 4, 6] 103565832 [2, 1, 3, 5, 4, 6] 103565832\n",
      "True\n",
      "True\n",
      "[2, 8, 3, 5, 4, 6] [2, 8, 3, 5, 4, 6]\n"
     ]
    }
   ],
   "source": [
    "a=[2,1,3,5,4,6]\n",
    "b=a # b is a reference to a\n",
    "\n",
    "print(a,id(a),b,id(b))\n",
    "print(a == b)\n",
    "print(a is b)\n",
    "b[1]=8\n",
    "# You can see that both list a and b gets modified\n",
    "print(a,b)"
   ]
  },
  {
   "cell_type": "code",
   "execution_count": 34,
   "metadata": {},
   "outputs": [
    {
     "name": "stdout",
     "output_type": "stream",
     "text": [
      "[2, 1, 3, 5, 4, 6] 106444680 [2, 1, 3, 5, 4, 6] 103579896\n",
      "True\n",
      "False\n",
      "[2, 1, 3, 5, 4, 6] [2, 8, 3, 5, 4, 6]\n"
     ]
    }
   ],
   "source": [
    "a=[2,1,3,5,4,6]\n",
    "b=a.copy() # b is a shallow copy of a\n",
    "\n",
    "print(a,id(a),b,id(b))\n",
    "print(a == b)\n",
    "print(a is b)\n",
    "b[1]=8\n",
    "# Only b gets modified\n",
    "print(a,b)"
   ]
  },
  {
   "cell_type": "markdown",
   "metadata": {},
   "source": [
    "# Tuples (Immutable Lists)\n",
    "* Denoted by ( ) and items are separated using a ,\n",
    "* Concatenation\n",
    "* Indexing, SLicing\n",
    "* Methods -> Count, Index\n",
    "* Genrally faster than lists"
   ]
  },
  {
   "cell_type": "markdown",
   "metadata": {},
   "source": [
    "## Tuple Functions in Python\n",
    "### Tuple Function\tDescription\n",
    "### all()\tsequence के सभी items True होते है तो ये तो ये True return करता है |\n",
    "### any()\tsequence का एक या सभी items True होते है तो ये तो ये True return करता है |\n",
    "### enumerate()\tदिए गए start से index और उसकी value की pair return करता है |\n",
    "### len()\tदिए गए tuple की length; number में return करता है |\n",
    "### max()\tदिए गए tuple से max value को return करता है |\n",
    "### min()\tदिए गए tuple से min value को return करता है |\n",
    "### sorted()\tदिए गए sequence को sort करके return करता है |\n",
    "### sum()\tदिए गए sequence के items को add करके उनका sum return करता है |\n",
    "### tuple()\tsequence को tuple में convert करता है |"
   ]
  },
  {
   "cell_type": "code",
   "execution_count": 35,
   "metadata": {},
   "outputs": [
    {
     "data": {
      "text/plain": [
       "['__add__',\n",
       " '__class__',\n",
       " '__contains__',\n",
       " '__delattr__',\n",
       " '__dir__',\n",
       " '__doc__',\n",
       " '__eq__',\n",
       " '__format__',\n",
       " '__ge__',\n",
       " '__getattribute__',\n",
       " '__getitem__',\n",
       " '__getnewargs__',\n",
       " '__gt__',\n",
       " '__hash__',\n",
       " '__init__',\n",
       " '__init_subclass__',\n",
       " '__iter__',\n",
       " '__le__',\n",
       " '__len__',\n",
       " '__lt__',\n",
       " '__mul__',\n",
       " '__ne__',\n",
       " '__new__',\n",
       " '__reduce__',\n",
       " '__reduce_ex__',\n",
       " '__repr__',\n",
       " '__rmul__',\n",
       " '__setattr__',\n",
       " '__sizeof__',\n",
       " '__str__',\n",
       " '__subclasshook__',\n",
       " 'count',\n",
       " 'index']"
      ]
     },
     "execution_count": 35,
     "metadata": {},
     "output_type": "execute_result"
    }
   ],
   "source": [
    "dir(tuple)"
   ]
  },
  {
   "cell_type": "code",
   "execution_count": 75,
   "metadata": {},
   "outputs": [
    {
     "name": "stdout",
     "output_type": "stream",
     "text": [
      "(10, 20, 30) <class 'tuple'>\n",
      "() <class 'tuple'>\n",
      "(9, 5, 4, 6, 8) <class 'tuple'>\n",
      "('Python', (5, 4, 6), 4, 5, [12, 13, 14], 4.6, 7) <class 'tuple'>\n",
      "2\n",
      "('Python', (5, 4, 6), [12, 13, 14], 4.6)\n",
      "14\n",
      "2\n",
      "1 5\n"
     ]
    }
   ],
   "source": [
    "a = (10,20,30)\n",
    "print(a,type(a))\n",
    "# Below statement will give an error as tuples are immutable\n",
    "# a[0] = 40\n",
    "# print(a) #'tuple' object does not support item assignment \n",
    "\n",
    "t=()\n",
    "print(t,type(t))\n",
    "\n",
    "t=(9,5,4,6,8)\n",
    "print(t,type(t))\n",
    "\n",
    "t=('Python',(5,4,6),4,5,[12,13,14],4.6,7)\n",
    "print(t,type(t))\n",
    "\n",
    "t=(9,5,4,6,8)\n",
    "print(t.index(4))\n",
    "\n",
    "t=('Python',(5,4,6),[12,13,14],4.6,7)\n",
    "print(t[0:4])\n",
    "print(t[2][2])\n",
    "\n",
    "# count\n",
    "t=(1,2,4,5,1,2,4,6,87,9,1,2,5)\n",
    "print(t.count(5))\n",
    "print(t[0],t[-1])"
   ]
  },
  {
   "cell_type": "code",
   "execution_count": 76,
   "metadata": {},
   "outputs": [
    {
     "name": "stdout",
     "output_type": "stream",
     "text": [
      "('r', 'o', 'g')\n",
      "('p', 'r')\n",
      "('i', 'z')\n",
      "('p', 'r', 'o', 'g', 'r', 'a', 'm', 'i', 'z')\n"
     ]
    }
   ],
   "source": [
    "my_tuple = ('p','r','o','g','r','a','m','i','z')\n",
    "\n",
    "# elements 2nd to 4th\n",
    "# Output: ('r', 'o', 'g')\n",
    "print(my_tuple[1:4])\n",
    "\n",
    "# elements beginning to 2nd\n",
    "# Output: ('p', 'r')\n",
    "print(my_tuple[:-7])\n",
    "\n",
    "# elements 8th to end\n",
    "# Output: ('i', 'z')\n",
    "print(my_tuple[7:])\n",
    "\n",
    "# elements beginning to end\n",
    "# Output: ('p', 'r', 'o', 'g', 'r', 'a', 'm', 'i', 'z')\n",
    "print(my_tuple[:])"
   ]
  },
  {
   "cell_type": "code",
   "execution_count": 77,
   "metadata": {},
   "outputs": [
    {
     "name": "stdout",
     "output_type": "stream",
     "text": [
      "2\n",
      "3\n"
     ]
    }
   ],
   "source": [
    "my_tuple = ('a','p','p','l','e',)\n",
    "\n",
    "print(my_tuple.count('p'))  # Output: 2\n",
    "print(my_tuple.index('l'))  # Output: 3"
   ]
  },
  {
   "cell_type": "code",
   "execution_count": 13,
   "metadata": {},
   "outputs": [
    {
     "name": "stdout",
     "output_type": "stream",
     "text": [
      "{1, 2, 3, 4, 5}\n"
     ]
    }
   ],
   "source": [
    "# remove duplicate keys in list\n",
    "mylist=[1,2,3,4,3,5,2,1,2]\n",
    "list1=(set(mylist))\n",
    "print(list1)"
   ]
  },
  {
   "cell_type": "code",
   "execution_count": 14,
   "metadata": {},
   "outputs": [
    {
     "name": "stdout",
     "output_type": "stream",
     "text": [
      "1 1 2 3 5 8 13 21 34 \n"
     ]
    }
   ],
   "source": [
    "# The famous fibonnacci sequence, this time using.\n",
    "# a For Loop to produce it...\n",
    "a=1\n",
    "b=1\n",
    "for c in range(1,10):\n",
    "    print(a,end=\" \")\n",
    "    n=a + b\n",
    "    a = b\n",
    "    b = n\n",
    "print(\"\")"
   ]
  },
  {
   "cell_type": "code",
   "execution_count": 1,
   "metadata": {},
   "outputs": [],
   "source": [
    "# mistakes\n",
    "# you make in college\n",
    "# 1 foucusing too much on cgpa\n",
    "# 2 not developing communication skills\n",
    "# 3 rote learning and last night study \n",
    "# 4 not doing internships and projects\n",
    "# 5 not using internet resources effectively\n",
    "#   Do you agree?"
   ]
  },
  {
   "cell_type": "code",
   "execution_count": null,
   "metadata": {},
   "outputs": [],
   "source": [
    "def fun_range(i,x[]):\n",
    "    x.append(i)\n",
    "    return x\n",
    "for i in range(3):\n",
    "    "
   ]
  }
 ],
 "metadata": {
  "kernelspec": {
   "display_name": "Python 3",
   "language": "python",
   "name": "python3"
  },
  "language_info": {
   "codemirror_mode": {
    "name": "ipython",
    "version": 3
   },
   "file_extension": ".py",
   "mimetype": "text/x-python",
   "name": "python",
   "nbconvert_exporter": "python",
   "pygments_lexer": "ipython3",
   "version": "3.7.4"
  }
 },
 "nbformat": 4,
 "nbformat_minor": 2
}
