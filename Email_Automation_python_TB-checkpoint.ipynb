{
 "cells": [
  {
   "cell_type": "code",
   "execution_count": 1,
   "metadata": {},
   "outputs": [],
   "source": [
    "# import sys\n",
    "# !{sys.executable} -m pip install selenium"
   ]
  },
  {
   "cell_type": "code",
   "execution_count": 9,
   "metadata": {},
   "outputs": [],
   "source": [
    "from selenium import webdriver\n",
    "import time\n",
    "driver = webdriver.Chrome(r'D:\\\\chromedriver.exe')\n",
    "\n",
    "driver.maximize_window()\n",
    "url='https://www.gmail.com'\n",
    "\n",
    "driver.get(url)\n",
    "time.sleep(2)\n",
    "a = driver.find_element_by_name(\"identifier\") \n",
    "a.send_keys('kanhataak97@gmail.com')\n",
    "\n",
    "d = driver.find_element_by_xpath('//*[@id=\"identifierNext\"]/span').click()\n",
    "time.sleep(3)\n",
    "\n",
    "b = driver.find_element_by_name(\"password\")\n",
    "b.send_keys(\"rajasthan#97\")\n",
    "time.sleep(2)\n",
    "\n",
    "c=driver.find_element_by_xpath('//*[@id=\"passwordNext\"]/span/span').click()\n",
    "\n"
   ]
  },
  {
   "cell_type": "code",
   "execution_count": null,
   "metadata": {},
   "outputs": [],
   "source": []
  }
 ],
 "metadata": {
  "kernelspec": {
   "display_name": "Python 3",
   "language": "python",
   "name": "python3"
  },
  "language_info": {
   "codemirror_mode": {
    "name": "ipython",
    "version": 3
   },
   "file_extension": ".py",
   "mimetype": "text/x-python",
   "name": "python",
   "nbconvert_exporter": "python",
   "pygments_lexer": "ipython3",
   "version": "3.7.4"
  }
 },
 "nbformat": 4,
 "nbformat_minor": 2
}
