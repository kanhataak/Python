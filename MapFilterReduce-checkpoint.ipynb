{
 "cells": [
  {
   "cell_type": "markdown",
   "metadata": {},
   "source": [
    "### Map filter and Reduce are paradigms of functionl programming.\n",
    "    * They allow the programmer to write simpler and shorter code, without necessarily bother about complexity like loops and branching.\n",
    "    * Essentially these three fun allow u to apply a fun across a number of iterables.\n",
    "    * map and filter come built in with python \n",
    "    * Reduce, however needs to be imported as it resides in the fun module.\n",
    "  ## Map()\n",
    "         the map() fun in python has the following syntax.\n",
    "   * map(fun,*iterables)\n",
    "   \n",
    "         "
   ]
  },
  {
   "cell_type": "code",
   "execution_count": 1,
   "metadata": {},
   "outputs": [],
   "source": [
    "friends=['Kanha',\"Sanjeev\",\"Ankit\",'Dinesh'] # names in lower case\n",
    "\n",
    "# Enpty list which will contain name in uppercase\n",
    "friends_uplist=[]\n",
    "for frinend in friends:\n",
    "    friends_uplist.append(frinend.upper())\n",
    "    \n",
    "print(friends_uplist)"
   ]
  },
  {
   "cell_type": "code",
   "execution_count": 2,
   "metadata": {},
   "outputs": [
    {
     "name": "stdout",
     "output_type": "stream",
     "text": [
      "['KANHA', 'SANJEEV', 'ANKIT', 'DINESH']\n"
     ]
    }
   ],
   "source": [
    "friends=['Kanha',\"Sanjeev\",\"Ankit\",'Dinesh']\n",
    "friends_list= list(map(str.upper, friends))\n",
    "print(friends_list)"
   ]
  },
  {
   "cell_type": "code",
   "execution_count": 3,
   "metadata": {},
   "outputs": [
    {
     "name": "stdout",
     "output_type": "stream",
     "text": [
      "[5, 7, 9]\n"
     ]
    }
   ],
   "source": [
    "def add(a,b):\n",
    "    return a+b\n",
    "\n",
    "result= list(map(add, [1,2,3],[4,5,6]))\n",
    "print(result)"
   ]
  },
  {
   "cell_type": "code",
   "execution_count": 4,
   "metadata": {},
   "outputs": [
    {
     "name": "stdout",
     "output_type": "stream",
     "text": [
      "[5, 7, 9]\n"
     ]
    }
   ],
   "source": [
    "re=list(map(lambda a,b: a+b, [1,2,3],[4,5,6]))\n",
    "print(re)"
   ]
  },
  {
   "cell_type": "code",
   "execution_count": 6,
   "metadata": {},
   "outputs": [
    {
     "name": "stdout",
     "output_type": "stream",
     "text": [
      "[1, 4, 16, 25, 36, 49, 16, 1, 4]\n"
     ]
    }
   ],
   "source": [
    "lst=[1,2,4,5,6,7,4,1,2]\n",
    "def sq(a):\n",
    "    return a*a\n",
    "result =list(map(sq, lst))\n",
    "print(result)"
   ]
  },
  {
   "cell_type": "code",
   "execution_count": 12,
   "metadata": {},
   "outputs": [
    {
     "name": "stdout",
     "output_type": "stream",
     "text": [
      "<class 'list'>\n",
      "<class 'str'>\n"
     ]
    }
   ],
   "source": [
    "lst=[1,2,4,5,6,7,4,1,2]\n",
    "result=list(map(lambda a: a*a, lst))\n",
    "print(type(result))\n",
    "finel=str(result)\n",
    "print(type(finel))"
   ]
  },
  {
   "cell_type": "code",
   "execution_count": 14,
   "metadata": {},
   "outputs": [
    {
     "name": "stdout",
     "output_type": "stream",
     "text": [
      "[6, 7, 8, 9, 6]\n"
     ]
    }
   ],
   "source": [
    "# Filter\n",
    "lst=[1,2,4,5,1,2,6,7,8,9,4,2,5,6]\n",
    "def greater_5(num):\n",
    "    return num>5\n",
    "    \n",
    "number=list(filter(greater_5,lst))\n",
    "print(number)"
   ]
  },
  {
   "cell_type": "code",
   "execution_count": 19,
   "metadata": {},
   "outputs": [
    {
     "name": "stdout",
     "output_type": "stream",
     "text": [
      "12\n",
      "12\n"
     ]
    }
   ],
   "source": [
    "# without reduce function\n",
    "lst=[1,2,4,5]\n",
    "n=0\n",
    "for i in lst:\n",
    "     n-=-i\n",
    "print(n)\n",
    "\n",
    "# using reduce fun\n",
    "l=[1,2,4,5]\n",
    "num = reduce(lambda x,y: x+y, l)\n",
    "print(num)"
   ]
  },
  {
   "cell_type": "code",
   "execution_count": null,
   "metadata": {},
   "outputs": [],
   "source": []
  }
 ],
 "metadata": {
  "kernelspec": {
   "display_name": "Python 3",
   "language": "python",
   "name": "python3"
  },
  "language_info": {
   "codemirror_mode": {
    "name": "ipython",
    "version": 3
   },
   "file_extension": ".py",
   "mimetype": "text/x-python",
   "name": "python",
   "nbconvert_exporter": "python",
   "pygments_lexer": "ipython3",
   "version": "3.7.4"
  }
 },
 "nbformat": 4,
 "nbformat_minor": 2
}
